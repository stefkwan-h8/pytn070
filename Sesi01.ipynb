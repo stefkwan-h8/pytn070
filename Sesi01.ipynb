{
 "cells": [
  {
   "cell_type": "code",
   "execution_count": 2,
   "metadata": {},
   "outputs": [
    {
     "name": "stdout",
     "output_type": "stream",
     "text": [
      "halo\n"
     ]
    }
   ],
   "source": [
    "print(\"halo\")"
   ]
  },
  {
   "cell_type": "markdown",
   "metadata": {},
   "source": [
    "# Markdown digunakan untuk menulis notes\n",
    "- bisa google cara tulis markdown\n",
    "- seperti bikin txt tapi bisa di format\n",
    "\n",
    "## sub heading\n",
    "\n",
    "### sub sub heading\n",
    "\n",
    "1. angka urut\n",
    "2. dua\n",
    "3. tiga"
   ]
  },
  {
   "cell_type": "raw",
   "metadata": {},
   "source": [
    "tidak di proses"
   ]
  },
  {
   "cell_type": "markdown",
   "metadata": {},
   "source": [
    "# Python\n",
    "\n",
    "1. tipe data\n",
    "2. syntax pemrograman dasar\n",
    "3. variable\n",
    "\n",
    "## Integer   \n",
    "angka bulat, tanpa koma, contohnya 1, 2, 3"
   ]
  },
  {
   "cell_type": "code",
   "execution_count": 3,
   "metadata": {},
   "outputs": [
    {
     "data": {
      "text/plain": [
       "1"
      ]
     },
     "execution_count": 3,
     "metadata": {},
     "output_type": "execute_result"
    }
   ],
   "source": [
    "1"
   ]
  },
  {
   "cell_type": "code",
   "execution_count": 5,
   "metadata": {},
   "outputs": [
    {
     "name": "stdout",
     "output_type": "stream",
     "text": [
      "1\n",
      "2\n",
      "3\n"
     ]
    }
   ],
   "source": [
    "print(1)\n",
    "print(2)\n",
    "print(3)"
   ]
  },
  {
   "cell_type": "code",
   "execution_count": 6,
   "metadata": {},
   "outputs": [
    {
     "name": "stdout",
     "output_type": "stream",
     "text": [
      "4\n",
      "<class 'int'>\n"
     ]
    }
   ],
   "source": [
    "print(4)\n",
    "print(type(4))"
   ]
  },
  {
   "cell_type": "code",
   "execution_count": 8,
   "metadata": {},
   "outputs": [
    {
     "name": "stdout",
     "output_type": "stream",
     "text": [
      "8271563482174635273654\n",
      "<class 'int'>\n"
     ]
    }
   ],
   "source": [
    "print(8271563482174635273654)\n",
    "print(type(8271563482174635273654))"
   ]
  },
  {
   "cell_type": "markdown",
   "metadata": {},
   "source": [
    "## Float   \n",
    "angka tidak bulat, punya koma, contoh 2.5, 10.3, 17.435"
   ]
  },
  {
   "cell_type": "code",
   "execution_count": 9,
   "metadata": {},
   "outputs": [
    {
     "name": "stdout",
     "output_type": "stream",
     "text": [
      "2.5\n",
      "10.3\n",
      "17.435\n",
      "<class 'float'>\n"
     ]
    }
   ],
   "source": [
    "print(2.5)\n",
    "print(10.3)\n",
    "print(17.435)\n",
    "\n",
    "print(type(17.435))"
   ]
  },
  {
   "cell_type": "markdown",
   "metadata": {},
   "source": [
    "## String   \n",
    "kumpulan karakter, apapun, termasuk angka alfabet simbol spasi dan lainnya. Harus ditutup kutip.\n",
    "- kutip satu '\n",
    "- kutip dua \""
   ]
  },
  {
   "cell_type": "code",
   "execution_count": 13,
   "metadata": {},
   "outputs": [
    {
     "name": "stdout",
     "output_type": "stream",
     "text": [
      "halo\n",
      "halo juga\n",
      "<class 'str'>\n",
      "<class 'str'>\n"
     ]
    }
   ],
   "source": [
    "print('halo')\n",
    "print(\"halo juga\")\n",
    "print(type('hello'))\n",
    "print(type(\"\"))"
   ]
  },
  {
   "cell_type": "code",
   "execution_count": 17,
   "metadata": {},
   "outputs": [
    {
     "name": "stdout",
     "output_type": "stream",
     "text": [
      "Toys 'R ' Us\n",
      "Toys 'R ' Us\n"
     ]
    }
   ],
   "source": [
    "print(\"Toys 'R ' Us\")\n",
    "print('Toys \\'R \\' Us')"
   ]
  },
  {
   "cell_type": "markdown",
   "metadata": {},
   "source": [
    "# Boolean\n",
    "True atau False, tipe data spesial yang hanya menyimpan dua value saja"
   ]
  },
  {
   "cell_type": "code",
   "execution_count": 18,
   "metadata": {},
   "outputs": [
    {
     "name": "stdout",
     "output_type": "stream",
     "text": [
      "True False\n",
      "<class 'bool'> <class 'bool'>\n"
     ]
    }
   ],
   "source": [
    "print(True, False)\n",
    "print(type(True), type(False))"
   ]
  },
  {
   "cell_type": "markdown",
   "metadata": {},
   "source": [
    "### Convert tipe data\n",
    "- int -> float\n",
    "- int -> str\n",
    "- int -> bool\n",
    "- float -> int\n",
    "- float -> str\n",
    "- float -> bool\n",
    ".\n",
    ".\n",
    "."
   ]
  },
  {
   "cell_type": "code",
   "execution_count": 23,
   "metadata": {},
   "outputs": [
    {
     "name": "stdout",
     "output_type": "stream",
     "text": [
      "<class 'int'> 2\n",
      "<class 'str'> 2.5\n",
      "<class 'bool'> True\n",
      "<class 'float'> 2.5\n"
     ]
    }
   ],
   "source": [
    "# contoh, ubah jadi integer\n",
    "print(type(int(2.5)), int(2.5))\n",
    "\n",
    "# ubah jadi string\n",
    "print(type(str(2.5)), str(2.5))\n",
    "\n",
    "# ubah jadi boolean\n",
    "print(type(bool(2.5)), bool(2.5))\n",
    "\n",
    "# tidak di ubah\n",
    "print(type(2.5), 2.5)"
   ]
  },
  {
   "cell_type": "markdown",
   "metadata": {},
   "source": [
    "Konsep Truthy dan Falsy   \n",
    "\n",
    "yang kosong biasanya dianggap False oleh python, seperti string kosong \"\" atau '', angka 0, 0.0, None, dan nantinya di tipe data lainnya yang isinya kosong semua dianggap False.   \n",
    "\n",
    "Selain itu, dianggap True"
   ]
  },
  {
   "cell_type": "code",
   "execution_count": 25,
   "metadata": {},
   "outputs": [
    {
     "data": {
      "text/plain": [
       "123"
      ]
     },
     "execution_count": 25,
     "metadata": {},
     "output_type": "execute_result"
    }
   ],
   "source": [
    "int(\"123\")"
   ]
  },
  {
   "cell_type": "markdown",
   "metadata": {},
   "source": [
    "# Variable\n",
    "seperti memberi nama ke data   \n",
    "data kita sejauh ini tidak punya nama, tidak bisa dipanggil. Dengan membuat variable, kemudian kita simpan datanya ke variable \"assign\" atau \"assign variable\", nanti kita bisa panggil variablenya untuk dapat datanya lagi."
   ]
  },
  {
   "cell_type": "code",
   "execution_count": 26,
   "metadata": {},
   "outputs": [],
   "source": [
    "nama = \"Toys 'R ' Us\""
   ]
  },
  {
   "cell_type": "code",
   "execution_count": 28,
   "metadata": {},
   "outputs": [
    {
     "name": "stdout",
     "output_type": "stream",
     "text": [
      "Toys 'R ' Us\n"
     ]
    }
   ],
   "source": [
    "print(nama)"
   ]
  },
  {
   "cell_type": "code",
   "execution_count": 32,
   "metadata": {},
   "outputs": [],
   "source": [
    "angka = 8"
   ]
  },
  {
   "cell_type": "code",
   "execution_count": 33,
   "metadata": {},
   "outputs": [
    {
     "name": "stdout",
     "output_type": "stream",
     "text": [
      "8\n"
     ]
    }
   ],
   "source": [
    "print(8)"
   ]
  },
  {
   "cell_type": "code",
   "execution_count": 34,
   "metadata": {},
   "outputs": [
    {
     "name": "stdout",
     "output_type": "stream",
     "text": [
      "8\n"
     ]
    }
   ],
   "source": [
    "print(angka)"
   ]
  },
  {
   "cell_type": "code",
   "execution_count": 35,
   "metadata": {},
   "outputs": [
    {
     "name": "stdout",
     "output_type": "stream",
     "text": [
      "15\n"
     ]
    }
   ],
   "source": [
    "print(angka + 7)"
   ]
  },
  {
   "cell_type": "code",
   "execution_count": 40,
   "metadata": {},
   "outputs": [],
   "source": [
    "# variable ini belum ada isinya, kita kasih None\n",
    "toko = None"
   ]
  },
  {
   "cell_type": "code",
   "execution_count": 42,
   "metadata": {},
   "outputs": [],
   "source": [
    "# variable bisa kita ganti isinya, \"re-assign\"\n",
    "toko = \"toko kue kering\""
   ]
  },
  {
   "cell_type": "code",
   "execution_count": 43,
   "metadata": {},
   "outputs": [
    {
     "name": "stdout",
     "output_type": "stream",
     "text": [
      "toko kue kering\n"
     ]
    }
   ],
   "source": [
    "print(toko)"
   ]
  },
  {
   "cell_type": "code",
   "execution_count": 44,
   "metadata": {},
   "outputs": [],
   "source": [
    "toko =123"
   ]
  },
  {
   "cell_type": "code",
   "execution_count": 45,
   "metadata": {},
   "outputs": [
    {
     "name": "stdout",
     "output_type": "stream",
     "text": [
      "123\n"
     ]
    }
   ],
   "source": [
    "print(toko)"
   ]
  },
  {
   "cell_type": "markdown",
   "metadata": {},
   "source": [
    "## Peraturan Variable\n",
    "1. tidak boleh dimulai dengan angka\n",
    "2. saat memberi nama, gunakan snake_case:\n",
    "    - huruf kecil semua, \n",
    "    - spasi digantikan _\n"
   ]
  },
  {
   "cell_type": "code",
   "execution_count": 46,
   "metadata": {},
   "outputs": [],
   "source": [
    "rumah_andi = \"surabaya\""
   ]
  },
  {
   "cell_type": "markdown",
   "metadata": {},
   "source": [
    "## Manipulasi data dengan Operator dan Expressions Python\n",
    "\n",
    "1. Manipulasi angka dengan operator Matematika"
   ]
  },
  {
   "cell_type": "code",
   "execution_count": 54,
   "metadata": {},
   "outputs": [
    {
     "name": "stdout",
     "output_type": "stream",
     "text": [
      "17\n",
      "3\n",
      "70\n",
      "1.4285714285714286\n",
      "3\n",
      "10000000\n"
     ]
    }
   ],
   "source": [
    "# Manipulasi angka dengan operator Matematika\n",
    "a = 10\n",
    "b = 7\n",
    "\n",
    "print(a + b)\n",
    "print(a - b)\n",
    "print(a * b)\n",
    "print(a / b)\n",
    "print(a % b)  # modulo\n",
    "print(a ** b) # pangkat"
   ]
  },
  {
   "cell_type": "code",
   "execution_count": 55,
   "metadata": {},
   "outputs": [
    {
     "data": {
      "text/plain": [
       "11.0"
      ]
     },
     "execution_count": 55,
     "metadata": {},
     "output_type": "execute_result"
    }
   ],
   "source": [
    "a + b - 10 * 3 / 5"
   ]
  },
  {
   "cell_type": "markdown",
   "metadata": {},
   "source": [
    "2. Manipulasi angka dengan operator Pembanding (Comparison)"
   ]
  },
  {
   "cell_type": "code",
   "execution_count": 51,
   "metadata": {},
   "outputs": [
    {
     "name": "stdout",
     "output_type": "stream",
     "text": [
      "True\n",
      "False\n",
      "False\n",
      "False\n",
      "True\n",
      "True\n"
     ]
    }
   ],
   "source": [
    "a = 10\n",
    "b = 10\n",
    "\n",
    "# apakah a sama atau beda dengan b?\n",
    "print(a == b)\n",
    "print(a != b)\n",
    "\n",
    "# apakah a lebih besar/ lebih kecil dengan b?\n",
    "print(a > b)\n",
    "print(a < b)\n",
    "\n",
    "# apakah a lebih besar/ lebih kecil dengan b?\n",
    "print(a >= b)\n",
    "print(a <= b)"
   ]
  },
  {
   "cell_type": "markdown",
   "metadata": {},
   "source": [
    "3. Manipulasi string dengan operator Matematika"
   ]
  },
  {
   "cell_type": "code",
   "execution_count": 56,
   "metadata": {},
   "outputs": [
    {
     "name": "stdout",
     "output_type": "stream",
     "text": [
      "Andi bilang halo\n",
      "AndiAndiAndi\n"
     ]
    }
   ],
   "source": [
    "a = \"Andi\"\n",
    "\n",
    "print(a + \" bilang halo\")\n",
    "print(a * 3)"
   ]
  },
  {
   "cell_type": "code",
   "execution_count": 57,
   "metadata": {},
   "outputs": [
    {
     "data": {
      "text/plain": [
       "'Andi bilang halo ke Andi'"
      ]
     },
     "execution_count": 57,
     "metadata": {},
     "output_type": "execute_result"
    }
   ],
   "source": [
    "a + \" bilang halo ke \" + a"
   ]
  },
  {
   "cell_type": "markdown",
   "metadata": {},
   "source": [
    "4. Manipulasi string dengan operator in"
   ]
  },
  {
   "cell_type": "code",
   "execution_count": 59,
   "metadata": {},
   "outputs": [
    {
     "name": "stdout",
     "output_type": "stream",
     "text": [
      "True\n"
     ]
    }
   ],
   "source": [
    "print(\"A\" in \"Andi\")"
   ]
  },
  {
   "cell_type": "code",
   "execution_count": 60,
   "metadata": {},
   "outputs": [
    {
     "name": "stdout",
     "output_type": "stream",
     "text": [
      "False\n"
     ]
    }
   ],
   "source": [
    "a = \"Andi\"\n",
    "print(\"B\" in a)"
   ]
  },
  {
   "cell_type": "markdown",
   "metadata": {},
   "source": [
    "5. Operator khusus String untuk ubah case\n",
    "- upper\n",
    "- lower\n",
    "- swapcase\n",
    "- title\n",
    "- capitalize"
   ]
  },
  {
   "cell_type": "code",
   "execution_count": 132,
   "metadata": {},
   "outputs": [
    {
     "name": "stdout",
     "output_type": "stream",
     "text": [
      "Saya suka belajar Python di Hacktiv8\n"
     ]
    }
   ],
   "source": [
    "a = \"Saya suka belajar Python di Hacktiv8\"\n",
    "print(a)"
   ]
  },
  {
   "cell_type": "code",
   "execution_count": 66,
   "metadata": {},
   "outputs": [
    {
     "name": "stdout",
     "output_type": "stream",
     "text": [
      "SAYA SUKA BELAJAR PYTHON DI HACKTIV8\n",
      "saya suka belajar python di hacktiv8\n",
      "sAYA SUKA BELAJAR pYTHON DI hACKTIV8\n",
      "Saya Suka Belajar Python Di Hacktiv8\n",
      "Saya suka belajar python di hacktiv8\n"
     ]
    }
   ],
   "source": [
    "print(a.upper())\n",
    "print(a.lower())\n",
    "print(a.swapcase())\n",
    "print(a.title())\n",
    "print(a.capitalize())"
   ]
  },
  {
   "cell_type": "markdown",
   "metadata": {},
   "source": [
    "### cek panjang string nya berapa"
   ]
  },
  {
   "cell_type": "code",
   "execution_count": 133,
   "metadata": {},
   "outputs": [
    {
     "name": "stdout",
     "output_type": "stream",
     "text": [
      "36\n"
     ]
    }
   ],
   "source": [
    "print(len(a))"
   ]
  },
  {
   "cell_type": "markdown",
   "metadata": {},
   "source": [
    "# List\n",
    "tipe data yang ada banyak data di satu tempat\n",
    "\n",
    "CRUD - Create Read Update Delete\n",
    "- bikin Create\n",
    "- baca Read\n",
    "- ubah Update\n",
    "- hapus Delete"
   ]
  },
  {
   "cell_type": "code",
   "execution_count": 67,
   "metadata": {},
   "outputs": [],
   "source": [
    "# bikin list pakai kurung kotak\n",
    "kelas = []"
   ]
  },
  {
   "cell_type": "code",
   "execution_count": 68,
   "metadata": {},
   "outputs": [],
   "source": [
    "# dalam list bisa ada banyak data berbeda, dipisah dengan ,\n",
    "kelas = [ \"iman\", \"ammar\", \"zahrah\", \"dwi\", \"ana\", \"mudz\", \"zekro\"]"
   ]
  },
  {
   "cell_type": "code",
   "execution_count": 69,
   "metadata": {},
   "outputs": [
    {
     "name": "stdout",
     "output_type": "stream",
     "text": [
      "['iman', 'ammar', 'zahrah', 'dwi', 'ana', 'mudz', 'zekro']\n"
     ]
    }
   ],
   "source": [
    "print(kelas)"
   ]
  },
  {
   "cell_type": "code",
   "execution_count": 71,
   "metadata": {},
   "outputs": [
    {
     "name": "stdout",
     "output_type": "stream",
     "text": [
      "ammar\n"
     ]
    }
   ],
   "source": [
    "# coba ambil murid kedua di kelas\n",
    "# ambil index ke 1\n",
    "print(kelas[1])"
   ]
  },
  {
   "cell_type": "code",
   "execution_count": 74,
   "metadata": {},
   "outputs": [],
   "source": [
    "# nambah \"Ryan\" ke kelas\n",
    "kelas.append(\"Ryan\")"
   ]
  },
  {
   "cell_type": "code",
   "execution_count": 75,
   "metadata": {},
   "outputs": [
    {
     "name": "stdout",
     "output_type": "stream",
     "text": [
      "['iman', 'ammar', 'zahrah', 'dwi', 'ana', 'mudz', 'zekro', 'Ryan']\n"
     ]
    }
   ],
   "source": [
    "print(kelas)"
   ]
  },
  {
   "cell_type": "code",
   "execution_count": 76,
   "metadata": {},
   "outputs": [],
   "source": [
    "# hapus mudz\n",
    "kelas.remove(\"mudz\")"
   ]
  },
  {
   "cell_type": "code",
   "execution_count": 77,
   "metadata": {},
   "outputs": [
    {
     "name": "stdout",
     "output_type": "stream",
     "text": [
      "['iman', 'ammar', 'zahrah', 'dwi', 'ana', 'zekro', 'Ryan']\n"
     ]
    }
   ],
   "source": [
    "print(kelas)"
   ]
  },
  {
   "cell_type": "code",
   "execution_count": 78,
   "metadata": {},
   "outputs": [
    {
     "name": "stdout",
     "output_type": "stream",
     "text": [
      "['iman', 'ammar', 'zahrah', 'dwi', 'ana', 'zekro', 'Ryan', 'mudzs']\n"
     ]
    }
   ],
   "source": [
    "kelas.append(\"mudzs\")\n",
    "print(kelas)"
   ]
  },
  {
   "cell_type": "code",
   "execution_count": 80,
   "metadata": {},
   "outputs": [
    {
     "name": "stdout",
     "output_type": "stream",
     "text": [
      "['iman', 'ammar', 'zahrah', 'dwi', 'ANA', 'zekro', 'Ryan', 'mudzs']\n"
     ]
    }
   ],
   "source": [
    "# ubah ana menjadi huruf besar\n",
    "# murid ke 5\n",
    "# index ke 4\n",
    "kelas[4] = kelas[4].upper()\n",
    "print(kelas)"
   ]
  },
  {
   "cell_type": "markdown",
   "metadata": {},
   "source": [
    "tambahan:\n",
    "- isi List bisa tipe data apapun, campur juga boleh\n",
    "- index tidak harus positif 0,1,2,3,... bisa juga hitung mundur dari kanan ke kiri -1 -2 ...\n",
    "- teknik slicing, ambil beberapa item sekaligus\n",
    "- bisa dimanipulasi dengan operator matematika tambah dan kali seperti string"
   ]
  },
  {
   "cell_type": "code",
   "execution_count": 81,
   "metadata": {},
   "outputs": [
    {
     "name": "stdout",
     "output_type": "stream",
     "text": [
      "[123, 4.6, 'a', True, None, ['a', 'n', 'd'], 0]\n"
     ]
    }
   ],
   "source": [
    "random_list = [123, 4.6, \"a\", True, None, [\"a\", \"n\", \"d\"], 0]\n",
    "print(random_list)"
   ]
  },
  {
   "cell_type": "code",
   "execution_count": 84,
   "metadata": {},
   "outputs": [
    {
     "name": "stdout",
     "output_type": "stream",
     "text": [
      "mudzs\n",
      "['iman', 'ammar', 'zahrah', 'dwi', 'ANA', 'zekro', 'Ryan', 'mudzs']\n"
     ]
    }
   ],
   "source": [
    "# ambil murid terakhir\n",
    "print(kelas[-1])\n",
    "print(kelas)"
   ]
  },
  {
   "cell_type": "markdown",
   "metadata": {},
   "source": [
    "### \"slicing\" sebuah list, ambil beberapa item sekaligus"
   ]
  },
  {
   "cell_type": "code",
   "execution_count": 83,
   "metadata": {},
   "outputs": [
    {
     "name": "stdout",
     "output_type": "stream",
     "text": [
      "['zahrah', 'dwi']\n"
     ]
    }
   ],
   "source": [
    "# ambil murid ke3 dan ke4\n",
    "# index ke2 dan ke3\n",
    "print(kelas[2:4])"
   ]
  },
  {
   "cell_type": "code",
   "execution_count": 85,
   "metadata": {},
   "outputs": [
    {
     "name": "stdout",
     "output_type": "stream",
     "text": [
      "['ammar', 'zahrah', 'dwi', 'ANA', 'zekro', 'Ryan', 'mudzs']\n"
     ]
    }
   ],
   "source": [
    "# ambil murid ke2 sampai terakhir\n",
    "# index ke1\n",
    "print(kelas[1:])"
   ]
  },
  {
   "cell_type": "code",
   "execution_count": 87,
   "metadata": {},
   "outputs": [
    {
     "name": "stdout",
     "output_type": "stream",
     "text": [
      "['iman', 'ammar', 'zahrah', 'dwi', 'ANA', 'zekro', 'Ryan']\n"
     ]
    }
   ],
   "source": [
    "# ambil murid pertama sampai ke2 terakhir\n",
    "# index ke0 sampai index ke-2\n",
    "print(kelas[:-1])"
   ]
  },
  {
   "cell_type": "code",
   "execution_count": 117,
   "metadata": {},
   "outputs": [
    {
     "name": "stdout",
     "output_type": "stream",
     "text": [
      "['apple', 'banana', 'coconut']\n"
     ]
    }
   ],
   "source": [
    "fruits = [\n",
    "    \"apple\", \n",
    "    \"banana\", \n",
    "    \"coconut\", \n",
    "    \"durian\"\n",
    "]\n",
    "# ambil apple sampe coconut\n",
    "# index 0 apple, index 2 coconut\n",
    "print(fruits[0:3])\n",
    "\n",
    "# print(fruits[10]) # akan kena error index out of range"
   ]
  },
  {
   "cell_type": "markdown",
   "metadata": {},
   "source": [
    "### cek panjang list nya berapa"
   ]
  },
  {
   "cell_type": "code",
   "execution_count": 130,
   "metadata": {},
   "outputs": [
    {
     "name": "stdout",
     "output_type": "stream",
     "text": [
      "8\n"
     ]
    }
   ],
   "source": [
    "print(len(kelas))"
   ]
  },
  {
   "cell_type": "markdown",
   "metadata": {},
   "source": [
    "### dimanipulasi dengan operator matematika tambah dan kali seperti string"
   ]
  },
  {
   "cell_type": "code",
   "execution_count": 89,
   "metadata": {},
   "outputs": [
    {
     "name": "stdout",
     "output_type": "stream",
     "text": [
      "['iman', 'ammar', 'zahrah', 'dwi', 'ANA', 'zekro', 'Ryan', 'mudzs']\n"
     ]
    }
   ],
   "source": [
    "print(kelas)"
   ]
  },
  {
   "cell_type": "code",
   "execution_count": 92,
   "metadata": {},
   "outputs": [
    {
     "name": "stdout",
     "output_type": "stream",
     "text": [
      "['iman', 'ammar', 'zahrah', 'dwi', 'ANA', 'zekro', 'Ryan', 'mudzs', 'Kevin', 'John']\n"
     ]
    }
   ],
   "source": [
    "print(kelas + [\"Kevin\", \"John\"]) # ini ditambah belum di save, belum di assign ke variable"
   ]
  },
  {
   "cell_type": "code",
   "execution_count": 94,
   "metadata": {},
   "outputs": [
    {
     "name": "stdout",
     "output_type": "stream",
     "text": [
      "['apel', 'apel', 'apel', 'jeruk']\n"
     ]
    }
   ],
   "source": [
    "print([\"apel\"] * 3 + [\"jeruk\"])"
   ]
  },
  {
   "cell_type": "code",
   "execution_count": 96,
   "metadata": {},
   "outputs": [
    {
     "name": "stdout",
     "output_type": "stream",
     "text": [
      "['iman', 'ammar', 'zahrah', 'dwi', 'ANA', 'zekro', 'Ryan', 'mudzs']\n"
     ]
    }
   ],
   "source": [
    "print(kelas)"
   ]
  },
  {
   "cell_type": "markdown",
   "metadata": {},
   "source": [
    "### operator in juga bisa"
   ]
  },
  {
   "cell_type": "code",
   "execution_count": 100,
   "metadata": {},
   "outputs": [
    {
     "name": "stdout",
     "output_type": "stream",
     "text": [
      "False\n"
     ]
    }
   ],
   "source": [
    "print(\"Kevin\" in kelas)"
   ]
  },
  {
   "cell_type": "code",
   "execution_count": 101,
   "metadata": {},
   "outputs": [
    {
     "name": "stdout",
     "output_type": "stream",
     "text": [
      "True\n"
     ]
    }
   ],
   "source": [
    "print(\"dwi\" in kelas)"
   ]
  },
  {
   "cell_type": "code",
   "execution_count": 102,
   "metadata": {},
   "outputs": [
    {
     "name": "stdout",
     "output_type": "stream",
     "text": [
      "False\n"
     ]
    }
   ],
   "source": [
    "print(\"Dwi\" in kelas)"
   ]
  },
  {
   "cell_type": "markdown",
   "metadata": {},
   "source": [
    "bacaan lanjut untuk coba coba list: https://www.w3schools.com/python/python_lists.asp"
   ]
  },
  {
   "cell_type": "markdown",
   "metadata": {},
   "source": [
    "## Tuple\n",
    "mirip list, tapi isi nya tidak boleh diubah"
   ]
  },
  {
   "cell_type": "code",
   "execution_count": 103,
   "metadata": {},
   "outputs": [
    {
     "name": "stdout",
     "output_type": "stream",
     "text": [
      "<class 'tuple'>\n"
     ]
    }
   ],
   "source": [
    "# membuat tuple dengan ()\n",
    "nilai = ()\n",
    "print(type(nilai))"
   ]
  },
  {
   "cell_type": "code",
   "execution_count": 106,
   "metadata": {},
   "outputs": [
    {
     "name": "stdout",
     "output_type": "stream",
     "text": [
      "(60, 50, 70)\n"
     ]
    }
   ],
   "source": [
    "nilai = (60,50,70)\n",
    "print(nilai)"
   ]
  },
  {
   "cell_type": "code",
   "execution_count": 107,
   "metadata": {},
   "outputs": [
    {
     "name": "stdout",
     "output_type": "stream",
     "text": [
      "60\n"
     ]
    }
   ],
   "source": [
    "# akses nilai pertama\n",
    "# index 0\n",
    "print(nilai[0])"
   ]
  },
  {
   "cell_type": "markdown",
   "metadata": {},
   "source": [
    "# Dictionary\n",
    "seperti membuat list yang index nya kita custom sendiri.   \n",
    "seperti membuat objek dan mendeskripsikan ke komputer, misalnya orang itu apa sih, orang itu punya nama, namanya apa? dst dst   \n",
    "\n",
    "setiap item yang ada di dalam dictionary adalah sepasang index: value"
   ]
  },
  {
   "cell_type": "code",
   "execution_count": 113,
   "metadata": {},
   "outputs": [
    {
     "name": "stdout",
     "output_type": "stream",
     "text": [
      "<class 'dict'>\n"
     ]
    }
   ],
   "source": [
    "# bikin dictionary\n",
    "orang = {}\n",
    "print(type(orang))"
   ]
  },
  {
   "cell_type": "code",
   "execution_count": 118,
   "metadata": {},
   "outputs": [
    {
     "name": "stdout",
     "output_type": "stream",
     "text": [
      "{'nama': 'Andhika', 'umur': 20, 'hobi': ['makan', 'tidur', 'programming']}\n"
     ]
    }
   ],
   "source": [
    "orang = {\n",
    "    \"nama\": \"Andhika\", \n",
    "    \"umur\": 20,\n",
    "    \"hobi\": [\"makan\", \"tidur\", \"programming\"]\n",
    "}\n",
    "print(orang)"
   ]
  },
  {
   "cell_type": "code",
   "execution_count": 119,
   "metadata": {},
   "outputs": [
    {
     "name": "stdout",
     "output_type": "stream",
     "text": [
      "Andhika\n"
     ]
    }
   ],
   "source": [
    "# baca dictionary\n",
    "# ambil nama orang\n",
    "print(orang[\"nama\"])"
   ]
  },
  {
   "cell_type": "code",
   "execution_count": 120,
   "metadata": {},
   "outputs": [
    {
     "name": "stdout",
     "output_type": "stream",
     "text": [
      "20\n"
     ]
    }
   ],
   "source": [
    "# ambil umur\n",
    "print(orang[\"umur\"])"
   ]
  },
  {
   "cell_type": "code",
   "execution_count": 121,
   "metadata": {},
   "outputs": [
    {
     "name": "stdout",
     "output_type": "stream",
     "text": [
      "['makan', 'tidur', 'programming']\n"
     ]
    }
   ],
   "source": [
    "# ambil hobi\n",
    "print(orang[\"hobi\"])"
   ]
  },
  {
   "cell_type": "code",
   "execution_count": 122,
   "metadata": {},
   "outputs": [
    {
     "name": "stdout",
     "output_type": "stream",
     "text": [
      "programming\n"
     ]
    }
   ],
   "source": [
    "# ambil hobi terakhir\n",
    "print(orang[\"hobi\"][-1])"
   ]
  },
  {
   "cell_type": "code",
   "execution_count": 123,
   "metadata": {},
   "outputs": [
    {
     "name": "stdout",
     "output_type": "stream",
     "text": [
      "{'nama': 'Andhika Widjaja', 'umur': 20, 'hobi': ['makan', 'tidur', 'programming']}\n"
     ]
    }
   ],
   "source": [
    "# edit dictionary\n",
    "# ubah namanya jadi ada nama belakang Widjaja\n",
    "orang[\"nama\"] = orang[\"nama\"] + \" Widjaja\"\n",
    "print(orang)"
   ]
  },
  {
   "cell_type": "code",
   "execution_count": 124,
   "metadata": {},
   "outputs": [
    {
     "name": "stdout",
     "output_type": "stream",
     "text": [
      "{'nama': 'Andi', 'umur': 20, 'hobi': ['makan', 'tidur', 'programming']}\n"
     ]
    }
   ],
   "source": [
    "# ubah namanya jadi Andi\n",
    "orang[\"nama\"] = \"Andi\"\n",
    "print(orang)"
   ]
  },
  {
   "cell_type": "code",
   "execution_count": 125,
   "metadata": {},
   "outputs": [
    {
     "name": "stdout",
     "output_type": "stream",
     "text": [
      "{'nama': 'Andi', 'umur': 20, 'hobi': ['makan', 'tidur', 'programming', 'sepeda']}\n"
     ]
    }
   ],
   "source": [
    "# nambahin hobinya, sekarang dia juga hobi sepeda\n",
    "orang[\"hobi\"].append(\"sepeda\")\n",
    "print(orang)"
   ]
  },
  {
   "cell_type": "code",
   "execution_count": 129,
   "metadata": {},
   "outputs": [
    {
     "name": "stdout",
     "output_type": "stream",
     "text": [
      "dict_keys(['nama', 'umur', 'hobi'])\n",
      "dict_values(['Andi', 20, ['makan', 'tidur', 'programming', 'sepeda']])\n",
      "dict_items([('nama', 'Andi'), ('umur', 20), ('hobi', ['makan', 'tidur', 'programming', 'sepeda'])])\n"
     ]
    }
   ],
   "source": [
    "# fungsi milik dictionary\n",
    "\n",
    "# dictionary ini ada keys apa saja? indexnya apa saja?\n",
    "print(orang.keys())\n",
    "\n",
    "# dictionary ini ada values apa saja?\n",
    "print(orang.values())\n",
    "\n",
    "# dictionary ini items nya apa saja? setiap item adalah separang key dan value\n",
    "print(orang.items())"
   ]
  },
  {
   "cell_type": "code",
   "execution_count": 134,
   "metadata": {},
   "outputs": [
    {
     "data": {
      "text/plain": [
       "[('nama', 'Andi'),\n",
       " ('umur', 20),\n",
       " ('hobi', ['makan', 'tidur', 'programming', 'sepeda'])]"
      ]
     },
     "execution_count": 134,
     "metadata": {},
     "output_type": "execute_result"
    }
   ],
   "source": [
    "[\n",
    "    ('nama', 'Andi'), \n",
    "    ('umur', 20), \n",
    "    ('hobi', ['makan', 'tidur', 'programming', 'sepeda'])\n",
    "]"
   ]
  },
  {
   "cell_type": "markdown",
   "metadata": {},
   "source": [
    "### Membuat Dictionary dengan memasukkan item satu per satu"
   ]
  },
  {
   "cell_type": "code",
   "execution_count": 135,
   "metadata": {},
   "outputs": [
    {
     "name": "stdout",
     "output_type": "stream",
     "text": [
      "{}\n"
     ]
    }
   ],
   "source": [
    "orang = {}\n",
    "print(orang)"
   ]
  },
  {
   "cell_type": "code",
   "execution_count": 136,
   "metadata": {},
   "outputs": [
    {
     "name": "stdout",
     "output_type": "stream",
     "text": [
      "{'nama': 'Budi'}\n"
     ]
    }
   ],
   "source": [
    "orang[\"nama\"] = \"Budi\"\n",
    "print(orang)"
   ]
  },
  {
   "cell_type": "code",
   "execution_count": 138,
   "metadata": {},
   "outputs": [
    {
     "name": "stdout",
     "output_type": "stream",
     "text": [
      "{'nama': 'Budi', 'umur': 25}\n"
     ]
    }
   ],
   "source": [
    "orang[\"umur\"] = 25\n",
    "print(orang)"
   ]
  },
  {
   "cell_type": "code",
   "execution_count": 139,
   "metadata": {},
   "outputs": [
    {
     "name": "stdout",
     "output_type": "stream",
     "text": [
      "{'nama': 'Budi', 'umur': 25, 'berkacamata': False, 'menikah': True, 'hobi': ['membaca', 'menulis']}\n"
     ]
    }
   ],
   "source": [
    "orang[\"berkacamata\"] = False\n",
    "orang[\"menikah\"] = True\n",
    "orang[\"hobi\"] = [\"membaca\", \"menulis\"]\n",
    "print(orang)"
   ]
  },
  {
   "cell_type": "code",
   "execution_count": null,
   "metadata": {},
   "outputs": [],
   "source": [
    "{'nama': 'Budi',\n",
    " 'umur': 25,\n",
    " 'berkacamata': False,\n",
    " 'menikah': True,\n",
    " 'hobi': ['membaca', 'menulis']\n",
    "}"
   ]
  },
  {
   "cell_type": "code",
   "execution_count": 140,
   "metadata": {},
   "outputs": [],
   "source": [
    "anak = { 'nama': 'Cynthia','umur': 2,}"
   ]
  },
  {
   "cell_type": "code",
   "execution_count": 141,
   "metadata": {},
   "outputs": [],
   "source": [
    "orang[\"anak\"] = anak"
   ]
  },
  {
   "cell_type": "code",
   "execution_count": 142,
   "metadata": {},
   "outputs": [
    {
     "name": "stdout",
     "output_type": "stream",
     "text": [
      "{'nama': 'Budi', 'umur': 25, 'berkacamata': False, 'menikah': True, 'hobi': ['membaca', 'menulis'], 'anak': {'nama': 'Cynthia', 'umur': 2}}\n"
     ]
    }
   ],
   "source": [
    "print(orang)"
   ]
  },
  {
   "cell_type": "code",
   "execution_count": 143,
   "metadata": {},
   "outputs": [
    {
     "data": {
      "text/plain": [
       "'Cynthia'"
      ]
     },
     "execution_count": 143,
     "metadata": {},
     "output_type": "execute_result"
    }
   ],
   "source": [
    "orang[\"anak\"][\"nama\"]"
   ]
  },
  {
   "cell_type": "code",
   "execution_count": null,
   "metadata": {},
   "outputs": [],
   "source": []
  }
 ],
 "metadata": {
  "kernelspec": {
   "display_name": "Python 3",
   "language": "python",
   "name": "python3"
  },
  "language_info": {
   "codemirror_mode": {
    "name": "ipython",
    "version": 3
   },
   "file_extension": ".py",
   "mimetype": "text/x-python",
   "name": "python",
   "nbconvert_exporter": "python",
   "pygments_lexer": "ipython3",
   "version": "3.8.5"
  }
 },
 "nbformat": 4,
 "nbformat_minor": 4
}
