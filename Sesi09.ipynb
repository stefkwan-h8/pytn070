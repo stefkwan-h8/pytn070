{
 "cells": [
  {
   "cell_type": "markdown",
   "metadata": {},
   "source": [
    "# Descriptive Statistic\n",
    "deskripsikan data, merangkum, menggunakan angka untuk menjelaskan arti dari data kita\n",
    "\n",
    "## terminologi\n",
    "- population vs sample\n",
    "    - population adalah keseluruhan data yang terkait, yang mau dirangkum. contohnya, kalau kita mau bilang rata-rata tinggi badan \"orang Indonesia\" adalah ... maka population adalah seluruh orang Indonesia. termasuk semua umur, kedua gender, di semua daerah, yang sedang tinggal di luar negeri, dan lainnya.\n",
    "    - sebagian dari population adalah sample. pastikan sample nya bisa merepresentasikan segala jenis sub-grup dari population.\n",
    "- outlier\n",
    "    - outlier adalah data yang beda sendiri.\n",
    "    \n",
    "# Jenis Descriptive Statistic\n",
    "\n",
    "## Measure of central tendency (tengah nya data ini dimana)\n",
    "- mean (rata-rata)\n",
    "- median (data di tengah), quartile ke-2, percentile ke-50\n",
    "- mode (modus)\n",
    "    \n",
    "## Measure of spread (seberapa tersebar data ini dari titik tengah tadi)\n",
    "\n",
    "### quartile dan percentile\n",
    "- quartile ke-1 = percentile ke-25\n",
    "- quartile ke-2 = percentile ke-50 = median\n",
    "- quartile ke-3 = percentile ke-75\n",
    "- inter-quartile range IQR adalah Q3 - Q1\n",
    "    - angka yang berada di > Q3 + 1.5 * IQR termasuk outlier\n",
    "    - angka yang berada di < Q1 - 1.5 * IQR termasuk outlier"
   ]
  },
  {
   "cell_type": "markdown",
   "metadata": {},
   "source": [
    "### standard deviation\n",
    "1. untuk setiap titik data yang ada di dataset kita. contoh, kita punya data tinggi badan 100 orang berbeda. \n",
    "2. kita kurangi masing masing titik dengan rata-rata seluruh data.\n",
    "3. hasil pengurangan kita kuadrat\n",
    "4. hasil kuadrat kita jumlahkan semua\n",
    "5. hasil penjumlahan kita bagi 99 (total 100 sample - 1 karena ini sample. kalau populasi, dibagi 100 full)\n",
    "6. hasil bagi nya di akar.\n",
    "\n",
    "### variance\n",
    "standard deviation kuadrat\n",
    "\n",
    "### range\n",
    "titik data terbesar - titik data terkecil\n",
    "\n",
    "### skewness\n",
    "menjelaskan distribusi data nya berat di mana, apakah simetris/ tidak.\n",
    "\n",
    "### kurtosis\n",
    "menjelaskan buntut data banyak/ tidak. kalau banyak buntut (jauh dari tengah) berarti semakin banyak outlier.\n",
    "\n",
    "### correlation\n",
    "apakah ada hubungannya antara dua variable berbeda. misalnya tinggi dan berat badan."
   ]
  },
  {
   "cell_type": "code",
   "execution_count": 1,
   "metadata": {},
   "outputs": [],
   "source": [
    "# impor package yang akan digunakan\n",
    "import numpy as np\n",
    "import pandas as pd\n",
    "import math\n",
    "import statistics\n",
    "import scipy.stats\n",
    "\n",
    "# untuk visualisasi\n",
    "%matplotlib inline\n",
    "import matplotlib.pyplot as plt"
   ]
  },
  {
   "cell_type": "code",
   "execution_count": 27,
   "metadata": {},
   "outputs": [
    {
     "name": "stdout",
     "output_type": "stream",
     "text": [
      "[8, 10, 17, 3, -5] 5\n",
      "[8, 10, 17, nan, 3, -5] 6\n"
     ]
    }
   ],
   "source": [
    "# membuat dummy data\n",
    "x = [8, 10, 17, 3, -5]\n",
    "x_nan = [8, 10, 17, math.nan, 3, -5]\n",
    "\n",
    "print(x, len(x))\n",
    "print(x_nan, len(x_nan))"
   ]
  },
  {
   "cell_type": "markdown",
   "metadata": {},
   "source": [
    "# Measure of Central Tendency\n",
    "## Mean\n",
    "- normal\n",
    "- weighted\n",
    "- geometric\n",
    "- harmonic"
   ]
  },
  {
   "cell_type": "code",
   "execution_count": 4,
   "metadata": {},
   "outputs": [
    {
     "data": {
      "text/plain": [
       "6.6"
      ]
     },
     "execution_count": 4,
     "metadata": {},
     "output_type": "execute_result"
    }
   ],
   "source": [
    "# hitung rata-rata x dan x_nan\n",
    "# cara manual dengan python tanpa package tambahan\n",
    "sum(x) / len(x)"
   ]
  },
  {
   "cell_type": "code",
   "execution_count": 6,
   "metadata": {},
   "outputs": [
    {
     "data": {
      "text/plain": [
       "nan"
      ]
     },
     "execution_count": 6,
     "metadata": {},
     "output_type": "execute_result"
    }
   ],
   "source": [
    "sum(x_nan)/ len(x_nan)"
   ]
  },
  {
   "cell_type": "code",
   "execution_count": 5,
   "metadata": {},
   "outputs": [
    {
     "data": {
      "text/plain": [
       "6.6"
      ]
     },
     "execution_count": 5,
     "metadata": {},
     "output_type": "execute_result"
    }
   ],
   "source": [
    "# pakai package statistics\n",
    "statistics.mean(x)"
   ]
  },
  {
   "cell_type": "code",
   "execution_count": 7,
   "metadata": {},
   "outputs": [
    {
     "data": {
      "text/plain": [
       "nan"
      ]
     },
     "execution_count": 7,
     "metadata": {},
     "output_type": "execute_result"
    }
   ],
   "source": [
    "statistics.mean(x_nan)"
   ]
  },
  {
   "cell_type": "code",
   "execution_count": 8,
   "metadata": {},
   "outputs": [
    {
     "name": "stdout",
     "output_type": "stream",
     "text": [
      "6.6\n",
      "nan\n"
     ]
    }
   ],
   "source": [
    "# pakai numpy\n",
    "y = np.array(x)\n",
    "y_nan = np.array(x_nan)\n",
    "\n",
    "print(np.mean(y))\n",
    "print(np.mean(y_nan))"
   ]
  },
  {
   "cell_type": "code",
   "execution_count": 11,
   "metadata": {},
   "outputs": [
    {
     "data": {
      "text/plain": [
       "6.6"
      ]
     },
     "execution_count": 11,
     "metadata": {},
     "output_type": "execute_result"
    }
   ],
   "source": [
    "np.nanmean(y_nan)"
   ]
  },
  {
   "cell_type": "code",
   "execution_count": 10,
   "metadata": {},
   "outputs": [
    {
     "name": "stdout",
     "output_type": "stream",
     "text": [
      "6.6\n",
      "6.6\n"
     ]
    }
   ],
   "source": [
    "# pakai pandas\n",
    "z = pd.Series(x)\n",
    "z_nan = pd.Series(x_nan)\n",
    "\n",
    "print(z.mean())\n",
    "print(z_nan.mean())"
   ]
  },
  {
   "cell_type": "markdown",
   "metadata": {},
   "source": [
    "## Weighted Mean\n",
    "bayangkan ada 3 assignment dan 1 final project. assignment punya bobot 20% masing-masing. final project punya bobot 40%.   \n",
    "tingkat kontribusi nilai assignment dan final project ke rata-rata nilai akhir berbeda."
   ]
  },
  {
   "cell_type": "code",
   "execution_count": 15,
   "metadata": {},
   "outputs": [
    {
     "data": {
      "text/plain": [
       "76"
      ]
     },
     "execution_count": 15,
     "metadata": {},
     "output_type": "execute_result"
    }
   ],
   "source": [
    "andi = [ 50, 72, 85, 97]\n",
    "bobot= [0.2,0.2,0.2,0.4]\n",
    "\n",
    "# rata-rata biasa\n",
    "statistics.mean(andi)"
   ]
  },
  {
   "cell_type": "code",
   "execution_count": 16,
   "metadata": {},
   "outputs": [
    {
     "data": {
      "text/plain": [
       "80.2"
      ]
     },
     "execution_count": 16,
     "metadata": {},
     "output_type": "execute_result"
    }
   ],
   "source": [
    "# weighted mean\n",
    "# pakai numpy\n",
    "andi_y = np.array(andi)\n",
    "np.average(andi_y, weights=bobot)"
   ]
  },
  {
   "cell_type": "markdown",
   "metadata": {},
   "source": [
    "## Harmonic Mean\n",
    "jika kita punya angka 5, reciprocal dari 5 adalah 1/5   \n",
    "1/5 = 0.2\n",
    "\n",
    "jika kita punya angka 0.5, reciprocal dari 0.5 adalah 1/0.5\n",
    "1/0.5 = 2   \n",
    "\n",
    "harmonic mean menjumlah reciprocal dari setiap titik data, bagi jumlah data, dan hasilnya dihitung reciprocalnya lagi.   \n",
    "\n",
    "contoh, kita punya perusahaan startup, dengan 4 karyawan:\n",
    "- 1 ceo gaji 100jt, 3 karyawan lain gajinya 2, 4, dan 6 juta\n",
    "- beda gaji nya jauh, ada 1 outlier yang sangat jauh sendiri\n",
    "- kalau hitung rata-rata biasa, hasilnya akan ketarik jadi tinggi karena outlier tadi\n",
    "\n",
    "\n",
    "teknik harmonic mean lebih cocok digunakan saat ada outlier seperti itu, hasilnya lebih akurat"
   ]
  },
  {
   "cell_type": "code",
   "execution_count": 17,
   "metadata": {},
   "outputs": [
    {
     "data": {
      "text/plain": [
       "28"
      ]
     },
     "execution_count": 17,
     "metadata": {},
     "output_type": "execute_result"
    }
   ],
   "source": [
    "gaji = [100, 2, 4, 6]\n",
    "\n",
    "# rata-rata biasa\n",
    "statistics.mean(gaji)"
   ]
  },
  {
   "cell_type": "code",
   "execution_count": 18,
   "metadata": {},
   "outputs": [
    {
     "data": {
      "text/plain": [
       "4.316546762589928"
      ]
     },
     "execution_count": 18,
     "metadata": {},
     "output_type": "execute_result"
    }
   ],
   "source": [
    "# hitung harmonic mean\n",
    "# pakai package statistics\n",
    "statistics.harmonic_mean(gaji)"
   ]
  },
  {
   "cell_type": "code",
   "execution_count": 19,
   "metadata": {},
   "outputs": [
    {
     "data": {
      "text/plain": [
       "4.316546762589928"
      ]
     },
     "execution_count": 19,
     "metadata": {},
     "output_type": "execute_result"
    }
   ],
   "source": [
    "# pakai package scipy.stats\n",
    "scipy.stats.hmean(gaji)"
   ]
  },
  {
   "cell_type": "markdown",
   "metadata": {},
   "source": [
    "## Geometric Mean\n",
    "geometric mean digunakan saat kita mau hitung rata-rata untuk variable yang skalanya berbeda. contohnya kita punya 2 seller, kita mau beli produk yang sama dari salah satu seller ini. info:\n",
    "- seller A punya 1112 rating, di 4.5 bintang\n",
    "- seller B punya 741 rating, di 4.8 bintang"
   ]
  },
  {
   "cell_type": "code",
   "execution_count": 20,
   "metadata": {},
   "outputs": [
    {
     "name": "stdout",
     "output_type": "stream",
     "text": [
      "skor seller A: 70.7389567353096\n",
      "skor seller B: 59.63891347098803\n"
     ]
    }
   ],
   "source": [
    "# dummy data\n",
    "seller_A = [1112, 4.5]\n",
    "seller_B = [741, 4.8]\n",
    "\n",
    "# pakai scipy stats\n",
    "print(\"skor seller A:\", scipy.stats.gmean(seller_A))\n",
    "print(\"skor seller B:\", scipy.stats.gmean(seller_B))"
   ]
  },
  {
   "cell_type": "markdown",
   "metadata": {},
   "source": [
    "## Median\n",
    "angka harus diurutin dulu dari kecil ke besar.   \n",
    "elemen tengah dari kumpulan data:\n",
    "- kalau jumlah data ganjil, mislanya 5 titik data, maka median nya ada di posisi ke-3, titik ke (5+1)/2\n",
    "- kalau jumlah data genap, misalnya 4 titik data, maka median nya ada di posisi antara 2 titik data, (titik ke 4/2 + titik ke 4/2 + 1) / 2"
   ]
  },
  {
   "cell_type": "code",
   "execution_count": 28,
   "metadata": {},
   "outputs": [
    {
     "name": "stdout",
     "output_type": "stream",
     "text": [
      "[8, 10, 17, 3, -5]\n",
      "[-5  3  8 10 17]\n"
     ]
    }
   ],
   "source": [
    "print(x)\n",
    "x_sorted = np.sort(x)\n",
    "print(x_sorted)"
   ]
  },
  {
   "cell_type": "code",
   "execution_count": 29,
   "metadata": {},
   "outputs": [
    {
     "name": "stdout",
     "output_type": "stream",
     "text": [
      "8\n",
      "8\n",
      "8\n"
     ]
    }
   ],
   "source": [
    "# pakai package statistics, jumlah data ganjil\n",
    "print(statistics.median_low(x_sorted))\n",
    "print(statistics.median_high(x_sorted))\n",
    "print(statistics.median(x_sorted))"
   ]
  },
  {
   "cell_type": "code",
   "execution_count": 30,
   "metadata": {},
   "outputs": [
    {
     "name": "stdout",
     "output_type": "stream",
     "text": [
      "[-5  3  8 10 10 17]\n"
     ]
    }
   ],
   "source": [
    "x2 = np.sort([8, 10, 17, 3, -5, 10])\n",
    "print(x2)"
   ]
  },
  {
   "cell_type": "code",
   "execution_count": 31,
   "metadata": {},
   "outputs": [
    {
     "name": "stdout",
     "output_type": "stream",
     "text": [
      "8\n",
      "10\n",
      "9.0\n"
     ]
    }
   ],
   "source": [
    "# pakai package statistics, jumlah data genap\n",
    "print(statistics.median_low(x2))\n",
    "print(statistics.median_high(x2))\n",
    "print(statistics.median(x2))"
   ]
  },
  {
   "cell_type": "code",
   "execution_count": 33,
   "metadata": {},
   "outputs": [
    {
     "name": "stdout",
     "output_type": "stream",
     "text": [
      "8.0\n",
      "9.0\n"
     ]
    }
   ],
   "source": [
    "# pakai numpy\n",
    "print(np.median(x))\n",
    "print(np.median(x2))"
   ]
  },
  {
   "cell_type": "code",
   "execution_count": 35,
   "metadata": {},
   "outputs": [
    {
     "name": "stdout",
     "output_type": "stream",
     "text": [
      "8.0\n",
      "9.0\n"
     ]
    }
   ],
   "source": [
    "# pakai pandas\n",
    "print(pd.Series(x).median())\n",
    "print(pd.Series(x2).median())"
   ]
  },
  {
   "cell_type": "markdown",
   "metadata": {},
   "source": [
    "## Mode\n",
    "mode, modus, adalah nilai yang paling sering muncul. contohnya, misalkan di sebuah pabrik ada 9 orang buruh, semua punya gaji 5juta. lalu ada CEO nya yang punya gaji 100juta, lalu karyawan dept lainnya 9 orang gajinya masing-masing di 10juta."
   ]
  },
  {
   "cell_type": "code",
   "execution_count": 39,
   "metadata": {},
   "outputs": [
    {
     "name": "stdout",
     "output_type": "stream",
     "text": [
      "[5, 5, 5, 5, 5, 5, 5, 5, 5, 10, 10, 10, 10, 10, 10, 10, 10, 10, 100]\n"
     ]
    }
   ],
   "source": [
    "gaji = [5] * 9 + [10] * 9 + [100]\n",
    "print(gaji)"
   ]
  },
  {
   "cell_type": "code",
   "execution_count": 40,
   "metadata": {},
   "outputs": [
    {
     "data": {
      "text/plain": [
       "5"
      ]
     },
     "execution_count": 40,
     "metadata": {},
     "output_type": "execute_result"
    }
   ],
   "source": [
    "# pakai package statistics\n",
    "# kasi lihat modus pertama\n",
    "statistics.mode(gaji)"
   ]
  },
  {
   "cell_type": "code",
   "execution_count": 42,
   "metadata": {},
   "outputs": [
    {
     "data": {
      "text/plain": [
       "ModeResult(mode=array([5]), count=array([9]))"
      ]
     },
     "execution_count": 42,
     "metadata": {},
     "output_type": "execute_result"
    }
   ],
   "source": [
    "# pakai scipy stats, \n",
    "# kasi lihat modus pertama dan count muncul brp kali\n",
    "scipy.stats.mode(gaji)"
   ]
  },
  {
   "cell_type": "code",
   "execution_count": 45,
   "metadata": {},
   "outputs": [
    {
     "name": "stdout",
     "output_type": "stream",
     "text": [
      "[5]\n",
      "[9]\n"
     ]
    }
   ],
   "source": [
    "# ambil mode nya saja, atau count nya saja dari hasil scipy stats\n",
    "hasil = scipy.stats.mode(gaji)\n",
    "print(hasil.mode)\n",
    "print(hasil.count)"
   ]
  },
  {
   "cell_type": "code",
   "execution_count": 46,
   "metadata": {},
   "outputs": [
    {
     "name": "stdout",
     "output_type": "stream",
     "text": [
      "0     5\n",
      "1    10\n",
      "dtype: int64\n"
     ]
    }
   ],
   "source": [
    "# pakai pandas\n",
    "z = pd.Series(gaji)\n",
    "print(z.mode())"
   ]
  },
  {
   "cell_type": "code",
   "execution_count": 50,
   "metadata": {},
   "outputs": [
    {
     "name": "stdout",
     "output_type": "stream",
     "text": [
      "median 10.0\n",
      "mode [5]\n",
      "mean 12.368421052631579\n"
     ]
    }
   ],
   "source": [
    "# bandingkan modus nya dengan mean dan median\n",
    "print(\"median\", z.median())\n",
    "print(\"mode\", scipy.stats.mode(gaji).mode)\n",
    "print(\"mean\", z.mean())"
   ]
  },
  {
   "cell_type": "markdown",
   "metadata": {},
   "source": [
    "# Measures of Variability\n",
    "- variance\n",
    "- standard deviation\n",
    "- skewness\n",
    "- percentiles\n",
    "- ranges"
   ]
  },
  {
   "cell_type": "markdown",
   "metadata": {},
   "source": [
    "## Variance\n",
    "kita hanya melihat angkanya ini positive atau 0, ada penyebaran/ tidak. skala tidak ketahuan.\n",
    "\n",
    "\n",
    "ddof = degrees of freedom. ddof=1 untuk sample, ddof=0 untuk population."
   ]
  },
  {
   "cell_type": "code",
   "execution_count": 51,
   "metadata": {},
   "outputs": [
    {
     "data": {
      "text/plain": [
       "456.5789473684211"
      ]
     },
     "execution_count": 51,
     "metadata": {},
     "output_type": "execute_result"
    }
   ],
   "source": [
    "# pakai package statistics\n",
    "statistics.variance(gaji)"
   ]
  },
  {
   "cell_type": "code",
   "execution_count": 54,
   "metadata": {},
   "outputs": [
    {
     "name": "stdout",
     "output_type": "stream",
     "text": [
      "456.5789473684211\n",
      "456.5789473684211\n"
     ]
    }
   ],
   "source": [
    "# pakai numpy, untuk sample\n",
    "print(np.var(gaji, ddof=1))\n",
    "\n",
    "arr_g = np.array(gaji)\n",
    "print(arr_g.var(ddof=1))"
   ]
  },
  {
   "cell_type": "code",
   "execution_count": 55,
   "metadata": {},
   "outputs": [
    {
     "name": "stdout",
     "output_type": "stream",
     "text": [
      "456.5789473684211\n"
     ]
    }
   ],
   "source": [
    "# pakai pandas\n",
    "series_g = pd.Series(gaji)\n",
    "print(series_g.var(ddof=1))"
   ]
  },
  {
   "cell_type": "markdown",
   "metadata": {},
   "source": [
    "## Standard Deviation\n",
    "variance di akar. kita bisa melihat skala penyebaran datanya."
   ]
  },
  {
   "cell_type": "code",
   "execution_count": 62,
   "metadata": {},
   "outputs": [
    {
     "data": {
      "text/plain": [
       "21.36770805136623"
      ]
     },
     "execution_count": 62,
     "metadata": {},
     "output_type": "execute_result"
    }
   ],
   "source": [
    "# np.sqrt(variance)\n",
    "np.sqrt(456.5789473684211)"
   ]
  },
  {
   "cell_type": "code",
   "execution_count": 57,
   "metadata": {},
   "outputs": [
    {
     "data": {
      "text/plain": [
       "21.36770805136623"
      ]
     },
     "execution_count": 57,
     "metadata": {},
     "output_type": "execute_result"
    }
   ],
   "source": [
    "# pakai statistics\n",
    "statistics.stdev(gaji)"
   ]
  },
  {
   "cell_type": "code",
   "execution_count": 58,
   "metadata": {},
   "outputs": [
    {
     "name": "stdout",
     "output_type": "stream",
     "text": [
      "21.36770805136623\n",
      "21.36770805136623\n"
     ]
    }
   ],
   "source": [
    "# pakai numpy, untuk sampel\n",
    "print(np.std(gaji, ddof=1))\n",
    "print(arr_g.std(ddof=1))"
   ]
  },
  {
   "cell_type": "code",
   "execution_count": 60,
   "metadata": {},
   "outputs": [
    {
     "name": "stdout",
     "output_type": "stream",
     "text": [
      "21.36770805136623\n"
     ]
    }
   ],
   "source": [
    "# pakai pandas\n",
    "print(series_g.std(ddof=1))"
   ]
  },
  {
   "cell_type": "markdown",
   "metadata": {},
   "source": [
    "## Skewness\n",
    "seberapa asimetris data kita"
   ]
  },
  {
   "cell_type": "code",
   "execution_count": 63,
   "metadata": {},
   "outputs": [
    {
     "data": {
      "text/plain": [
       "4.259246734227951"
      ]
     },
     "execution_count": 63,
     "metadata": {},
     "output_type": "execute_result"
    }
   ],
   "source": [
    "# pakai scipy stats\n",
    "scipy.stats.skew(gaji, bias=False)"
   ]
  },
  {
   "cell_type": "code",
   "execution_count": 64,
   "metadata": {},
   "outputs": [
    {
     "data": {
      "text/plain": [
       "4.259246734227952"
      ]
     },
     "execution_count": 64,
     "metadata": {},
     "output_type": "execute_result"
    }
   ],
   "source": [
    "# pakai pandas\n",
    "series_g.skew()"
   ]
  },
  {
   "cell_type": "markdown",
   "metadata": {},
   "source": [
    "## Percentiles\n",
    "posisi elemen kita dibandingkan elemen lainnya ada di persentase ke berapa. Misalnya percentile ke-5, artinya 5% data di bawah titik ini, 95% data di atasnya.\n",
    "\n",
    "### Quartiles\n",
    "percentile spesial, percentile ke-25, ke-50, dan ke-75 punya nama lain yaitu quartiles, Q1, Q2, Q3."
   ]
  },
  {
   "cell_type": "code",
   "execution_count": 66,
   "metadata": {},
   "outputs": [],
   "source": [
    "x = [-5.0, -1.1, 0.1, 2.0, 8.0, 12.8, 21.0, 25.8, 41.0]"
   ]
  },
  {
   "cell_type": "code",
   "execution_count": 67,
   "metadata": {},
   "outputs": [
    {
     "data": {
      "text/plain": [
       "[8.0]"
      ]
     },
     "execution_count": 67,
     "metadata": {},
     "output_type": "execute_result"
    }
   ],
   "source": [
    "# pakai statistics\n",
    "statistics.quantiles(x, n=2, method='inclusive')"
   ]
  },
  {
   "cell_type": "code",
   "execution_count": 68,
   "metadata": {},
   "outputs": [
    {
     "data": {
      "text/plain": [
       "[0.1, 8.0, 21.0]"
      ]
     },
     "execution_count": 68,
     "metadata": {},
     "output_type": "execute_result"
    }
   ],
   "source": [
    "statistics.quantiles(x, n=4, method='inclusive')"
   ]
  },
  {
   "cell_type": "code",
   "execution_count": 69,
   "metadata": {},
   "outputs": [
    {
     "data": {
      "text/plain": [
       "-3.44"
      ]
     },
     "execution_count": 69,
     "metadata": {},
     "output_type": "execute_result"
    }
   ],
   "source": [
    "# cari percentiles pakai numpy\n",
    "y = np.array(x)\n",
    "np.percentile(y, 5)"
   ]
  },
  {
   "cell_type": "code",
   "execution_count": 70,
   "metadata": {},
   "outputs": [
    {
     "data": {
      "text/plain": [
       "array([ 0.1,  8. , 21. ])"
      ]
     },
     "execution_count": 70,
     "metadata": {},
     "output_type": "execute_result"
    }
   ],
   "source": [
    "np.percentile(y, [25, 50, 75])"
   ]
  },
  {
   "cell_type": "code",
   "execution_count": 71,
   "metadata": {},
   "outputs": [],
   "source": [
    "# ada juga np.nanpercentile() yang bisa handle missing values"
   ]
  },
  {
   "cell_type": "code",
   "execution_count": 72,
   "metadata": {},
   "outputs": [
    {
     "data": {
      "text/plain": [
       "array([ 0.1,  8. , 21. ])"
      ]
     },
     "execution_count": 72,
     "metadata": {},
     "output_type": "execute_result"
    }
   ],
   "source": [
    "# cari quartiles pakai numpy\n",
    "np.quantile(y, [0.25, 0.50, 0.75])"
   ]
  },
  {
   "cell_type": "code",
   "execution_count": 73,
   "metadata": {},
   "outputs": [],
   "source": [
    "# ada juga np.nanquantile() yang bisa handle missing values"
   ]
  },
  {
   "cell_type": "code",
   "execution_count": 74,
   "metadata": {},
   "outputs": [
    {
     "data": {
      "text/plain": [
       "0.25     0.1\n",
       "0.50     8.0\n",
       "0.75    21.0\n",
       "dtype: float64"
      ]
     },
     "execution_count": 74,
     "metadata": {},
     "output_type": "execute_result"
    }
   ],
   "source": [
    "# pakai pandas\n",
    "z = pd.Series(x)\n",
    "z.quantile([0.25, 0.50, 0.75])"
   ]
  },
  {
   "cell_type": "markdown",
   "metadata": {},
   "source": [
    "## Range\n",
    "perbedaan nilai tertinggi dengan nilai terendah"
   ]
  },
  {
   "cell_type": "code",
   "execution_count": 75,
   "metadata": {},
   "outputs": [
    {
     "data": {
      "text/plain": [
       "46.0"
      ]
     },
     "execution_count": 75,
     "metadata": {},
     "output_type": "execute_result"
    }
   ],
   "source": [
    "# pakai numpy\n",
    "np.ptp(x)"
   ]
  },
  {
   "cell_type": "code",
   "execution_count": 76,
   "metadata": {},
   "outputs": [
    {
     "data": {
      "text/plain": [
       "46.0"
      ]
     },
     "execution_count": 76,
     "metadata": {},
     "output_type": "execute_result"
    }
   ],
   "source": [
    "# tanpa package\n",
    "max(x) - min(x)"
   ]
  },
  {
   "cell_type": "markdown",
   "metadata": {},
   "source": [
    "## Interquartile Range\n",
    "perbedaan nilai Q3 dengan nilai Q1"
   ]
  },
  {
   "cell_type": "code",
   "execution_count": 78,
   "metadata": {},
   "outputs": [
    {
     "name": "stdout",
     "output_type": "stream",
     "text": [
      "20.9\n"
     ]
    }
   ],
   "source": [
    "# pakai statistics\n",
    "q1, q2, q3 = statistics.quantiles(x, n=4, method='inclusive')\n",
    "\n",
    "print(q3 - q1)"
   ]
  },
  {
   "cell_type": "code",
   "execution_count": 80,
   "metadata": {},
   "outputs": [
    {
     "name": "stdout",
     "output_type": "stream",
     "text": [
      "20.9\n",
      "20.9\n"
     ]
    }
   ],
   "source": [
    "# pakai numpy\n",
    "q1, q3 = np.percentile(x, [25, 75])\n",
    "print(q3 - q1)\n",
    "\n",
    "q1, q3 = np.quantile(x, [0.25, 0.75])\n",
    "print(q3 - q1)"
   ]
  },
  {
   "cell_type": "code",
   "execution_count": 83,
   "metadata": {},
   "outputs": [
    {
     "name": "stdout",
     "output_type": "stream",
     "text": [
      "20.9\n"
     ]
    }
   ],
   "source": [
    "# pakai pandas\n",
    "q1, q3 = z.quantile([0.25, 0.75])\n",
    "print(q3 - q1)"
   ]
  },
  {
   "cell_type": "markdown",
   "metadata": {},
   "source": [
    "## Summary\n",
    "ada teknik tenik yang langsung menhitung banyak komponen dari descriptive statistics."
   ]
  },
  {
   "cell_type": "code",
   "execution_count": 86,
   "metadata": {},
   "outputs": [
    {
     "data": {
      "text/plain": [
       "count     9.000000\n",
       "mean     11.622222\n",
       "std      15.124548\n",
       "min      -5.000000\n",
       "25%       0.100000\n",
       "50%       8.000000\n",
       "75%      21.000000\n",
       "max      41.000000\n",
       "dtype: float64"
      ]
     },
     "execution_count": 86,
     "metadata": {},
     "output_type": "execute_result"
    }
   ],
   "source": [
    "# misalnya pandas punya describe\n",
    "hasil_describe = z.describe()\n",
    "hasil_describe"
   ]
  },
  {
   "cell_type": "code",
   "execution_count": 87,
   "metadata": {},
   "outputs": [
    {
     "data": {
      "text/plain": [
       "41.0"
      ]
     },
     "execution_count": 87,
     "metadata": {},
     "output_type": "execute_result"
    }
   ],
   "source": [
    "# ambil 1 hal dari rangkuman describe\n",
    "hasil_describe['max']"
   ]
  },
  {
   "cell_type": "code",
   "execution_count": 88,
   "metadata": {},
   "outputs": [
    {
     "data": {
      "text/plain": [
       "46.0"
      ]
     },
     "execution_count": 88,
     "metadata": {},
     "output_type": "execute_result"
    }
   ],
   "source": [
    "# cari range\n",
    "hasil_describe['max'] - hasil_describe['min']"
   ]
  },
  {
   "cell_type": "code",
   "execution_count": 89,
   "metadata": {},
   "outputs": [
    {
     "data": {
      "text/plain": [
       "20.9"
      ]
     },
     "execution_count": 89,
     "metadata": {},
     "output_type": "execute_result"
    }
   ],
   "source": [
    "# cari interquartile range\n",
    "hasil_describe['75%'] - hasil_describe['25%']"
   ]
  },
  {
   "cell_type": "code",
   "execution_count": 90,
   "metadata": {},
   "outputs": [
    {
     "data": {
      "text/plain": [
       "DescribeResult(nobs=9, minmax=(-5.0, 41.0), mean=11.622222222222222, variance=228.75194444444446, skewness=0.9249043136685094, kurtosis=0.14770623629658886)"
      ]
     },
     "execution_count": 90,
     "metadata": {},
     "output_type": "execute_result"
    }
   ],
   "source": [
    "# pakai scipy stats describe\n",
    "# untuk sample\n",
    "hasil_describe2 = scipy.stats.describe(y, ddof=1, bias=False)\n",
    "hasil_describe2"
   ]
  },
  {
   "cell_type": "markdown",
   "metadata": {},
   "source": [
    "- nobs = count\n",
    "- minmax = (min, max)\n",
    "- mean\n",
    "- variance\n",
    "- skewness\n",
    "- kurtosis"
   ]
  },
  {
   "cell_type": "code",
   "execution_count": 93,
   "metadata": {},
   "outputs": [
    {
     "data": {
      "text/plain": [
       "46.0"
      ]
     },
     "execution_count": 93,
     "metadata": {},
     "output_type": "execute_result"
    }
   ],
   "source": [
    "# misal kita mau cari range\n",
    "minmax = hasil_describe2.minmax\n",
    "minmax[1] - minmax[0]"
   ]
  },
  {
   "cell_type": "code",
   "execution_count": 94,
   "metadata": {},
   "outputs": [
    {
     "data": {
      "text/plain": [
       "15.12454774346805"
      ]
     },
     "execution_count": 94,
     "metadata": {},
     "output_type": "execute_result"
    }
   ],
   "source": [
    "# kalau mau cari standard deviation\n",
    "np.sqrt(hasil_describe2.variance)"
   ]
  },
  {
   "cell_type": "code",
   "execution_count": 95,
   "metadata": {},
   "outputs": [
    {
     "data": {
      "text/plain": [
       "15.12454774346805"
      ]
     },
     "execution_count": 95,
     "metadata": {},
     "output_type": "execute_result"
    }
   ],
   "source": [
    "hasil_describe2.variance**0.5"
   ]
  },
  {
   "cell_type": "markdown",
   "metadata": {},
   "source": [
    "# Measure of Correlation between Pairs of Data\n",
    "kita bukan melihat 1 set data lagi, tapi 2 set data. Apakah ada hubungan antara 2 set data? correlation"
   ]
  },
  {
   "cell_type": "code",
   "execution_count": 97,
   "metadata": {},
   "outputs": [
    {
     "data": {
      "text/plain": [
       "Text(0, 0.5, 'y')"
      ]
     },
     "execution_count": 97,
     "metadata": {},
     "output_type": "execute_result"
    },
    {
     "data": {
      "image/png": "[encoded data removed]",
      "text/plain": [
       "<Figure size 432x288 with 1 Axes>"
      ]
     },
     "metadata": {
      "needs_background": "light"
     },
     "output_type": "display_data"
    }
   ],
   "source": [
    "x = list(range(-10, 11))\n",
    "y = [0, 2, 2, 2, 2, 3, 3, 6, 7, 4, 7, 6, 6, 9, 4, 5, 5, 10, 11, 12, 14]\n",
    "\n",
    "plt.scatter(x, y)\n",
    "plt.xlabel(\"x\")\n",
    "plt.ylabel(\"y\")"
   ]
  },
  {
   "cell_type": "markdown",
   "metadata": {},
   "source": [
    "## Covariance"
   ]
  },
  {
   "cell_type": "code",
   "execution_count": 99,
   "metadata": {},
   "outputs": [
    {
     "data": {
      "text/plain": [
       "array([[38.5       , 19.95      ],\n",
       "       [19.95      , 13.91428571]])"
      ]
     },
     "execution_count": 99,
     "metadata": {},
     "output_type": "execute_result"
    }
   ],
   "source": [
    "# pakai numpy, dapat covariance matrix\n",
    "cov_matrix = np.cov(x, y)\n",
    "cov_matrix"
   ]
  },
  {
   "cell_type": "code",
   "execution_count": 100,
   "metadata": {},
   "outputs": [
    {
     "data": {
      "text/plain": [
       "array([[13.91428571, 19.95      ],\n",
       "       [19.95      , 38.5       ]])"
      ]
     },
     "execution_count": 100,
     "metadata": {},
     "output_type": "execute_result"
    }
   ],
   "source": [
    "cov_matrix = np.cov(y, x)\n",
    "cov_matrix"
   ]
  },
  {
   "cell_type": "code",
   "execution_count": 101,
   "metadata": {},
   "outputs": [
    {
     "name": "stdout",
     "output_type": "stream",
     "text": [
      "19.95\n"
     ]
    }
   ],
   "source": [
    "covariance = cov_matrix[0,1]\n",
    "# covariance = cov_matrix[1,0]\n",
    "\n",
    "print(covariance)"
   ]
  },
  {
   "cell_type": "markdown",
   "metadata": {},
   "source": [
    "## Correlation Coefficient"
   ]
  },
  {
   "cell_type": "code",
   "execution_count": 104,
   "metadata": {},
   "outputs": [
    {
     "name": "stdout",
     "output_type": "stream",
     "text": [
      "[[1.         0.86195001]\n",
      " [0.86195001 1.        ]]\n",
      "\n",
      "r: 0.8619500056316061\n"
     ]
    }
   ],
   "source": [
    "# pakai numpy\n",
    "matrix = np.corrcoef(x, y)\n",
    "print(matrix)\n",
    "print()\n",
    "print(\"r:\", matrix[0,1])"
   ]
  },
  {
   "cell_type": "code",
   "execution_count": 106,
   "metadata": {},
   "outputs": [
    {
     "name": "stdout",
     "output_type": "stream",
     "text": [
      "r: 0.8619500056316061\n"
     ]
    }
   ],
   "source": [
    "# pakai scipy stats\n",
    "r, p = scipy.stats.pearsonr(x, y)\n",
    "print(\"r:\", r)"
   ]
  },
  {
   "cell_type": "code",
   "execution_count": 107,
   "metadata": {},
   "outputs": [
    {
     "data": {
      "text/plain": [
       "LinregressResult(slope=0.5181818181818181, intercept=5.714285714285714, rvalue=0.861950005631606, pvalue=5.122760847201165e-07, stderr=0.06992387660074979, intercept_stderr=0.4234100995002589)"
      ]
     },
     "execution_count": 107,
     "metadata": {},
     "output_type": "execute_result"
    }
   ],
   "source": [
    "# bisa juga ambil dari scipy stats linregress\n",
    "hasil_regression = scipy.stats.linregress(x, y)\n",
    "hasil_regression"
   ]
  },
  {
   "cell_type": "code",
   "execution_count": 108,
   "metadata": {},
   "outputs": [
    {
     "name": "stdout",
     "output_type": "stream",
     "text": [
      "0.861950005631606\n"
     ]
    }
   ],
   "source": [
    "print(hasil_regression.rvalue)"
   ]
  },
  {
   "cell_type": "code",
   "execution_count": 110,
   "metadata": {},
   "outputs": [
    {
     "name": "stdout",
     "output_type": "stream",
     "text": [
      "0.8619500056316061\n",
      "0.861950005631606\n"
     ]
    }
   ],
   "source": [
    "# pakai pandas\n",
    "series_x = pd.Series(x)\n",
    "series_y = pd.Series(y)\n",
    "\n",
    "print(series_x.corr(series_y))\n",
    "print(series_y.corr(series_x))"
   ]
  },
  {
   "cell_type": "code",
   "execution_count": null,
   "metadata": {},
   "outputs": [],
   "source": []
  }
 ],
 "metadata": {
  "kernelspec": {
   "display_name": "Python 3 (ipykernel)",
   "language": "python",
   "name": "python3"
  },
  "language_info": {
   "codemirror_mode": {
    "name": "ipython",
    "version": 3
   },
   "file_extension": ".py",
   "mimetype": "text/x-python",
   "name": "python",
   "nbconvert_exporter": "python",
   "pygments_lexer": "ipython3",
   "version": "3.8.5"
  }
 },
 "nbformat": 4,
 "nbformat_minor": 4
}
