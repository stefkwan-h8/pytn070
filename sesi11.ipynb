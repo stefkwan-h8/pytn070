{
 "cells": [
  {
   "cell_type": "markdown",
   "metadata": {},
   "source": [
    "# Machine Learning\n",
    "teknik yang mencoba mendekati Artifical Intelligence.\n",
    "\n",
    "## Terminologi\n",
    "- dataset\n",
    "- features (kolom yg penting di dataset untuk model machine learning kita)\n",
    "- model (hasil machine learning nya, bisa menerima input dan memberi output)\n",
    "\n",
    "## Process\n",
    "1. data collection\n",
    "2. data preparation\n",
    "3. training (membuat dan men-train model machine learning)\n",
    "4. evaluation\n",
    "5. tuning\n",
    "\n",
    "machine learning menggunakan algoritma untuk menyelesaikan sebuah masalah. Jadi kita tinggal pilih algoritma nya, lalu masukkan data, dan jadilah sebuah model machine learning.\n",
    "\n",
    "dataset gender, umur + target berat badan --> machine learning --> model machine learning bisa menerima input gender, umur lalu memberi output berat badan.\n",
    "\n",
    "## Supervised Machine Learning\n",
    "ada target\n",
    "\n",
    "### target adalah angka\n",
    "dataset 1 fitur: luas rumah, target: harga rumah --> machine learning (algoritma linear *regression*/ polynomial regression)--> model yang bisa menebak harga rumah jika diberikan luas rumah\n",
    "\n",
    "### target adalah label\n",
    "misalkan pisahin gambar jadi pohon/ manusia. misalkan pisahin rumah jadi tipe apartemen/ rumah tanah/ kos-kosan.\n",
    "\n",
    "menggunakan algoritma *classification*\n",
    "\n",
    "## Unsupervised Machine Learning\n",
    "tidak ada target\n",
    "\n",
    "dataset isi konten email --> machine learning (*clustering*, pilih algoritma clustering, pilih mau berapa cluster) --> model yang bisa kelompokin email yang mirip2 jadi 1\n",
    "\n",
    "selain itu ada juga teknik yang kita gunakan untuk mengurangi jumlah fitur (bukan dihapus fiturnya, tapi hanya dicampur) PCA."
   ]
  },
  {
   "cell_type": "markdown",
   "metadata": {},
   "source": [
    "# Regression\n",
    "model machine learning yang memberi output sebuah angka\n",
    "\n",
    "## Linear Regression\n",
    "mencari fungsi matematik yang membentuk garis lurus, diberikan data kita (yang kita plot bentuk scatter plot)."
   ]
  },
  {
   "cell_type": "code",
   "execution_count": 73,
   "metadata": {},
   "outputs": [],
   "source": [
    "import numpy as np\n",
    "\n",
    "# untuk visualisasi\n",
    "import pandas as pd\n",
    "import matplotlib.pyplot as plt\n",
    "%matplotlib inline\n",
    "\n",
    "# untuk linear regression\n",
    "from sklearn.linear_model import LinearRegression\n",
    "# untuk polynomial regression\n",
    "from sklearn.preprocessing import PolynomialFeatures\n",
    "# untuk import data asli\n",
    "from sklearn import datasets \n",
    "\n",
    "# untuk memisahkan data jadi training dan testing data\n",
    "from sklearn.model_selection import train_test_split"
   ]
  },
  {
   "cell_type": "code",
   "execution_count": 13,
   "metadata": {},
   "outputs": [
    {
     "data": {
      "text/plain": [
       "Text(0.5, 1.0, 'Dummy data harga rumah')"
      ]
     },
     "execution_count": 13,
     "metadata": {},
     "output_type": "execute_result"
    },
    {
     "data": {
      "image/png": "[encoded data removed]",
      "text/plain": [
       "<Figure size 432x288 with 1 Axes>"
      ]
     },
     "metadata": {
      "needs_background": "light"
     },
     "output_type": "display_data"
    }
   ],
   "source": [
    "# membuat dummy data\n",
    "x = np.array([5, 15, 25, 35, 45, 55]).reshape((-1, 1))\n",
    "y = np.array([5, 20, 14, 32, 22, 38])\n",
    "\n",
    "pd.DataFrame({\"luas tanah\":x.reshape(6,), \"harga rumah\":y}).plot.scatter(x=\"luas tanah\", y=\"harga rumah\")\n",
    "plt.title(\"Dummy data harga rumah\")"
   ]
  },
  {
   "cell_type": "code",
   "execution_count": 14,
   "metadata": {},
   "outputs": [
    {
     "data": {
      "text/plain": [
       "LinearRegression()"
      ]
     },
     "execution_count": 14,
     "metadata": {},
     "output_type": "execute_result"
    }
   ],
   "source": [
    "# siapin data - skip\n",
    "# buat model machine learning, pilih algoritma linear regression\n",
    "model = LinearRegression() # bikin model\n",
    "model.fit(x, y) # training model\n",
    "\n",
    "model"
   ]
  },
  {
   "cell_type": "code",
   "execution_count": 17,
   "metadata": {},
   "outputs": [
    {
     "data": {
      "text/plain": [
       "array([21.83333333])"
      ]
     },
     "execution_count": 17,
     "metadata": {},
     "output_type": "execute_result"
    }
   ],
   "source": [
    "# cobain pake model nya, kasi input (x, luas tanah) dan dapat output (y, harga rumah)\n",
    "model.predict([[30]])"
   ]
  },
  {
   "cell_type": "code",
   "execution_count": 29,
   "metadata": {},
   "outputs": [
    {
     "data": {
      "text/plain": [
       "<matplotlib.collections.PathCollection at 0x22410ab0400>"
      ]
     },
     "execution_count": 29,
     "metadata": {},
     "output_type": "execute_result"
    },
    {
     "data": {
      "image/png": "[encoded data removed]",
      "text/plain": [
       "<Figure size 432x288 with 1 Axes>"
      ]
     },
     "metadata": {
      "needs_background": "light"
     },
     "output_type": "display_data"
    }
   ],
   "source": [
    "# visualisasikan hasil prediksi\n",
    "x_dummy = np.arange(1,61).reshape((-1,1))\n",
    "hasil_prediksi = model.predict(x_dummy)\n",
    "\n",
    "# data awal\n",
    "pd.DataFrame({\"luas tanah\":x.reshape(6,), \"harga rumah\":y}).plot.scatter(x=\"luas tanah\", y=\"harga rumah\")\n",
    "plt.title(\"Dummy data harga rumah\")\n",
    "\n",
    "# garis hasil prediksi\n",
    "plt.plot(x_dummy, hasil_prediksi, color=\"orange\")\n",
    "\n",
    "# plot hasil prediksi data awal di garis prediksi\n",
    "plt.scatter(x, model.predict(x), color=\"orange\")"
   ]
  },
  {
   "cell_type": "code",
   "execution_count": 31,
   "metadata": {},
   "outputs": [
    {
     "name": "stdout",
     "output_type": "stream",
     "text": [
      "0.7158756137479542\n"
     ]
    }
   ],
   "source": [
    "# evaluasi\n",
    "r2 = model.score(x, y) # ini data yang kita gunakan untuk testing, kali ini sama dengan data training\n",
    "print(r2)"
   ]
  },
  {
   "cell_type": "markdown",
   "metadata": {},
   "source": [
    "polynomial regression adalah saat garisnya bisa berbelok. degree 2 - belok 1 kali, degree 3 - belok 2 kali, dan seterusnya. polynomial regression degree 1 adalah linear regression.\n",
    "\n",
    "R2 angka yang menunjukkan seberapa dekat hasil regression kita dengan data testing nya. nilai R2 maksimal 1.\n",
    "\n",
    "- underfitting adalah saat garis regresi kurang mendekati data awal (tidak bisa memprediksi dengan baik, terlalu jauh dari data awal). R2 mendekati 0, kemungkinan underfitting.\n",
    "- overfitting adalah saat garis regresi terlalu dekat dengan data awal (tidak bisa memprediksi dengan baik, karena terlalu menghafal data awal). kalau R2 mendekati 1, kemungkinan overfitting."
   ]
  },
  {
   "cell_type": "markdown",
   "metadata": {},
   "source": [
    "## multiple linear regression\n",
    "saat fitur lebih dari satu, misal luas rumah dan luas tanah untuk memprediksi harga rumah."
   ]
  },
  {
   "cell_type": "code",
   "execution_count": 35,
   "metadata": {},
   "outputs": [
    {
     "data": {
      "text/html": [
       "<div>\n",
       "<style scoped>\n",
       "    .dataframe tbody tr th:only-of-type {\n",
       "        vertical-align: middle;\n",
       "    }\n",
       "\n",
       "    .dataframe tbody tr th {\n",
       "        vertical-align: top;\n",
       "    }\n",
       "\n",
       "    .dataframe thead th {\n",
       "        text-align: right;\n",
       "    }\n",
       "</style>\n",
       "<table border=\"1\" class=\"dataframe\">\n",
       "  <thead>\n",
       "    <tr style=\"text-align: right;\">\n",
       "      <th></th>\n",
       "      <th>luas tanah</th>\n",
       "      <th>luas bangunan</th>\n",
       "      <th>harga rumah</th>\n",
       "    </tr>\n",
       "  </thead>\n",
       "  <tbody>\n",
       "    <tr>\n",
       "      <th>0</th>\n",
       "      <td>0</td>\n",
       "      <td>1</td>\n",
       "      <td>4</td>\n",
       "    </tr>\n",
       "    <tr>\n",
       "      <th>1</th>\n",
       "      <td>5</td>\n",
       "      <td>1</td>\n",
       "      <td>5</td>\n",
       "    </tr>\n",
       "    <tr>\n",
       "      <th>2</th>\n",
       "      <td>15</td>\n",
       "      <td>2</td>\n",
       "      <td>20</td>\n",
       "    </tr>\n",
       "    <tr>\n",
       "      <th>3</th>\n",
       "      <td>25</td>\n",
       "      <td>5</td>\n",
       "      <td>14</td>\n",
       "    </tr>\n",
       "    <tr>\n",
       "      <th>4</th>\n",
       "      <td>35</td>\n",
       "      <td>11</td>\n",
       "      <td>32</td>\n",
       "    </tr>\n",
       "    <tr>\n",
       "      <th>5</th>\n",
       "      <td>45</td>\n",
       "      <td>15</td>\n",
       "      <td>22</td>\n",
       "    </tr>\n",
       "    <tr>\n",
       "      <th>6</th>\n",
       "      <td>55</td>\n",
       "      <td>34</td>\n",
       "      <td>38</td>\n",
       "    </tr>\n",
       "    <tr>\n",
       "      <th>7</th>\n",
       "      <td>60</td>\n",
       "      <td>35</td>\n",
       "      <td>43</td>\n",
       "    </tr>\n",
       "  </tbody>\n",
       "</table>\n",
       "</div>"
      ],
      "text/plain": [
       "   luas tanah  luas bangunan  harga rumah\n",
       "0           0              1            4\n",
       "1           5              1            5\n",
       "2          15              2           20\n",
       "3          25              5           14\n",
       "4          35             11           32\n",
       "5          45             15           22\n",
       "6          55             34           38\n",
       "7          60             35           43"
      ]
     },
     "execution_count": 35,
     "metadata": {},
     "output_type": "execute_result"
    }
   ],
   "source": [
    "x = [[0, 1], [5, 1], [15, 2], [25, 5], [35, 11], [45, 15], [55, 34], [60, 35]]\n",
    "y = [4, 5, 20, 14, 32, 22, 38, 43]\n",
    "x, y = np.array(x), np.array(y)\n",
    "\n",
    "pd.DataFrame({\"luas tanah\": x.T[0], \"luas bangunan\": x.T[1], \"harga rumah\": y})"
   ]
  },
  {
   "cell_type": "code",
   "execution_count": 37,
   "metadata": {},
   "outputs": [
    {
     "data": {
      "text/plain": [
       "0.8615939258756775"
      ]
     },
     "execution_count": 37,
     "metadata": {},
     "output_type": "execute_result"
    }
   ],
   "source": [
    "# data sudah siap\n",
    "# data preparation - skip\n",
    "# buat dan latih model\n",
    "model = LinearRegression().fit(x, y)\n",
    "\n",
    "# evaluasi model\n",
    "model.score(x,y)"
   ]
  },
  {
   "cell_type": "code",
   "execution_count": 39,
   "metadata": {},
   "outputs": [
    {
     "data": {
      "text/plain": [
       "array([8.012953])"
      ]
     },
     "execution_count": 39,
     "metadata": {},
     "output_type": "execute_result"
    }
   ],
   "source": [
    "# buat prediksi\n",
    "model.predict([[5,1]])"
   ]
  },
  {
   "cell_type": "markdown",
   "metadata": {},
   "source": [
    "# Polynomial Regression\n",
    "membuat garis regression yang berbelok."
   ]
  },
  {
   "cell_type": "code",
   "execution_count": 44,
   "metadata": {},
   "outputs": [
    {
     "data": {
      "text/plain": [
       "Text(0, 0.5, 'harga rumah')"
      ]
     },
     "execution_count": 44,
     "metadata": {},
     "output_type": "execute_result"
    },
    {
     "data": {
      "image/png": "[encoded data removed]",
      "text/plain": [
       "<Figure size 432x288 with 1 Axes>"
      ]
     },
     "metadata": {
      "needs_background": "light"
     },
     "output_type": "display_data"
    }
   ],
   "source": [
    "# buat data dummy\n",
    "x = np.array([5, 15, 25, 35, 45, 55]).reshape((-1, 1))\n",
    "y = np.array([15, 11, 2, 8, 25, 32])\n",
    "\n",
    "plt.scatter(x, y)\n",
    "plt.title(\"data dummy\")\n",
    "plt.xlabel(\"luas tanah\")\n",
    "plt.ylabel(\"harga rumah\")"
   ]
  },
  {
   "cell_type": "code",
   "execution_count": 45,
   "metadata": {},
   "outputs": [
    {
     "name": "stdout",
     "output_type": "stream",
     "text": [
      "[[   5.   25.]\n",
      " [  15.  225.]\n",
      " [  25.  625.]\n",
      " [  35. 1225.]\n",
      " [  45. 2025.]\n",
      " [  55. 3025.]]\n"
     ]
    }
   ],
   "source": [
    "# siapin data\n",
    "# ubah format data menjadi bentuk polynomial\n",
    "\n",
    "# buat pengubahnya (transformer)\n",
    "transformer = PolynomialFeatures(degree=2, include_bias=False)\n",
    "# latih transformer nya\n",
    "transformer.fit(x)\n",
    "\n",
    "# ubah data kita jadi bentuk polynomial\n",
    "x_poly = transformer.transform(x)\n",
    "\n",
    "# cara lain, gabung 3 step diatas jadi 1\n",
    "# x_poly = PolynomialFeatures(degree=2, include_bias=False).fit_transform(x)\n",
    "\n",
    "print(x_poly)"
   ]
  },
  {
   "cell_type": "code",
   "execution_count": 46,
   "metadata": {},
   "outputs": [
    {
     "data": {
      "text/plain": [
       "0.8908516262498563"
      ]
     },
     "execution_count": 46,
     "metadata": {},
     "output_type": "execute_result"
    }
   ],
   "source": [
    "# buat dan latih model\n",
    "model = LinearRegression().fit(x_poly, y)\n",
    "\n",
    "# evaluasi model\n",
    "model.score(x_poly, y)"
   ]
  },
  {
   "cell_type": "code",
   "execution_count": 51,
   "metadata": {},
   "outputs": [
    {
     "data": {
      "text/plain": [
       "<matplotlib.collections.PathCollection at 0x22410923550>"
      ]
     },
     "execution_count": 51,
     "metadata": {},
     "output_type": "execute_result"
    },
    {
     "data": {
      "image/png": "[encoded data removed]",
      "text/plain": [
       "<Figure size 432x288 with 1 Axes>"
      ]
     },
     "metadata": {
      "needs_background": "light"
     },
     "output_type": "display_data"
    }
   ],
   "source": [
    "# buat visualisasi\n",
    "x_dummy = np.arange(1,61).reshape((-1,1))\n",
    "\n",
    "x_dummy_poly = PolynomialFeatures(degree=2, include_bias=False).fit_transform(x_dummy)\n",
    "\n",
    "# buat prediksi dengan data dummy\n",
    "hasil_prediksi = model.predict(x_dummy_poly)\n",
    "\n",
    "# plot data awal\n",
    "plt.scatter(x, y)\n",
    "plt.title(\"data dummy\")\n",
    "plt.xlabel(\"luas tanah\")\n",
    "plt.ylabel(\"harga rumah\")\n",
    "\n",
    "# plot x_dummy denga hasil prediksi\n",
    "plt.plot(x_dummy, hasil_prediksi, color=\"orange\")\n",
    "\n",
    "# plot data awal kita kalau di garis regression nya ada dimana\n",
    "plt.scatter(x, model.predict(x_poly), color=\"orange\")"
   ]
  },
  {
   "cell_type": "code",
   "execution_count": 55,
   "metadata": {},
   "outputs": [
    {
     "data": {
      "text/plain": [
       "array([7.21875])"
      ]
     },
     "execution_count": 55,
     "metadata": {},
     "output_type": "execute_result"
    }
   ],
   "source": [
    "# luas tanah 30, prediksi harga nya berapa?\n",
    "model.predict([[30, 30**2]])"
   ]
  },
  {
   "cell_type": "markdown",
   "metadata": {},
   "source": [
    "## Bagaimana kalau Polynomial Regression kita Degree n\n",
    "n = 1,2,3,4..."
   ]
  },
  {
   "cell_type": "code",
   "execution_count": 65,
   "metadata": {},
   "outputs": [
    {
     "name": "stdout",
     "output_type": "stream",
     "text": [
      "R2: 0.4065969428801286\n"
     ]
    },
    {
     "data": {
      "text/plain": [
       "<matplotlib.collections.PathCollection at 0x22412057ca0>"
      ]
     },
     "execution_count": 65,
     "metadata": {},
     "output_type": "execute_result"
    },
    {
     "data": {
      "image/png": "[encoded data removed]",
      "text/plain": [
       "<Figure size 432x288 with 1 Axes>"
      ]
     },
     "metadata": {
      "needs_background": "light"
     },
     "output_type": "display_data"
    }
   ],
   "source": [
    "n = 1\n",
    "start = 1\n",
    "end = 64\n",
    "\n",
    "# buat data dummy\n",
    "x = np.array([5, 15, 25, 35, 45, 55]).reshape((-1, 1))\n",
    "y = np.array([15, 11, 2, 8, 25, 32])\n",
    "\n",
    "# ubah jadi bentuk polynomial untuk input data\n",
    "x_poly = PolynomialFeatures(degree=n, include_bias=False).fit_transform(x)\n",
    "\n",
    "# buat dan latih model\n",
    "model = LinearRegression().fit(x_poly, y)\n",
    "\n",
    "# evaluasi model\n",
    "print(\"R2:\", model.score(x_poly, y))\n",
    "\n",
    "# buat visualisasi, bikin dummy data dari x = start sampai x = end\n",
    "x_dummy = np.arange(start, end).reshape((-1,1))\n",
    "# bentuk dummy data juga diubah jadi bentuk polynomial\n",
    "x_dummy_poly = PolynomialFeatures(degree=n, include_bias=False).fit_transform(x_dummy)\n",
    "\n",
    "# buat prediksi dengan data dummy\n",
    "hasil_prediksi = model.predict(x_dummy_poly)\n",
    "\n",
    "# visualisasi data awal\n",
    "plt.scatter(x, y)\n",
    "plt.title(\"data dummy\")\n",
    "plt.xlabel(\"luas tanah\")\n",
    "plt.ylabel(\"harga rumah\")\n",
    "\n",
    "# plot x_dummy dengan hasil prediksi\n",
    "plt.plot(x_dummy, hasil_prediksi, color=\"orange\")\n",
    "\n",
    "# plot data awal kita kalau di garis regression nya ada dimana\n",
    "plt.scatter(x, model.predict(x_poly), color=\"orange\")"
   ]
  },
  {
   "cell_type": "markdown",
   "metadata": {},
   "source": [
    "# Regression dengan Real Data"
   ]
  },
  {
   "cell_type": "code",
   "execution_count": 67,
   "metadata": {},
   "outputs": [],
   "source": [
    "# import data perumahan di boston\n",
    "from sklearn import datasets \n",
    "\n",
    "data = datasets.load_boston()"
   ]
  },
  {
   "cell_type": "code",
   "execution_count": 68,
   "metadata": {},
   "outputs": [
    {
     "name": "stdout",
     "output_type": "stream",
     "text": [
      ".. _boston_dataset:\n",
      "\n",
      "Boston house prices dataset\n",
      "---------------------------\n",
      "\n",
      "**Data Set Characteristics:**  \n",
      "\n",
      "    :Number of Instances: 506 \n",
      "\n",
      "    :Number of Attributes: 13 numeric/categorical predictive. Median Value (attribute 14) is usually the target.\n",
      "\n",
      "    :Attribute Information (in order):\n",
      "        - CRIM     per capita crime rate by town\n",
      "        - ZN       proportion of residential land zoned for lots over 25,000 sq.ft.\n",
      "        - INDUS    proportion of non-retail business acres per town\n",
      "        - CHAS     Charles River dummy variable (= 1 if tract bounds river; 0 otherwise)\n",
      "        - NOX      nitric oxides concentration (parts per 10 million)\n",
      "        - RM       average number of rooms per dwelling\n",
      "        - AGE      proportion of owner-occupied units built prior to 1940\n",
      "        - DIS      weighted distances to five Boston employment centres\n",
      "        - RAD      index of accessibility to radial highways\n",
      "        - TAX      full-value property-tax rate per $10,000\n",
      "        - PTRATIO  pupil-teacher ratio by town\n",
      "        - B        1000(Bk - 0.63)^2 where Bk is the proportion of blacks by town\n",
      "        - LSTAT    % lower status of the population\n",
      "        - MEDV     Median value of owner-occupied homes in $1000's\n",
      "\n",
      "    :Missing Attribute Values: None\n",
      "\n",
      "    :Creator: Harrison, D. and Rubinfeld, D.L.\n",
      "\n",
      "This is a copy of UCI ML housing dataset.\n",
      "https://archive.ics.uci.edu/ml/machine-learning-databases/housing/\n",
      "\n",
      "\n",
      "This dataset was taken from the StatLib library which is maintained at Carnegie Mellon University.\n",
      "\n",
      "The Boston house-price data of Harrison, D. and Rubinfeld, D.L. 'Hedonic\n",
      "prices and the demand for clean air', J. Environ. Economics & Management,\n",
      "vol.5, 81-102, 1978.   Used in Belsley, Kuh & Welsch, 'Regression diagnostics\n",
      "...', Wiley, 1980.   N.B. Various transformations are used in the table on\n",
      "pages 244-261 of the latter.\n",
      "\n",
      "The Boston house-price data has been used in many machine learning papers that address regression\n",
      "problems.   \n",
      "     \n",
      ".. topic:: References\n",
      "\n",
      "   - Belsley, Kuh & Welsch, 'Regression diagnostics: Identifying Influential Data and Sources of Collinearity', Wiley, 1980. 244-261.\n",
      "   - Quinlan,R. (1993). Combining Instance-Based and Model-Based Learning. In Proceedings on the Tenth International Conference of Machine Learning, 236-243, University of Massachusetts, Amherst. Morgan Kaufmann.\n",
      "\n"
     ]
    }
   ],
   "source": [
    "print(data.DESCR)"
   ]
  },
  {
   "cell_type": "code",
   "execution_count": 71,
   "metadata": {},
   "outputs": [
    {
     "data": {
      "text/html": [
       "<div>\n",
       "<style scoped>\n",
       "    .dataframe tbody tr th:only-of-type {\n",
       "        vertical-align: middle;\n",
       "    }\n",
       "\n",
       "    .dataframe tbody tr th {\n",
       "        vertical-align: top;\n",
       "    }\n",
       "\n",
       "    .dataframe thead th {\n",
       "        text-align: right;\n",
       "    }\n",
       "</style>\n",
       "<table border=\"1\" class=\"dataframe\">\n",
       "  <thead>\n",
       "    <tr style=\"text-align: right;\">\n",
       "      <th></th>\n",
       "      <th>CRIM</th>\n",
       "      <th>ZN</th>\n",
       "      <th>INDUS</th>\n",
       "      <th>CHAS</th>\n",
       "      <th>NOX</th>\n",
       "      <th>RM</th>\n",
       "      <th>AGE</th>\n",
       "      <th>DIS</th>\n",
       "      <th>RAD</th>\n",
       "      <th>TAX</th>\n",
       "      <th>PTRATIO</th>\n",
       "      <th>B</th>\n",
       "      <th>LSTAT</th>\n",
       "    </tr>\n",
       "  </thead>\n",
       "  <tbody>\n",
       "    <tr>\n",
       "      <th>0</th>\n",
       "      <td>0.00632</td>\n",
       "      <td>18.0</td>\n",
       "      <td>2.31</td>\n",
       "      <td>0.0</td>\n",
       "      <td>0.538</td>\n",
       "      <td>6.575</td>\n",
       "      <td>65.2</td>\n",
       "      <td>4.0900</td>\n",
       "      <td>1.0</td>\n",
       "      <td>296.0</td>\n",
       "      <td>15.3</td>\n",
       "      <td>396.90</td>\n",
       "      <td>4.98</td>\n",
       "    </tr>\n",
       "    <tr>\n",
       "      <th>1</th>\n",
       "      <td>0.02731</td>\n",
       "      <td>0.0</td>\n",
       "      <td>7.07</td>\n",
       "      <td>0.0</td>\n",
       "      <td>0.469</td>\n",
       "      <td>6.421</td>\n",
       "      <td>78.9</td>\n",
       "      <td>4.9671</td>\n",
       "      <td>2.0</td>\n",
       "      <td>242.0</td>\n",
       "      <td>17.8</td>\n",
       "      <td>396.90</td>\n",
       "      <td>9.14</td>\n",
       "    </tr>\n",
       "    <tr>\n",
       "      <th>2</th>\n",
       "      <td>0.02729</td>\n",
       "      <td>0.0</td>\n",
       "      <td>7.07</td>\n",
       "      <td>0.0</td>\n",
       "      <td>0.469</td>\n",
       "      <td>7.185</td>\n",
       "      <td>61.1</td>\n",
       "      <td>4.9671</td>\n",
       "      <td>2.0</td>\n",
       "      <td>242.0</td>\n",
       "      <td>17.8</td>\n",
       "      <td>392.83</td>\n",
       "      <td>4.03</td>\n",
       "    </tr>\n",
       "    <tr>\n",
       "      <th>3</th>\n",
       "      <td>0.03237</td>\n",
       "      <td>0.0</td>\n",
       "      <td>2.18</td>\n",
       "      <td>0.0</td>\n",
       "      <td>0.458</td>\n",
       "      <td>6.998</td>\n",
       "      <td>45.8</td>\n",
       "      <td>6.0622</td>\n",
       "      <td>3.0</td>\n",
       "      <td>222.0</td>\n",
       "      <td>18.7</td>\n",
       "      <td>394.63</td>\n",
       "      <td>2.94</td>\n",
       "    </tr>\n",
       "    <tr>\n",
       "      <th>4</th>\n",
       "      <td>0.06905</td>\n",
       "      <td>0.0</td>\n",
       "      <td>2.18</td>\n",
       "      <td>0.0</td>\n",
       "      <td>0.458</td>\n",
       "      <td>7.147</td>\n",
       "      <td>54.2</td>\n",
       "      <td>6.0622</td>\n",
       "      <td>3.0</td>\n",
       "      <td>222.0</td>\n",
       "      <td>18.7</td>\n",
       "      <td>396.90</td>\n",
       "      <td>5.33</td>\n",
       "    </tr>\n",
       "  </tbody>\n",
       "</table>\n",
       "</div>"
      ],
      "text/plain": [
       "      CRIM    ZN  INDUS  CHAS    NOX     RM   AGE     DIS  RAD    TAX  \\\n",
       "0  0.00632  18.0   2.31   0.0  0.538  6.575  65.2  4.0900  1.0  296.0   \n",
       "1  0.02731   0.0   7.07   0.0  0.469  6.421  78.9  4.9671  2.0  242.0   \n",
       "2  0.02729   0.0   7.07   0.0  0.469  7.185  61.1  4.9671  2.0  242.0   \n",
       "3  0.03237   0.0   2.18   0.0  0.458  6.998  45.8  6.0622  3.0  222.0   \n",
       "4  0.06905   0.0   2.18   0.0  0.458  7.147  54.2  6.0622  3.0  222.0   \n",
       "\n",
       "   PTRATIO       B  LSTAT  \n",
       "0     15.3  396.90   4.98  \n",
       "1     17.8  396.90   9.14  \n",
       "2     17.8  392.83   4.03  \n",
       "3     18.7  394.63   2.94  \n",
       "4     18.7  396.90   5.33  "
      ]
     },
     "metadata": {},
     "output_type": "display_data"
    },
    {
     "data": {
      "text/plain": [
       "(506, 13)"
      ]
     },
     "metadata": {},
     "output_type": "display_data"
    },
    {
     "data": {
      "text/html": [
       "<div>\n",
       "<style scoped>\n",
       "    .dataframe tbody tr th:only-of-type {\n",
       "        vertical-align: middle;\n",
       "    }\n",
       "\n",
       "    .dataframe tbody tr th {\n",
       "        vertical-align: top;\n",
       "    }\n",
       "\n",
       "    .dataframe thead th {\n",
       "        text-align: right;\n",
       "    }\n",
       "</style>\n",
       "<table border=\"1\" class=\"dataframe\">\n",
       "  <thead>\n",
       "    <tr style=\"text-align: right;\">\n",
       "      <th></th>\n",
       "      <th>MEDV</th>\n",
       "    </tr>\n",
       "  </thead>\n",
       "  <tbody>\n",
       "    <tr>\n",
       "      <th>0</th>\n",
       "      <td>24.0</td>\n",
       "    </tr>\n",
       "    <tr>\n",
       "      <th>1</th>\n",
       "      <td>21.6</td>\n",
       "    </tr>\n",
       "    <tr>\n",
       "      <th>2</th>\n",
       "      <td>34.7</td>\n",
       "    </tr>\n",
       "    <tr>\n",
       "      <th>3</th>\n",
       "      <td>33.4</td>\n",
       "    </tr>\n",
       "    <tr>\n",
       "      <th>4</th>\n",
       "      <td>36.2</td>\n",
       "    </tr>\n",
       "  </tbody>\n",
       "</table>\n",
       "</div>"
      ],
      "text/plain": [
       "   MEDV\n",
       "0  24.0\n",
       "1  21.6\n",
       "2  34.7\n",
       "3  33.4\n",
       "4  36.2"
      ]
     },
     "metadata": {},
     "output_type": "display_data"
    },
    {
     "data": {
      "text/plain": [
       "(506, 1)"
      ]
     },
     "metadata": {},
     "output_type": "display_data"
    }
   ],
   "source": [
    "# prep data\n",
    "# masukkan data ke dalam dataframe\n",
    "df = pd.DataFrame(data.data, columns=data.feature_names)\n",
    "\n",
    "# Put the target (housing value -- MEDV) in another DataFrame\n",
    "target = pd.DataFrame(data.target, columns=[\"MEDV\"])\n",
    "\n",
    "display(df.head(), df.shape)\n",
    "display(target.head(), target.shape)"
   ]
  },
  {
   "cell_type": "code",
   "execution_count": 72,
   "metadata": {},
   "outputs": [
    {
     "name": "stdout",
     "output_type": "stream",
     "text": [
      "R2: 0.7406426641094094\n"
     ]
    }
   ],
   "source": [
    "# pakai model LinearRegression sklearn untuk buat dan latih model\n",
    "model = LinearRegression().fit(df, target)\n",
    "\n",
    "# evaluasi keakuratan model\n",
    "print(\"R2:\", model.score(df, target))"
   ]
  },
  {
   "cell_type": "code",
   "execution_count": 74,
   "metadata": {},
   "outputs": [],
   "source": [
    "# tambahan: saat prep data, baiknya kita pisahkan data untuk training model dan untuk testing model\n",
    "# good practice\n",
    "x_train, x_test, y_train, y_test = train_test_split(df, target, test_size=0.2) # 80% training, 20% untuk testing"
   ]
  },
  {
   "cell_type": "code",
   "execution_count": 75,
   "metadata": {},
   "outputs": [
    {
     "name": "stdout",
     "output_type": "stream",
     "text": [
      "R2: 0.7792569719598503\n"
     ]
    }
   ],
   "source": [
    "# bikin model dengan data training saja\n",
    "model = LinearRegression().fit(x_train, y_train)\n",
    "\n",
    "# evaluasi dengan data testing saja\n",
    "print(\"R2:\", model.score(x_test, y_test))"
   ]
  },
  {
   "cell_type": "code",
   "execution_count": null,
   "metadata": {},
   "outputs": [],
   "source": []
  }
 ],
 "metadata": {
  "kernelspec": {
   "display_name": "Python 3 (ipykernel)",
   "language": "python",
   "name": "python3"
  },
  "language_info": {
   "codemirror_mode": {
    "name": "ipython",
    "version": 3
   },
   "file_extension": ".py",
   "mimetype": "text/x-python",
   "name": "python",
   "nbconvert_exporter": "python",
   "pygments_lexer": "ipython3",
   "version": "3.8.5"
  }
 },
 "nbformat": 4,
 "nbformat_minor": 4
}
