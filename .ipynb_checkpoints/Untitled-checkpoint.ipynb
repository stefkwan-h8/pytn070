{
 "cells": [
  {
   "cell_type": "markdown",
   "metadata": {},
   "source": [
    "Loop: hal yang sama dilakukan berulang kali... sampai kondisi jadi false ATAU di break"
   ]
  },
  {
   "cell_type": "code",
   "execution_count": 7,
   "metadata": {},
   "outputs": [
    {
     "name": "stdout",
     "output_type": "stream",
     "text": [
      "0\n",
      "Selamat Datang\n",
      "1\n",
      "Selamat Datang\n",
      "2\n",
      "Selamat Datang\n",
      "3\n",
      "Selamat Datang\n",
      "4\n",
      "Selamat Datang\n",
      "count nya 5\n"
     ]
    }
   ],
   "source": [
    "# buat loop untuk print \"Selamat Datang\"\n",
    "\n",
    "count = 0\n",
    "while (count < 10):\n",
    "    print(count)\n",
    "    print(\"Selamat Datang\")\n",
    "    count = count + 1\n",
    "    if (count == 5):\n",
    "        print(\"count nya 5\")\n",
    "        break # menghentikan paksa sebuah loop\n",
    "        \n"
   ]
  },
  {
   "cell_type": "code",
   "execution_count": 11,
   "metadata": {},
   "outputs": [
    {
     "name": "stdout",
     "output_type": "stream",
     "text": [
      "0\n",
      "Selamat Datang\n",
      "1\n",
      "Selamat Datang\n",
      "2\n",
      "Selamat Datang\n",
      "3\n",
      "Selamat Datang\n",
      "4\n",
      "Selamat Datang\n",
      "count nya 5\n",
      "9\n",
      "Selamat Datang\n"
     ]
    }
   ],
   "source": [
    "count = 0\n",
    "while (count < 10):\n",
    "    if (count == 5):\n",
    "        print(\"count nya 5\")\n",
    "        count = 9\n",
    "        continue # skip 1 kali saja\n",
    "    print(count)\n",
    "    print(\"Selamat Datang\")\n",
    "    count = count + 1"
   ]
  },
  {
   "cell_type": "code",
   "execution_count": null,
   "metadata": {},
   "outputs": [],
   "source": []
  }
 ],
 "metadata": {
  "kernelspec": {
   "display_name": "Python 3",
   "language": "python",
   "name": "python3"
  },
  "language_info": {
   "codemirror_mode": {
    "name": "ipython",
    "version": 3
   },
   "file_extension": ".py",
   "mimetype": "text/x-python",
   "name": "python",
   "nbconvert_exporter": "python",
   "pygments_lexer": "ipython3",
   "version": "3.8.5"
  }
 },
 "nbformat": 4,
 "nbformat_minor": 4
}
