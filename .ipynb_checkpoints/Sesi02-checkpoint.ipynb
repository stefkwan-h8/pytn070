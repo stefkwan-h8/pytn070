{
 "cells": [
  {
   "cell_type": "markdown",
   "metadata": {},
   "source": [
    "# Conditional\n",
    "membuat pernyataan dengan jawaban True/False, kemudian dilanjutkan dengan instruksi, kalau True ..., kalau False ..."
   ]
  },
  {
   "cell_type": "code",
   "execution_count": 5,
   "metadata": {},
   "outputs": [
    {
     "name": "stdout",
     "output_type": "stream",
     "text": [
      "kondisinya True\n",
      "umur tidak cukup untuk naik wahana roller coaster\n"
     ]
    }
   ],
   "source": [
    "# Conditional\n",
    "\n",
    "# cek umur pelanggan, kalau dibawah 12 tahun, tidak boleh naik wahana roller coasternya\n",
    "umur = 10\n",
    "\n",
    "if umur < 12:\n",
    "    print(\"kondisinya True\")\n",
    "    print(\"umur tidak cukup untuk naik wahana roller coaster\")"
   ]
  },
  {
   "cell_type": "code",
   "execution_count": 7,
   "metadata": {},
   "outputs": [
    {
     "name": "stdout",
     "output_type": "stream",
     "text": [
      "kondisinya False\n",
      "umur sudah cukup untuk naik wahana roller coaster\n"
     ]
    }
   ],
   "source": [
    "# selain if, ada else\n",
    "# cek umur pelanggan, kalau dibawah 12 tahun, tidak boleh naik wahana roller coasternya\n",
    "umur = 20\n",
    "\n",
    "if umur < 12:\n",
    "    print(\"kondisinya True\")\n",
    "    print(\"umur tidak cukup untuk naik wahana roller coaster\")\n",
    "else:\n",
    "    print(\"kondisinya False\")\n",
    "    print(\"umur sudah cukup untuk naik wahana roller coaster\")"
   ]
  },
  {
   "cell_type": "code",
   "execution_count": 10,
   "metadata": {},
   "outputs": [
    {
     "name": "stdout",
     "output_type": "stream",
     "text": [
      "kondisinya True\n",
      "umur tidak cukup untuk naik wahana roller coaster\n",
      "karena tinggi nya cukup, diberi pengecualian, boleh naik wahana roller coaster\n"
     ]
    }
   ],
   "source": [
    "# cek umur pelanggan, kalau dibawah 12 tahun, tidak boleh naik wahana roller coasternya\n",
    "# terkecuali tinggi nya sudah diatas 150cm\n",
    "\n",
    "umur = 10\n",
    "tinggi = 151\n",
    "\n",
    "if umur < 12:\n",
    "    print(\"kondisinya True\")\n",
    "    print(\"umur tidak cukup untuk naik wahana roller coaster\")\n",
    "    if tinggi > 150:\n",
    "        print(\"karena tinggi nya cukup, diberi pengecualian, boleh naik wahana roller coaster\")\n",
    "else:\n",
    "    print(\"kondisinya False\")\n",
    "    print(\"umur sudah cukup untuk naik wahana roller coaster\")"
   ]
  },
  {
   "cell_type": "markdown",
   "metadata": {},
   "source": [
    "## elif\n",
    "pastikan kondisi yang ditanyakan di elif sama dengan kondisi yang ditanyakan di if. Misalkan if mengecek umur, maka elif juka mengecek umur. Jika berbeda, code tetap jalan tapi sebagai developer kita akan sulit mengikuti alur code nya.\n",
    "\n",
    "## and\n",
    "saat ada dua/lebih kondisi yang harus True kita bisa gunakan and\n",
    "\n",
    "## or\n",
    "saat ada dua/lebih kondisi yang salah satunya saja harus True, kita bisa gunakan or"
   ]
  },
  {
   "cell_type": "code",
   "execution_count": 24,
   "metadata": {},
   "outputs": [
    {
     "name": "stdout",
     "output_type": "stream",
     "text": [
      "nilai murid 520\n",
      "invalid nilai\n"
     ]
    }
   ],
   "source": [
    "# memberi \"grade\" ke murid berdasarkan nilai ujiannya\n",
    "# jika nilai ujian 80-100 -> murid dapat \"A\"\n",
    "# jika nilai ujian 70-79 -> murid dapat \"B\"\n",
    "# jika nilai ujian 60-69 -> murid dapat \"C\"\n",
    "# jika nilai ujian 40-59 -> murid dapat \"D\"\n",
    "# jika nilai ujian 0-39 -> murid dapat \"F\"\n",
    "\n",
    "# jika pakai nested if, hanya dengan if dan else\n",
    "nilai = 520\n",
    "print(\"nilai murid\", nilai)\n",
    "\n",
    "# menggunakan and untuk memastikan dua kondisi True\n",
    "if nilai >= 80 and nilai <= 100: \n",
    "    print(\"dapat nilai A\")\n",
    "else:\n",
    "    if nilai >= 70 and nilai <= 79:\n",
    "        print(\"dapat nilai B\")\n",
    "    else:\n",
    "        if nilai >= 60 and nilai <= 69:\n",
    "            print(\"dapat nilai C\")\n",
    "        else:\n",
    "            if nilai >= 40 and nilai <= 59:\n",
    "                print(\"dapat nilai D\")\n",
    "            else:\n",
    "                if nilai >= 0 and nilai <= 39:\n",
    "                    print(\"dapat nilai F\")\n",
    "                else:\n",
    "                    print(\"invalid nilai\")"
   ]
  },
  {
   "cell_type": "code",
   "execution_count": 21,
   "metadata": {},
   "outputs": [
    {
     "name": "stdout",
     "output_type": "stream",
     "text": [
      "nilai murid 0\n",
      "dapat nilai F\n"
     ]
    }
   ],
   "source": [
    "# jika pakai if elif else, kita bisa singkatkan cara tulisnya\n",
    "nilai = 0\n",
    "print(\"nilai murid\", nilai)\n",
    "\n",
    "if nilai >= 80 and nilai <= 100:\n",
    "    print(\"dapat nilai A\")\n",
    "elif nilai >= 70 and nilai <= 79:\n",
    "    print(\"dapat nilai B\")\n",
    "elif nilai >= 60 and nilai <= 69:\n",
    "    print(\"dapat nilai C\")\n",
    "elif nilai >= 40 and nilai <= 59:\n",
    "    print(\"dapat nilai D\")\n",
    "elif nilai >= 0 and nilai <= 39:\n",
    "    print(\"dapat nilai F\")\n",
    "else:\n",
    "    print(\"invalid input nilai\")"
   ]
  },
  {
   "cell_type": "code",
   "execution_count": 1,
   "metadata": {},
   "outputs": [
    {
     "name": "stdout",
     "output_type": "stream",
     "text": [
      "boleh masuk taman bermain\n"
     ]
    }
   ],
   "source": [
    "# boleh masuk ke taman bermain jika adalah member, atau sudah beli tiket masuk\n",
    "member = True\n",
    "tiket = False\n",
    "\n",
    "if member or tiket:\n",
    "    print(\"boleh masuk taman bermain\")\n",
    "else:\n",
    "    print(\"yang boleh masuk hanya member atau pemegang tiket taman bermain\")\n"
   ]
  },
  {
   "cell_type": "code",
   "execution_count": 26,
   "metadata": {},
   "outputs": [
    {
     "name": "stdout",
     "output_type": "stream",
     "text": [
      "ada ammar di kelas\n"
     ]
    }
   ],
   "source": [
    "# mencoba if dengan list dan operator in\n",
    "kelas = ['iman', 'ammar', 'zahrah', 'dwi', 'ANA', 'zekro', 'Ryan', 'mudzs']\n",
    "\n",
    "if \"ammar\" in kelas:\n",
    "    print(\"ada ammar di kelas\")"
   ]
  },
  {
   "cell_type": "markdown",
   "metadata": {},
   "source": [
    "## pass"
   ]
  },
  {
   "cell_type": "code",
   "execution_count": 30,
   "metadata": {},
   "outputs": [],
   "source": [
    "# pass digunakan untuk menjadi placeholder code belum selesai\n",
    "\n",
    "# kalau umurnya cukup, boleh masuk ke bar, kalau tidak ... nanti mau dilanjutkan\n",
    "umur = 18\n",
    "\n",
    "if umur >= 21:\n",
    "    print(\"boleh masuk\")\n",
    "else:\n",
    "    # nanti lanjutin\n",
    "    pass"
   ]
  },
  {
   "cell_type": "markdown",
   "metadata": {},
   "source": [
    "### latihan\n",
    "coba buat kondisional untuk memperbolehkan orang masuk ke bar dan beli minum.   \n",
    "- minimal 21 tahun baru boleh masuk\n",
    "- minimal bawa uang 100000 baru bisa beli minuman\n"
   ]
  },
  {
   "cell_type": "code",
   "execution_count": null,
   "metadata": {},
   "outputs": [],
   "source": [
    "umur = 18\n",
    "uang = 125000\n",
    "\n",
    "# contoh solusi 1\n",
    "if umur >= 21:\n",
    "    print(\"boleh masuk\")\n",
    "    if uang >= 100000:\n",
    "        print(\"bisa beli minum\")\n",
    "    else:\n",
    "        print(\"tidak bisa beli minum\")\n",
    "else:\n",
    "    print(\"tidak boleh masuk\")\n",
    "\n",
    "# contoh solusi 2\n",
    "if umur >= 21 and uang >= 100000:\n",
    "    print(\"boleh masuk dan bisa beli minum\")\n",
    "elif umur >= 21 and uang < 100000:\n",
    "    print(\"boleh masuk dan tidak bisa beli minum\")\n",
    "elif umur <21:\n",
    "    print(\"tidak boleh masuk\")        "
   ]
  },
  {
   "cell_type": "markdown",
   "metadata": {},
   "source": [
    "# Loop\n",
    "melakukan statement berulang kali selama kondisi True"
   ]
  },
  {
   "cell_type": "markdown",
   "metadata": {},
   "source": [
    "## contoh infinite loop\n",
    "terjadi saat kondisi yang di cek oleh loop selalu True, tidak pernah menjadi False. di contoh ini, umur selalu 50, jadi umur < 60 selalu True. sehinga loop berjalan selamanya\n",
    "\n",
    "```python\n",
    "# selama umurnya di bawah 60 tahun, dia bukan lansia\n",
    "umur = 50\n",
    "\n",
    "while umur < 60:\n",
    "    print(\"bukan lansia\")\n",
    "```\n",
    "\n",
    "agar tidak kena infinite loop, kita harus mengubah sesuatu di dalam loop nya sehingga kondisinya suatu saat akan berubah jadi False. di contoh ini berarti, mengubah umur nya biar suatu saat lebih dari 60, jadi umur < 60 jadi False"
   ]
  },
  {
   "cell_type": "code",
   "execution_count": 37,
   "metadata": {},
   "outputs": [
    {
     "name": "stdout",
     "output_type": "stream",
     "text": [
      "70 sudah menjadi lansia\n"
     ]
    }
   ],
   "source": [
    "umur = 70\n",
    "\n",
    "while umur < 60:\n",
    "    print(umur, \"bukan lansia\")\n",
    "    # ubah umur biar bertambah, biar suatu saat melebihi 60 sehingga kondisi jadi False\n",
    "    umur = umur + 1 # umur += 1\n",
    "\n",
    "    \n",
    "print(umur, \"sudah menjadi lansia\")"
   ]
  },
  {
   "cell_type": "code",
   "execution_count": 40,
   "metadata": {},
   "outputs": [
    {
     "name": "stdout",
     "output_type": "stream",
     "text": [
      "andhika makan es krim gratis di Mkd\n",
      "sisa kuponnya 2\n",
      "andhika makan es krim gratis di Mkd\n",
      "sisa kuponnya 1\n",
      "andhika makan es krim gratis di Mkd\n",
      "sisa kuponnya 0\n",
      "kuponnya habis\n"
     ]
    }
   ],
   "source": [
    "# andhika punya 3 kupon makan es krim gratis di Mkd, dia bakal makan terus disana sampai kuponnya habis\n",
    "kupon = 3\n",
    "\n",
    "while kupon > 0:\n",
    "    print(\"andhika makan es krim gratis di Mkd\")\n",
    "    kupon = kupon - 1\n",
    "    # kupon -= 1     #shortcut\n",
    "    print(\"sisa kuponnya\", kupon)\n",
    "    \n",
    "print(\"kuponnya habis\")"
   ]
  },
  {
   "cell_type": "markdown",
   "metadata": {},
   "source": [
    "# Break dan Continue\n",
    "- break digunakan untuk menghentikan paksa sebuah loop\n",
    "- continue digunakan untuk skip sebuah loop satu kali saja"
   ]
  },
  {
   "cell_type": "code",
   "execution_count": 47,
   "metadata": {},
   "outputs": [
    {
     "name": "stdout",
     "output_type": "stream",
     "text": [
      "andhika redeem kupon ke 10 makan es krim gratis di Mkd\n",
      "sisa kuponnya 9\n",
      "andhika redeem kupon ke 9 makan es krim gratis di Mkd\n",
      "sisa kuponnya 8\n",
      "andhika redeem kupon ke 8 makan es krim gratis di Mkd\n",
      "sisa kuponnya 7\n",
      "kupon ke 7 disimpan\n",
      "andhika redeem kupon ke 6 makan es krim gratis di Mkd\n",
      "sisa kuponnya 5\n",
      "andhika redeem kupon ke 5 makan es krim gratis di Mkd\n",
      "sisa kuponnya 4\n",
      "andhika redeem kupon ke 4 makan es krim gratis di Mkd\n",
      "sisa kuponnya 3\n",
      "andhika redeem kupon ke 3 makan es krim gratis di Mkd\n",
      "sisa kuponnya 2\n",
      "andhika redeem kupon ke 2 makan es krim gratis di Mkd\n",
      "sisa kuponnya 1\n",
      "andhika redeem kupon ke 1 makan es krim gratis di Mkd\n",
      "sisa kuponnya 0\n",
      "loop selesai\n"
     ]
    }
   ],
   "source": [
    "# andhika punya 10 kupon makan es krim gratis di Mkd, dia bakal makan terus disana sampai kuponnya habis\n",
    "# kupon ke-7 itu dibelikan temannya, dia mau simpan kupon ke 7 nya jangan dipakai\n",
    "kupon = 10\n",
    "\n",
    "while kupon > 0:\n",
    "    if (kupon == 7):\n",
    "        print(\"kupon ke 7 disimpan\")\n",
    "        kupon = kupon - 1\n",
    "        continue # skip satu kali\n",
    "        # break # langsung berhenti loop nya\n",
    "        \n",
    "    print(\"andhika redeem kupon ke\", kupon, \"makan es krim gratis di Mkd\")\n",
    "    kupon = kupon - 1\n",
    "    # kupon -= 1     #shortcut\n",
    "    print(\"sisa kuponnya\", kupon)\n",
    "else: # di skip sama break\n",
    "    print(\"loop selesai\")"
   ]
  },
  {
   "cell_type": "markdown",
   "metadata": {},
   "source": [
    "## nested loop\n",
    "ada loop di dalam loop, bisa saja"
   ]
  },
  {
   "cell_type": "code",
   "execution_count": 53,
   "metadata": {},
   "outputs": [
    {
     "name": "stdout",
     "output_type": "stream",
     "text": [
      "0 ['x', ' ', 'o']\n",
      "'x o'\n",
      "1 ['x', 'o', ' ']\n",
      "'xo '\n",
      "2 ['x', ' ', ' ']\n",
      "'x  '\n"
     ]
    }
   ],
   "source": [
    "tictactoe = [\n",
    "                [\"x\", \" \", \"o\"],\n",
    "                [\"x\", \"o\", \" \"],\n",
    "                [\"x\", \" \", \" \"]\n",
    "            ]\n",
    "\n",
    "# kumpulin semua string di dalam list tictactoe jadi satu\n",
    "\n",
    "index = 0\n",
    "while index < 3:\n",
    "    print(index, tictactoe[index])\n",
    "    \n",
    "    j = 0\n",
    "    baris = \"'\"\n",
    "    while j < 3:\n",
    "        baris = baris + tictactoe[index][j]\n",
    "        j = j + 1\n",
    "    baris = baris + \"'\"\n",
    "    print(baris)\n",
    "    \n",
    "    index = index + 1\n",
    "    "
   ]
  },
  {
   "cell_type": "code",
   "execution_count": 56,
   "metadata": {},
   "outputs": [
    {
     "name": "stdout",
     "output_type": "stream",
     "text": [
      "'x o'\n",
      "'xo '\n",
      "'x  '\n"
     ]
    }
   ],
   "source": [
    "for baris in tictactoe:\n",
    "    kumpul = \"'\"\n",
    "    for huruf in baris:\n",
    "        kumpul = kumpul + huruf\n",
    "    kumpul = kumpul + \"'\"\n",
    "    print(kumpul)"
   ]
  },
  {
   "cell_type": "markdown",
   "metadata": {},
   "source": [
    "# For Loop\n",
    "loop melewati koleksi:\n",
    "- list\n",
    "- tuple\n",
    "- dictionary, dictionary items, dictionary keys, dictionary values\n",
    "- range\n",
    "- string (koleksi karakter)"
   ]
  },
  {
   "cell_type": "code",
   "execution_count": 54,
   "metadata": {},
   "outputs": [
    {
     "name": "stdout",
     "output_type": "stream",
     "text": [
      "['iman', 'ammar', 'zahrah', 'dwi', 'ANA', 'zekro', 'Ryan', 'mudzs']\n"
     ]
    }
   ],
   "source": [
    "print(kelas)"
   ]
  },
  {
   "cell_type": "code",
   "execution_count": 55,
   "metadata": {},
   "outputs": [
    {
     "name": "stdout",
     "output_type": "stream",
     "text": [
      "selamat datang di sesi kedua iman\n",
      "selamat datang di sesi kedua ammar\n",
      "selamat datang di sesi kedua zahrah\n",
      "selamat datang di sesi kedua dwi\n",
      "selamat datang di sesi kedua ANA\n",
      "selamat datang di sesi kedua zekro\n",
      "selamat datang di sesi kedua Ryan\n",
      "selamat datang di sesi kedua mudzs\n"
     ]
    }
   ],
   "source": [
    "# for loop dengan list\n",
    "for murid in kelas:\n",
    "    print(\"selamat datang di sesi kedua\", murid)"
   ]
  },
  {
   "cell_type": "code",
   "execution_count": 60,
   "metadata": {},
   "outputs": [
    {
     "name": "stdout",
     "output_type": "stream",
     "text": [
      "nama\n",
      "umur\n",
      "hobi\n"
     ]
    }
   ],
   "source": [
    "# for loop dengan dictionary\n",
    "orang = {\n",
    "    \"nama\": \"Andhika\", \n",
    "    \"umur\": 20,\n",
    "    \"hobi\": [\"makan\", \"tidur\", \"programming\"]\n",
    "}\n",
    "\n",
    "for key in orang:\n",
    "    print(key)"
   ]
  },
  {
   "cell_type": "code",
   "execution_count": 61,
   "metadata": {},
   "outputs": [
    {
     "name": "stdout",
     "output_type": "stream",
     "text": [
      "Andhika\n",
      "20\n",
      "['makan', 'tidur', 'programming']\n"
     ]
    }
   ],
   "source": [
    "for key in orang:\n",
    "    print(orang[key])"
   ]
  },
  {
   "cell_type": "code",
   "execution_count": 62,
   "metadata": {},
   "outputs": [
    {
     "name": "stdout",
     "output_type": "stream",
     "text": [
      "nama Andhika\n",
      "umur 20\n",
      "hobi ['makan', 'tidur', 'programming']\n"
     ]
    }
   ],
   "source": [
    "for key in orang:\n",
    "    print(key, orang[key])"
   ]
  },
  {
   "cell_type": "code",
   "execution_count": 63,
   "metadata": {},
   "outputs": [
    {
     "data": {
      "text/plain": [
       "dict_keys(['nama', 'umur', 'hobi'])"
      ]
     },
     "execution_count": 63,
     "metadata": {},
     "output_type": "execute_result"
    }
   ],
   "source": [
    "orang.keys()"
   ]
  },
  {
   "cell_type": "code",
   "execution_count": 64,
   "metadata": {},
   "outputs": [
    {
     "data": {
      "text/plain": [
       "dict_values(['Andhika', 20, ['makan', 'tidur', 'programming']])"
      ]
     },
     "execution_count": 64,
     "metadata": {},
     "output_type": "execute_result"
    }
   ],
   "source": [
    "orang.values()"
   ]
  },
  {
   "cell_type": "code",
   "execution_count": 65,
   "metadata": {},
   "outputs": [
    {
     "data": {
      "text/plain": [
       "dict_items([('nama', 'Andhika'), ('umur', 20), ('hobi', ['makan', 'tidur', 'programming'])])"
      ]
     },
     "execution_count": 65,
     "metadata": {},
     "output_type": "execute_result"
    }
   ],
   "source": [
    "orang.items()"
   ]
  },
  {
   "cell_type": "code",
   "execution_count": 66,
   "metadata": {},
   "outputs": [
    {
     "name": "stdout",
     "output_type": "stream",
     "text": [
      "nama\n",
      "umur\n",
      "hobi\n"
     ]
    }
   ],
   "source": [
    "for key in orang.keys():\n",
    "    print(key)"
   ]
  },
  {
   "cell_type": "code",
   "execution_count": 68,
   "metadata": {},
   "outputs": [
    {
     "name": "stdout",
     "output_type": "stream",
     "text": [
      "Andhika\n",
      "20\n",
      "['makan', 'tidur', 'programming']\n"
     ]
    }
   ],
   "source": [
    "for dict_orang_value in orang.values():\n",
    "    print(dict_orang_value)"
   ]
  },
  {
   "cell_type": "code",
   "execution_count": 71,
   "metadata": {},
   "outputs": [
    {
     "name": "stdout",
     "output_type": "stream",
     "text": [
      "('nama', 'Andhika')\n",
      "nama\n",
      "Andhika\n",
      "('umur', 20)\n",
      "umur\n",
      "20\n",
      "('hobi', ['makan', 'tidur', 'programming'])\n",
      "hobi\n",
      "['makan', 'tidur', 'programming']\n"
     ]
    }
   ],
   "source": [
    "for item in orang.items():\n",
    "    print(item)\n",
    "    for i in item:\n",
    "        print(i)"
   ]
  },
  {
   "cell_type": "code",
   "execution_count": 72,
   "metadata": {},
   "outputs": [
    {
     "data": {
      "text/plain": [
       "range(0, 10)"
      ]
     },
     "execution_count": 72,
     "metadata": {},
     "output_type": "execute_result"
    }
   ],
   "source": [
    "# for loop dengan range()\n",
    "\n",
    "range(10)"
   ]
  },
  {
   "cell_type": "code",
   "execution_count": 74,
   "metadata": {},
   "outputs": [
    {
     "data": {
      "text/plain": [
       "range(10, 20)"
      ]
     },
     "execution_count": 74,
     "metadata": {},
     "output_type": "execute_result"
    }
   ],
   "source": [
    "range(10,20)"
   ]
  },
  {
   "cell_type": "code",
   "execution_count": 77,
   "metadata": {},
   "outputs": [
    {
     "data": {
      "text/plain": [
       "range(10, 100, 20)"
      ]
     },
     "execution_count": 77,
     "metadata": {},
     "output_type": "execute_result"
    }
   ],
   "source": [
    "range(10, 100, 20)"
   ]
  },
  {
   "cell_type": "markdown",
   "metadata": {},
   "source": [
    "range membuat angka integer urut dari 0. cara pakai range ada tida:\n",
    "- range(10) -> angka 10 bisa diganti, ini membuat 10 angka urut dari 0\n",
    "- range(10, 20) -> angka urut dimulai dari 10, sampai ke 19\n",
    "- range(10, 100, 20) -> angka urut dimulai dari 10, sampai ke 99, tapi setiap nambah nambahnya 20, jadi 10, 10+20, 10 +20+20, ... tidak boleh melewati 99"
   ]
  },
  {
   "cell_type": "code",
   "execution_count": 73,
   "metadata": {},
   "outputs": [
    {
     "name": "stdout",
     "output_type": "stream",
     "text": [
      "0\n",
      "1\n",
      "2\n",
      "3\n",
      "4\n",
      "5\n",
      "6\n",
      "7\n",
      "8\n",
      "9\n"
     ]
    }
   ],
   "source": [
    "for n in range(10):\n",
    "    print(n)"
   ]
  },
  {
   "cell_type": "code",
   "execution_count": 75,
   "metadata": {},
   "outputs": [
    {
     "name": "stdout",
     "output_type": "stream",
     "text": [
      "10\n",
      "11\n",
      "12\n",
      "13\n",
      "14\n",
      "15\n",
      "16\n",
      "17\n",
      "18\n",
      "19\n"
     ]
    }
   ],
   "source": [
    "for n in range(10,20):\n",
    "    print(n)"
   ]
  },
  {
   "cell_type": "code",
   "execution_count": 78,
   "metadata": {},
   "outputs": [
    {
     "name": "stdout",
     "output_type": "stream",
     "text": [
      "10\n",
      "30\n",
      "50\n",
      "70\n",
      "90\n"
     ]
    }
   ],
   "source": [
    "for n in range(10, 100, 20):\n",
    "    print(n)"
   ]
  },
  {
   "cell_type": "code",
   "execution_count": 79,
   "metadata": {},
   "outputs": [
    {
     "name": "stdout",
     "output_type": "stream",
     "text": [
      "101\n",
      "103\n",
      "105\n",
      "107\n",
      "109\n",
      "111\n",
      "113\n",
      "115\n",
      "117\n",
      "119\n"
     ]
    }
   ],
   "source": [
    "# semua angka ganjil antara 100 dan 120\n",
    "for n in range (101, 121, 2):\n",
    "    print(n)"
   ]
  },
  {
   "cell_type": "code",
   "execution_count": 85,
   "metadata": {},
   "outputs": [
    {
     "name": "stdout",
     "output_type": "stream",
     "text": [
      "H\n",
      "a\n",
      "c\n",
      "k\n",
      "t\n",
      "i\n",
      "v\n",
      "8\n"
     ]
    }
   ],
   "source": [
    "# for loop dengan string\n",
    "msg = \"Hacktiv8\"\n",
    "\n",
    "for huruf in msg:\n",
    "    print(huruf)"
   ]
  },
  {
   "cell_type": "markdown",
   "metadata": {},
   "source": [
    "tambahan, menggunakan infinite loop, break, dan input (minta user input)"
   ]
  },
  {
   "cell_type": "code",
   "execution_count": 80,
   "metadata": {},
   "outputs": [
    {
     "name": "stdin",
     "output_type": "stream",
     "text": [
      "Ketikan karakter:  halo\n"
     ]
    },
    {
     "name": "stdout",
     "output_type": "stream",
     "text": [
      "halo\n"
     ]
    },
    {
     "name": "stdin",
     "output_type": "stream",
     "text": [
      "Ketikan karakter:  HALO\n"
     ]
    },
    {
     "name": "stdout",
     "output_type": "stream",
     "text": [
      "halo\n"
     ]
    },
    {
     "name": "stdin",
     "output_type": "stream",
     "text": [
      "Ketikan karakter:  Stop\n"
     ]
    },
    {
     "name": "stdout",
     "output_type": "stream",
     "text": [
      "stop\n"
     ]
    }
   ],
   "source": [
    "while True:\n",
    "    msg = input(\"Ketikan karakter: \").lower()\n",
    "    print(msg)\n",
    "    if msg == \"stop\":\n",
    "        break"
   ]
  },
  {
   "cell_type": "code",
   "execution_count": null,
   "metadata": {},
   "outputs": [],
   "source": []
  }
 ],
 "metadata": {
  "kernelspec": {
   "display_name": "Python 3",
   "language": "python",
   "name": "python3"
  },
  "language_info": {
   "codemirror_mode": {
    "name": "ipython",
    "version": 3
   },
   "file_extension": ".py",
   "mimetype": "text/x-python",
   "name": "python",
   "nbconvert_exporter": "python",
   "pygments_lexer": "ipython3",
   "version": "3.8.5"
  }
 },
 "nbformat": 4,
 "nbformat_minor": 4
}
