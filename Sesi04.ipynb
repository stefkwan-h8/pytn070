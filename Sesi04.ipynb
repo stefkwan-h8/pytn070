{
 "cells": [
  {
   "cell_type": "markdown",
   "metadata": {},
   "source": [
    "# Numpy\n",
    "Numerical Python - package yang bisa kita gunakan untuk proses angka (mueric) di Python. Digunakan juga oleh banyak package Python lainnya."
   ]
  },
  {
   "cell_type": "code",
   "execution_count": 1,
   "metadata": {},
   "outputs": [
    {
     "name": "stdout",
     "output_type": "stream",
     "text": [
      "Requirement already satisfied: numpy in c:\\users\\stefa\\anaconda3\\lib\\site-packages (1.21.4)\n",
      "Note: you may need to restart the kernel to use updated packages.\n"
     ]
    }
   ],
   "source": [
    "pip install numpy"
   ]
  },
  {
   "cell_type": "code",
   "execution_count": 2,
   "metadata": {},
   "outputs": [],
   "source": [
    "import numpy as np"
   ]
  },
  {
   "cell_type": "markdown",
   "metadata": {},
   "source": [
    "# tipe struktur data Numpy Array\n",
    "- mirip List\n",
    "- bukan List\n",
    "\n",
    "CRUD:\n",
    "1. cara membuat (Create)\n",
    "2. cara baca (Read)\n",
    "3. cara update (Update)\n",
    "4. cara hapus (Delete)"
   ]
  },
  {
   "cell_type": "markdown",
   "metadata": {},
   "source": [
    "### np.array()"
   ]
  },
  {
   "cell_type": "code",
   "execution_count": 6,
   "metadata": {},
   "outputs": [
    {
     "name": "stdout",
     "output_type": "stream",
     "text": [
      "[1 2 3]\n",
      "<class 'numpy.ndarray'>\n"
     ]
    }
   ],
   "source": [
    "# Cara membuat (Create) numpy array\n",
    "# 1. dari List\n",
    "\n",
    "arr = np.array([1,2,3])\n",
    "print(arr)\n",
    "print(type(arr))"
   ]
  },
  {
   "cell_type": "code",
   "execution_count": 77,
   "metadata": {},
   "outputs": [
    {
     "name": "stdout",
     "output_type": "stream",
     "text": [
      "[[1 2 3]\n",
      " [3 2 1]]\n",
      "<class 'numpy.ndarray'>\n"
     ]
    }
   ],
   "source": [
    "arr = np.array([[1,2,3],[3,2,1]])\n",
    "print(arr)\n",
    "print(type(arr))"
   ]
  },
  {
   "cell_type": "code",
   "execution_count": 7,
   "metadata": {},
   "outputs": [
    {
     "name": "stdout",
     "output_type": "stream",
     "text": [
      "[1, 2, 3]\n",
      "<class 'list'>\n"
     ]
    }
   ],
   "source": [
    "# perhatikan perbedaannya dengan list\n",
    "list_angka = [1,2,3]\n",
    "print(list_angka)\n",
    "print(type(list_angka))"
   ]
  },
  {
   "cell_type": "markdown",
   "metadata": {},
   "source": [
    "### np.zeros()"
   ]
  },
  {
   "cell_type": "code",
   "execution_count": 10,
   "metadata": {},
   "outputs": [
    {
     "name": "stdout",
     "output_type": "stream",
     "text": [
      "[0. 0. 0. 0. 0. 0. 0. 0. 0. 0.]\n"
     ]
    }
   ],
   "source": [
    "# 2. np.zeros, membuat numpy array isinya angka 0 semua\n",
    "arr0 = np.zeros(10)\n",
    "print(arr0)"
   ]
  },
  {
   "cell_type": "code",
   "execution_count": 80,
   "metadata": {},
   "outputs": [
    {
     "name": "stdout",
     "output_type": "stream",
     "text": [
      "[[0. 0.]\n",
      " [0. 0.]\n",
      " [0. 0.]]\n"
     ]
    }
   ],
   "source": [
    "arr0 = np.zeros((3,2))\n",
    "print(arr0)"
   ]
  },
  {
   "cell_type": "markdown",
   "metadata": {},
   "source": [
    "### np.ones()"
   ]
  },
  {
   "cell_type": "code",
   "execution_count": 11,
   "metadata": {},
   "outputs": [
    {
     "name": "stdout",
     "output_type": "stream",
     "text": [
      "[1. 1. 1. 1. 1. 1. 1. 1. 1. 1.]\n"
     ]
    }
   ],
   "source": [
    "# 3. np.ones, membuat numpy array isinya angka 1 semua\n",
    "arr1 = np.ones(10)\n",
    "print(arr1)"
   ]
  },
  {
   "cell_type": "code",
   "execution_count": 81,
   "metadata": {},
   "outputs": [
    {
     "name": "stdout",
     "output_type": "stream",
     "text": [
      "[[1. 1. 1.]\n",
      " [1. 1. 1.]]\n"
     ]
    }
   ],
   "source": [
    "arr1 = np.ones((2,3))\n",
    "print(arr1)"
   ]
  },
  {
   "cell_type": "markdown",
   "metadata": {},
   "source": [
    "### np.empty()"
   ]
  },
  {
   "cell_type": "code",
   "execution_count": 15,
   "metadata": {},
   "outputs": [
    {
     "name": "stdout",
     "output_type": "stream",
     "text": [
      "[9.37543481e-312 1.77863633e-322 0.00000000e+000 0.00000000e+000\n",
      " 7.56587583e-307 4.03488629e+175 1.74248590e-076 6.19651880e-091\n",
      " 4.03397451e+175 1.42404755e-306 5.97819431e-322]\n"
     ]
    }
   ],
   "source": [
    "# 4. np.empty, membuat numpy array isinya kosong/ gk ada isinya\n",
    "arre = np.empty(11)\n",
    "print(arre)"
   ]
  },
  {
   "cell_type": "code",
   "execution_count": 84,
   "metadata": {},
   "outputs": [
    {
     "name": "stdout",
     "output_type": "stream",
     "text": [
      "[[2.00538455e+262]\n",
      " [2.34784384e+251]\n",
      " [1.21790868e-152]]\n"
     ]
    }
   ],
   "source": [
    "arre = np.empty((3,1))\n",
    "print(arre)"
   ]
  },
  {
   "cell_type": "markdown",
   "metadata": {},
   "source": [
    "### np.arange()"
   ]
  },
  {
   "cell_type": "code",
   "execution_count": 19,
   "metadata": {},
   "outputs": [
    {
     "name": "stdout",
     "output_type": "stream",
     "text": [
      "[ 5  7  9 11 13]\n"
     ]
    }
   ],
   "source": [
    "# 5. np.arange, membuat numpy array isinya angka urut\n",
    "arr_range = np.arange(5, 15, 2)\n",
    "print(arr_range)"
   ]
  },
  {
   "cell_type": "code",
   "execution_count": 85,
   "metadata": {},
   "outputs": [
    {
     "name": "stdout",
     "output_type": "stream",
     "text": [
      "[[ 5  7  9]\n",
      " [11 13 15]]\n"
     ]
    }
   ],
   "source": [
    "arr_range = np.arange(5, 16, 2).reshape((2,3))\n",
    "print(arr_range)"
   ]
  },
  {
   "cell_type": "markdown",
   "metadata": {},
   "source": [
    "### np.random.random()\n",
    "membuat numpy array isinya angka random yang terdistribusi dengan random juga. (distribusi ada banyak jenis, bukan random aja)"
   ]
  },
  {
   "cell_type": "code",
   "execution_count": 152,
   "metadata": {},
   "outputs": [
    {
     "name": "stdout",
     "output_type": "stream",
     "text": [
      "[0.39816056 0.26659469 0.4378166  0.0128114  0.58065058 0.08074721\n",
      " 0.58689274 0.26965138 0.36992357 0.58321015]\n"
     ]
    }
   ],
   "source": [
    "arr_random = np.random.random(10)\n",
    "print(arr_random)"
   ]
  },
  {
   "cell_type": "code",
   "execution_count": 153,
   "metadata": {},
   "outputs": [
    {
     "name": "stdout",
     "output_type": "stream",
     "text": [
      "[[0.52936459 0.50592024 0.40754465]\n",
      " [0.55090162 0.88492807 0.00577383]]\n"
     ]
    }
   ],
   "source": [
    "arr_random = np.random.random((2,3))\n",
    "print(arr_random)"
   ]
  },
  {
   "cell_type": "code",
   "execution_count": 159,
   "metadata": {},
   "outputs": [
    {
     "name": "stdout",
     "output_type": "stream",
     "text": [
      "[4 6 5 4 2 5 6 3 6 2]\n"
     ]
    }
   ],
   "source": [
    "# mau lempar dadu 10 kali (hasil dadu 1-6)\n",
    "arr_dadu = (np.random.random(10) * 6 + 1).astype(int)\n",
    "print(arr_dadu)"
   ]
  },
  {
   "cell_type": "markdown",
   "metadata": {},
   "source": [
    "### append, delete, sort"
   ]
  },
  {
   "cell_type": "code",
   "execution_count": 22,
   "metadata": {},
   "outputs": [
    {
     "name": "stdout",
     "output_type": "stream",
     "text": [
      "[ 5  7  9 11 13]\n"
     ]
    }
   ],
   "source": [
    "# cara update - append, delete, sort\n",
    "\n",
    "print(arr_range)"
   ]
  },
  {
   "cell_type": "code",
   "execution_count": 28,
   "metadata": {},
   "outputs": [
    {
     "name": "stdout",
     "output_type": "stream",
     "text": [
      "[ 5  7  9 11 13 10]\n",
      "[ 5  7  9 11 13]\n"
     ]
    }
   ],
   "source": [
    "# tambah angka baru pakai append\n",
    "arr_baru = np.append(arr_range, 10)\n",
    "print(arr_baru)\n",
    "print(arr_range)"
   ]
  },
  {
   "cell_type": "code",
   "execution_count": 35,
   "metadata": {},
   "outputs": [
    {
     "name": "stdout",
     "output_type": "stream",
     "text": [
      "[ 5  7  9 11 13  4  3  7]\n",
      "[ 5  7  9 11 13]\n"
     ]
    }
   ],
   "source": [
    "arr_baru = np.append(arr_range, [4,3,7])\n",
    "print(arr_baru)\n",
    "print(arr_range)"
   ]
  },
  {
   "cell_type": "code",
   "execution_count": 27,
   "metadata": {},
   "outputs": [
    {
     "name": "stdout",
     "output_type": "stream",
     "text": [
      "[ 7  9 11 13]\n",
      "[ 5  7  9 11 13]\n"
     ]
    }
   ],
   "source": [
    "# hapus sebuah angka menggunakan index nya pakai delete\n",
    "arr_baru = np.delete(arr_range, 0)\n",
    "print(arr_baru)\n",
    "print(arr_range)"
   ]
  },
  {
   "cell_type": "code",
   "execution_count": 36,
   "metadata": {},
   "outputs": [
    {
     "name": "stdout",
     "output_type": "stream",
     "text": [
      "[   3    7    3 -345   45 3467    0  -76]\n",
      "[-345  -76    0    3    3    7   45 3467]\n"
     ]
    }
   ],
   "source": [
    "# sortir angka yang ada di dalam sebuah numpy array pakai sort\n",
    "arr_berantakan = np.array([3,7,3,-345,45,3467,0,-76])\n",
    "arr_baru = np.sort(arr_berantakan)\n",
    "print(arr_berantakan)\n",
    "print(arr_baru)"
   ]
  },
  {
   "cell_type": "markdown",
   "metadata": {},
   "source": [
    "### shape, size"
   ]
  },
  {
   "cell_type": "code",
   "execution_count": 37,
   "metadata": {},
   "outputs": [
    {
     "name": "stdout",
     "output_type": "stream",
     "text": [
      "11\n"
     ]
    }
   ],
   "source": [
    "# cara bacanya sama seperti list, kita bisa gunakan index\n",
    "# contoh: ambil angka ke-4 (index 3) dari arr_range\n",
    "print(arr_range[3])\n",
    "\n",
    "# teknik slicing juga bisa digunakan"
   ]
  },
  {
   "cell_type": "markdown",
   "metadata": {},
   "source": [
    "kita juga bisa lihat property dari sebuah numpy array, bentuknya, ukurannya"
   ]
  },
  {
   "cell_type": "code",
   "execution_count": 38,
   "metadata": {},
   "outputs": [
    {
     "name": "stdout",
     "output_type": "stream",
     "text": [
      "[-345  -76    0    3    3    7   45 3467]\n"
     ]
    }
   ],
   "source": [
    "print(arr_baru)"
   ]
  },
  {
   "cell_type": "code",
   "execution_count": 41,
   "metadata": {},
   "outputs": [
    {
     "name": "stdout",
     "output_type": "stream",
     "text": [
      "(8,)\n"
     ]
    }
   ],
   "source": [
    "print(arr_baru.shape)"
   ]
  },
  {
   "cell_type": "code",
   "execution_count": 42,
   "metadata": {},
   "outputs": [
    {
     "name": "stdout",
     "output_type": "stream",
     "text": [
      "8\n"
     ]
    }
   ],
   "source": [
    "print(arr_baru.size)"
   ]
  },
  {
   "cell_type": "code",
   "execution_count": 43,
   "metadata": {},
   "outputs": [
    {
     "name": "stdout",
     "output_type": "stream",
     "text": [
      "1\n"
     ]
    }
   ],
   "source": [
    "print(arr_baru.ndim)"
   ]
  },
  {
   "cell_type": "markdown",
   "metadata": {},
   "source": [
    "ndim menunjukkan numpy array tersebut ada berapa dimensi. makanya namanya numpy.ndarray - nd adalah jumlah dimensi dari sebuah numpy array. n dimension. jumlah dimensi nya bisa 1,2,3,..."
   ]
  },
  {
   "cell_type": "code",
   "execution_count": 49,
   "metadata": {},
   "outputs": [
    {
     "name": "stdout",
     "output_type": "stream",
     "text": [
      "[[1 2]\n",
      " [5 6]\n",
      " [8 9]]\n",
      "(3, 2)\n",
      "6\n",
      "2\n"
     ]
    }
   ],
   "source": [
    "# contoh array 2 dimensi\n",
    "arr9 = np.array([[1,2],[5,6],[8,9]])\n",
    "print(arr9)\n",
    "print(arr9.shape)\n",
    "print(arr9.size)\n",
    "print(arr9.ndim)"
   ]
  },
  {
   "cell_type": "markdown",
   "metadata": {},
   "source": [
    "### reshape\n",
    "mengubah shape sebuah numpy array"
   ]
  },
  {
   "cell_type": "code",
   "execution_count": 51,
   "metadata": {},
   "outputs": [
    {
     "name": "stdout",
     "output_type": "stream",
     "text": [
      "[[1 2]\n",
      " [5 6]\n",
      " [8 9]]\n"
     ]
    }
   ],
   "source": [
    "print(arr9)"
   ]
  },
  {
   "cell_type": "code",
   "execution_count": 52,
   "metadata": {},
   "outputs": [
    {
     "name": "stdout",
     "output_type": "stream",
     "text": [
      "[[1 2 5]\n",
      " [6 8 9]]\n"
     ]
    }
   ],
   "source": [
    "print(arr9.reshape(2,3))"
   ]
  },
  {
   "cell_type": "code",
   "execution_count": 53,
   "metadata": {},
   "outputs": [
    {
     "name": "stdout",
     "output_type": "stream",
     "text": [
      "[[1 2]\n",
      " [5 6]\n",
      " [8 9]]\n"
     ]
    }
   ],
   "source": [
    "print(arr9)"
   ]
  },
  {
   "cell_type": "code",
   "execution_count": 55,
   "metadata": {},
   "outputs": [
    {
     "name": "stdout",
     "output_type": "stream",
     "text": [
      "[1 2 5 6 8 9]\n"
     ]
    }
   ],
   "source": [
    "print(arr9.reshape(6,))"
   ]
  },
  {
   "cell_type": "code",
   "execution_count": 56,
   "metadata": {},
   "outputs": [
    {
     "name": "stdout",
     "output_type": "stream",
     "text": [
      "[[1]\n",
      " [2]\n",
      " [5]\n",
      " [6]\n",
      " [8]\n",
      " [9]]\n"
     ]
    }
   ],
   "source": [
    "print(arr9.reshape(6,1))"
   ]
  },
  {
   "cell_type": "code",
   "execution_count": 57,
   "metadata": {},
   "outputs": [
    {
     "name": "stdout",
     "output_type": "stream",
     "text": [
      "[[1 2 5 6 8 9]]\n"
     ]
    }
   ],
   "source": [
    "print(arr9.reshape(1,6))"
   ]
  },
  {
   "cell_type": "code",
   "execution_count": 61,
   "metadata": {},
   "outputs": [
    {
     "name": "stdout",
     "output_type": "stream",
     "text": [
      "[[[1]\n",
      "  [2]\n",
      "  [5]]\n",
      "\n",
      " [[6]\n",
      "  [8]\n",
      "  [9]]]\n"
     ]
    }
   ],
   "source": [
    "print(arr9.reshape(2,3,1))"
   ]
  },
  {
   "cell_type": "markdown",
   "metadata": {},
   "source": [
    "### membuat np array 1D menjadi 2D\n",
    "- np.newaxis\n",
    "- np.expand_dims"
   ]
  },
  {
   "cell_type": "code",
   "execution_count": 63,
   "metadata": {},
   "outputs": [
    {
     "name": "stdout",
     "output_type": "stream",
     "text": [
      "(12,)\n",
      "12\n",
      "1\n"
     ]
    }
   ],
   "source": [
    "arr = np.array([2,4,6,8,3,5,7,9,12,13,14,15])\n",
    "print(arr.shape)\n",
    "print(arr.size)\n",
    "print(arr.ndim)"
   ]
  },
  {
   "cell_type": "code",
   "execution_count": 69,
   "metadata": {},
   "outputs": [
    {
     "name": "stdout",
     "output_type": "stream",
     "text": [
      "[[ 2  4  6  8  3  5  7  9 12 13 14 15]]\n",
      "(1, 12)\n",
      "12\n",
      "2\n"
     ]
    }
   ],
   "source": [
    "arr_baru = arr[np.newaxis]\n",
    "print(arr_baru)\n",
    "\n",
    "print(arr_baru.shape)\n",
    "print(arr_baru.size)\n",
    "print(arr_baru.ndim)"
   ]
  },
  {
   "cell_type": "code",
   "execution_count": 67,
   "metadata": {},
   "outputs": [
    {
     "name": "stdout",
     "output_type": "stream",
     "text": [
      "[[ 2]\n",
      " [ 4]\n",
      " [ 6]\n",
      " [ 8]\n",
      " [ 3]\n",
      " [ 5]\n",
      " [ 7]\n",
      " [ 9]\n",
      " [12]\n",
      " [13]\n",
      " [14]\n",
      " [15]]\n",
      "(12, 1)\n",
      "12\n",
      "2\n"
     ]
    }
   ],
   "source": [
    "arr_baru = arr[:, np.newaxis]\n",
    "print(arr_baru)\n",
    "\n",
    "print(arr_baru.shape)\n",
    "print(arr_baru.size)\n",
    "print(arr_baru.ndim)"
   ]
  },
  {
   "cell_type": "code",
   "execution_count": 71,
   "metadata": {},
   "outputs": [
    {
     "name": "stdout",
     "output_type": "stream",
     "text": [
      "[[ 2  4  6  8  3  5  7  9 12 13 14 15]]\n",
      "(1, 12)\n",
      "12\n",
      "2\n"
     ]
    }
   ],
   "source": [
    "arr_baru = arr.reshape((1,12))\n",
    "print(arr_baru)\n",
    "\n",
    "print(arr_baru.shape)\n",
    "print(arr_baru.size)\n",
    "print(arr_baru.ndim)"
   ]
  },
  {
   "cell_type": "code",
   "execution_count": 73,
   "metadata": {},
   "outputs": [
    {
     "name": "stdout",
     "output_type": "stream",
     "text": [
      "[[ 2  4  6  8  3  5  7  9 12 13 14 15]]\n",
      "(1, 12)\n",
      "12\n",
      "2\n"
     ]
    }
   ],
   "source": [
    "arr_baru = np.expand_dims(arr, axis=0)\n",
    "print(arr_baru)\n",
    "\n",
    "print(arr_baru.shape)\n",
    "print(arr_baru.size)\n",
    "print(arr_baru.ndim)"
   ]
  },
  {
   "cell_type": "code",
   "execution_count": 74,
   "metadata": {},
   "outputs": [
    {
     "name": "stdout",
     "output_type": "stream",
     "text": [
      "[[ 2]\n",
      " [ 4]\n",
      " [ 6]\n",
      " [ 8]\n",
      " [ 3]\n",
      " [ 5]\n",
      " [ 7]\n",
      " [ 9]\n",
      " [12]\n",
      " [13]\n",
      " [14]\n",
      " [15]]\n",
      "(12, 1)\n",
      "12\n",
      "2\n"
     ]
    }
   ],
   "source": [
    "arr_baru = np.expand_dims(arr, axis=1)\n",
    "print(arr_baru)\n",
    "\n",
    "print(arr_baru.shape)\n",
    "print(arr_baru.size)\n",
    "print(arr_baru.ndim)"
   ]
  },
  {
   "cell_type": "code",
   "execution_count": 76,
   "metadata": {},
   "outputs": [
    {
     "name": "stdout",
     "output_type": "stream",
     "text": [
      "[[[ 2  4]\n",
      "  [ 6  8]]\n",
      "\n",
      " [[ 3  5]\n",
      "  [ 7  9]]\n",
      "\n",
      " [[12 13]\n",
      "  [14 15]]]\n",
      "(3, 2, 2)\n",
      "12\n",
      "3\n"
     ]
    }
   ],
   "source": [
    "arr_baru = arr.reshape((3,2,2))\n",
    "print(arr_baru)\n",
    "\n",
    "print(arr_baru.shape)\n",
    "print(arr_baru.size)\n",
    "print(arr_baru.ndim)"
   ]
  },
  {
   "cell_type": "code",
   "execution_count": 87,
   "metadata": {},
   "outputs": [
    {
     "name": "stdout",
     "output_type": "stream",
     "text": [
      "[0 1 2 3 4 5]\n",
      "0\n",
      "1\n",
      "[0 1]\n",
      "[1 2 3 4 5]\n",
      "[4 5]\n"
     ]
    }
   ],
   "source": [
    "# indexing dan slicing\n",
    "data = np.arange(6)\n",
    "print(data)\n",
    "print(data[0])\n",
    "print(data[1])\n",
    "print(data[0:2])\n",
    "print(data[1:])\n",
    "print(data[-2:])"
   ]
  },
  {
   "cell_type": "code",
   "execution_count": 88,
   "metadata": {},
   "outputs": [
    {
     "name": "stdout",
     "output_type": "stream",
     "text": [
      "[4 5]\n"
     ]
    }
   ],
   "source": [
    "# dengan kondisi\n",
    "print(data[data>3])"
   ]
  },
  {
   "cell_type": "code",
   "execution_count": 89,
   "metadata": {},
   "outputs": [
    {
     "name": "stdout",
     "output_type": "stream",
     "text": [
      "[0 2 4]\n"
     ]
    }
   ],
   "source": [
    "print(data[data%2==0])"
   ]
  },
  {
   "cell_type": "code",
   "execution_count": 91,
   "metadata": {},
   "outputs": [
    {
     "name": "stdout",
     "output_type": "stream",
     "text": [
      "[0 2 4]\n"
     ]
    }
   ],
   "source": [
    "data_genap = data%2==0\n",
    "data_lebih3 = data>3\n",
    "print(data[data_genap])"
   ]
  },
  {
   "cell_type": "code",
   "execution_count": 92,
   "metadata": {},
   "outputs": [
    {
     "name": "stdout",
     "output_type": "stream",
     "text": [
      "[4]\n"
     ]
    }
   ],
   "source": [
    "print(data[data_genap & data_lebih3])"
   ]
  },
  {
   "cell_type": "code",
   "execution_count": 93,
   "metadata": {},
   "outputs": [
    {
     "name": "stdout",
     "output_type": "stream",
     "text": [
      "[4]\n"
     ]
    }
   ],
   "source": [
    "print(data[(data%2==0) & (data>3)])"
   ]
  },
  {
   "cell_type": "code",
   "execution_count": 94,
   "metadata": {},
   "outputs": [
    {
     "name": "stdout",
     "output_type": "stream",
     "text": [
      "[0 2 4 5]\n"
     ]
    }
   ],
   "source": [
    "print(data[data_genap | data_lebih3])"
   ]
  },
  {
   "cell_type": "markdown",
   "metadata": {},
   "source": [
    "### membuat array dari array\n",
    "- slicing (ambil bbrp item dari sebuah array jadi array baru)\n",
    "- stack (menempel bbrp array jadi satu)\n",
    "    - secara horizontal (tempelin kiri ke kanan)\n",
    "    - secara vertical (tempelin atas ke bawah)\n",
    "- split (memotong satu array jadi bbrp bagian)\n",
    "    - secara horizontal (bagi nya dipisah dari kiri ke kanan)\n",
    "    - secara vertical (baginya dipisah dari atas dan bawah)\n",
    "- copy (membuat copy sebuah array)\n",
    "    - view (shallow copy, kena pass by reference)\n",
    "    - copy (deep copy, membuat array baru)"
   ]
  },
  {
   "cell_type": "code",
   "execution_count": 95,
   "metadata": {},
   "outputs": [
    {
     "name": "stdout",
     "output_type": "stream",
     "text": [
      "[ 1  2  3  4  5  6  7  8  9 10]\n"
     ]
    }
   ],
   "source": [
    "arr = np.arange(1,11)\n",
    "print(arr)"
   ]
  },
  {
   "cell_type": "code",
   "execution_count": 96,
   "metadata": {},
   "outputs": [
    {
     "name": "stdout",
     "output_type": "stream",
     "text": [
      "[4 5 6 7 8]\n"
     ]
    }
   ],
   "source": [
    "# slicing\n",
    "arr1 = arr[3:8]\n",
    "print(arr1)"
   ]
  },
  {
   "cell_type": "code",
   "execution_count": 97,
   "metadata": {},
   "outputs": [
    {
     "name": "stdout",
     "output_type": "stream",
     "text": [
      "[[1 2]\n",
      " [3 4]]\n",
      "[[ 5  6]\n",
      " [ 7  8]\n",
      " [ 9 10]]\n"
     ]
    }
   ],
   "source": [
    "# stack\n",
    "a1 = np.array([[1,2],[3,4]])\n",
    "a2 = np.array([[5,6],[7,8],[9,10]])\n",
    "print(a1)\n",
    "print(a2)"
   ]
  },
  {
   "cell_type": "code",
   "execution_count": 99,
   "metadata": {},
   "outputs": [
    {
     "name": "stdout",
     "output_type": "stream",
     "text": [
      "[[ 1  2]\n",
      " [ 3  4]\n",
      " [ 5  6]\n",
      " [ 7  8]\n",
      " [ 9 10]]\n"
     ]
    }
   ],
   "source": [
    "# vertical stack, vstack\n",
    "arr_baru = np.vstack((a1, a2))\n",
    "print(arr_baru)"
   ]
  },
  {
   "cell_type": "code",
   "execution_count": 101,
   "metadata": {},
   "outputs": [
    {
     "name": "stdout",
     "output_type": "stream",
     "text": [
      "[[1 2]\n",
      " [3 4]]\n",
      "[[ 5  6  7]\n",
      " [ 8  9 10]]\n"
     ]
    }
   ],
   "source": [
    "a1 = np.array([[1,2],[3,4]])\n",
    "a2 = np.array([[5,6,7],[8,9,10]])\n",
    "print(a1)\n",
    "print(a2)"
   ]
  },
  {
   "cell_type": "code",
   "execution_count": 102,
   "metadata": {},
   "outputs": [
    {
     "name": "stdout",
     "output_type": "stream",
     "text": [
      "[[ 1  2  5  6  7]\n",
      " [ 3  4  8  9 10]]\n"
     ]
    }
   ],
   "source": [
    "# horizontal stack, hstack\n",
    "arr_baru = np.hstack((a1, a2))\n",
    "print(arr_baru)"
   ]
  },
  {
   "cell_type": "code",
   "execution_count": 103,
   "metadata": {},
   "outputs": [
    {
     "name": "stdout",
     "output_type": "stream",
     "text": [
      "[[ 1  2  5  6  7  1  2]\n",
      " [ 3  4  8  9 10  3  4]]\n"
     ]
    }
   ],
   "source": [
    "arr_baru = np.hstack((a1, a2, a1))\n",
    "print(arr_baru)"
   ]
  },
  {
   "cell_type": "code",
   "execution_count": 104,
   "metadata": {},
   "outputs": [
    {
     "name": "stdout",
     "output_type": "stream",
     "text": [
      "[[1 2 1 2]\n",
      " [3 4 3 4]]\n"
     ]
    }
   ],
   "source": [
    "arr_baru = np.hstack((a1, a1))\n",
    "print(arr_baru)"
   ]
  },
  {
   "cell_type": "markdown",
   "metadata": {},
   "source": [
    "### split\n",
    "membagi 1 array jadi bbrp bagian"
   ]
  },
  {
   "cell_type": "code",
   "execution_count": 108,
   "metadata": {},
   "outputs": [
    {
     "name": "stdout",
     "output_type": "stream",
     "text": [
      "[[-10  -7  -4  -1]\n",
      " [  2   5   8  11]\n",
      " [ 14  17  20  23]]\n"
     ]
    }
   ],
   "source": [
    "arr_contoh = np.arange(-10,24,3).reshape(3,4)\n",
    "print(arr_contoh)"
   ]
  },
  {
   "cell_type": "code",
   "execution_count": 109,
   "metadata": {},
   "outputs": [
    {
     "data": {
      "text/plain": [
       "[array([[-10,  -7],\n",
       "        [  2,   5],\n",
       "        [ 14,  17]]),\n",
       " array([[-4, -1],\n",
       "        [ 8, 11],\n",
       "        [20, 23]])]"
      ]
     },
     "execution_count": 109,
     "metadata": {},
     "output_type": "execute_result"
    }
   ],
   "source": [
    "np.hsplit(arr_contoh,2)"
   ]
  },
  {
   "cell_type": "code",
   "execution_count": 111,
   "metadata": {},
   "outputs": [
    {
     "data": {
      "text/plain": [
       "[array([[-10,  -7,  -4,  -1]]),\n",
       " array([[ 2,  5,  8, 11]]),\n",
       " array([[14, 17, 20, 23]])]"
      ]
     },
     "execution_count": 111,
     "metadata": {},
     "output_type": "execute_result"
    }
   ],
   "source": [
    "np.vsplit(arr_contoh,3)"
   ]
  },
  {
   "cell_type": "markdown",
   "metadata": {},
   "source": [
    "### view, copy"
   ]
  },
  {
   "cell_type": "code",
   "execution_count": 112,
   "metadata": {},
   "outputs": [],
   "source": [
    "arr_view = arr_contoh.view()\n",
    "arr_copy = arr_contoh.copy()"
   ]
  },
  {
   "cell_type": "code",
   "execution_count": 113,
   "metadata": {},
   "outputs": [
    {
     "name": "stdout",
     "output_type": "stream",
     "text": [
      "[[-10  -7  -4  -1]\n",
      " [  2   5   8  11]\n",
      " [ 14  17  20  23]]\n",
      "[[-10  -7  -4  -1]\n",
      " [  2   5   8  11]\n",
      " [ 14  17  20  23]]\n"
     ]
    }
   ],
   "source": [
    "print(arr_view)\n",
    "print(arr_copy)"
   ]
  },
  {
   "cell_type": "code",
   "execution_count": 114,
   "metadata": {},
   "outputs": [
    {
     "name": "stdout",
     "output_type": "stream",
     "text": [
      "[[ 0  0  0  0]\n",
      " [ 2  5  8 11]\n",
      " [14 17 20 23]]\n"
     ]
    }
   ],
   "source": [
    "arr_contoh[0] = 0\n",
    "print(arr_contoh)"
   ]
  },
  {
   "cell_type": "code",
   "execution_count": 115,
   "metadata": {},
   "outputs": [
    {
     "name": "stdout",
     "output_type": "stream",
     "text": [
      "[[ 0  0  0  0]\n",
      " [ 2  5  8 11]\n",
      " [14 17 20 23]]\n",
      "[[-10  -7  -4  -1]\n",
      " [  2   5   8  11]\n",
      " [ 14  17  20  23]]\n"
     ]
    }
   ],
   "source": [
    "print(arr_view)\n",
    "print(arr_copy)"
   ]
  },
  {
   "cell_type": "code",
   "execution_count": 116,
   "metadata": {},
   "outputs": [],
   "source": [
    "arr_view[0,0] = -10\n",
    "arr_copy[0,0] = 100"
   ]
  },
  {
   "cell_type": "code",
   "execution_count": 117,
   "metadata": {},
   "outputs": [
    {
     "name": "stdout",
     "output_type": "stream",
     "text": [
      "[[-10   0   0   0]\n",
      " [  2   5   8  11]\n",
      " [ 14  17  20  23]]\n"
     ]
    }
   ],
   "source": [
    "print(arr_contoh)"
   ]
  },
  {
   "cell_type": "code",
   "execution_count": 118,
   "metadata": {},
   "outputs": [
    {
     "name": "stdout",
     "output_type": "stream",
     "text": [
      "[[-10   0   0   0]\n",
      " [  2   5   8  11]\n",
      " [ 14  17  20  23]]\n",
      "[[100  -7  -4  -1]\n",
      " [  2   5   8  11]\n",
      " [ 14  17  20  23]]\n"
     ]
    }
   ],
   "source": [
    "print(arr_view)\n",
    "print(arr_copy)"
   ]
  },
  {
   "cell_type": "markdown",
   "metadata": {},
   "source": [
    "# Array operations\n",
    "tambah, kurang, kali, bagi, akar, pangkat, dll semua bisa di numpy array"
   ]
  },
  {
   "cell_type": "code",
   "execution_count": 120,
   "metadata": {},
   "outputs": [
    {
     "name": "stdout",
     "output_type": "stream",
     "text": [
      "[0 1 2 3 4 5 6 7 8 9]\n"
     ]
    }
   ],
   "source": [
    "arr = np.arange(10)\n",
    "print(arr)"
   ]
  },
  {
   "cell_type": "code",
   "execution_count": 121,
   "metadata": {},
   "outputs": [
    {
     "data": {
      "text/plain": [
       "array([ 0,  2,  4,  6,  8, 10, 12, 14, 16, 18])"
      ]
     },
     "execution_count": 121,
     "metadata": {},
     "output_type": "execute_result"
    }
   ],
   "source": [
    "arr * 2"
   ]
  },
  {
   "cell_type": "code",
   "execution_count": 122,
   "metadata": {},
   "outputs": [
    {
     "name": "stdout",
     "output_type": "stream",
     "text": [
      "[10. 10. 10. 10. 10. 10. 10. 10. 10. 10.]\n"
     ]
    }
   ],
   "source": [
    "arr10 = np.ones(10) * 10\n",
    "print(arr10)"
   ]
  },
  {
   "cell_type": "code",
   "execution_count": 123,
   "metadata": {},
   "outputs": [
    {
     "data": {
      "text/plain": [
       "array([10., 11., 12., 13., 14., 15., 16., 17., 18., 19.])"
      ]
     },
     "execution_count": 123,
     "metadata": {},
     "output_type": "execute_result"
    }
   ],
   "source": [
    "arr + arr10"
   ]
  },
  {
   "cell_type": "code",
   "execution_count": 125,
   "metadata": {},
   "outputs": [
    {
     "name": "stdout",
     "output_type": "stream",
     "text": [
      "[-3.  -2.6 -2.2 -1.8 -1.4 -1.  -0.6 -0.2  0.2  0.6]\n"
     ]
    }
   ],
   "source": [
    "arr_baru = arr * 2 / 5 - 3\n",
    "print(arr_baru)"
   ]
  },
  {
   "cell_type": "code",
   "execution_count": 126,
   "metadata": {},
   "outputs": [
    {
     "name": "stdout",
     "output_type": "stream",
     "text": [
      "[[-3.  -2.6 -2.2 -1.8 -1.4]\n",
      " [-1.  -0.6 -0.2  0.2  0.6]]\n"
     ]
    }
   ],
   "source": [
    "arr_baru = arr_baru.reshape(2,5)\n",
    "print(arr_baru)"
   ]
  },
  {
   "cell_type": "code",
   "execution_count": 127,
   "metadata": {},
   "outputs": [
    {
     "data": {
      "text/plain": [
       "-12.000000000000002"
      ]
     },
     "execution_count": 127,
     "metadata": {},
     "output_type": "execute_result"
    }
   ],
   "source": [
    "# sum\n",
    "arr_baru.sum()"
   ]
  },
  {
   "cell_type": "code",
   "execution_count": 128,
   "metadata": {},
   "outputs": [
    {
     "data": {
      "text/plain": [
       "array([-4. , -3.2, -2.4, -1.6, -0.8])"
      ]
     },
     "execution_count": 128,
     "metadata": {},
     "output_type": "execute_result"
    }
   ],
   "source": [
    "# sum seluruh baris (baris 1 + baris 2 + ...)\n",
    "arr_baru.sum(axis=0)"
   ]
  },
  {
   "cell_type": "code",
   "execution_count": 129,
   "metadata": {},
   "outputs": [
    {
     "data": {
      "text/plain": [
       "array([-11.,  -1.])"
      ]
     },
     "execution_count": 129,
     "metadata": {},
     "output_type": "execute_result"
    }
   ],
   "source": [
    "# sum seluruh kolom (kolom 1 + kolom 2 + ...)\n",
    "arr_baru.sum(axis=1)"
   ]
  },
  {
   "cell_type": "code",
   "execution_count": 130,
   "metadata": {},
   "outputs": [
    {
     "data": {
      "text/plain": [
       "array([[ 7. ,  7.4,  7.8,  8.2,  8.6],\n",
       "       [ 9. ,  9.4,  9.8, 10.2, 10.6]])"
      ]
     },
     "execution_count": 130,
     "metadata": {},
     "output_type": "execute_result"
    }
   ],
   "source": [
    "arr_baru + 10"
   ]
  },
  {
   "cell_type": "code",
   "execution_count": 131,
   "metadata": {},
   "outputs": [
    {
     "data": {
      "text/plain": [
       "array([[30., 26., 22., 18., 14.],\n",
       "       [10.,  6.,  2., -2., -6.]])"
      ]
     },
     "execution_count": 131,
     "metadata": {},
     "output_type": "execute_result"
    }
   ],
   "source": [
    "arr_baru * -10"
   ]
  },
  {
   "cell_type": "markdown",
   "metadata": {},
   "source": [
    "selain sum, bisa juga kita cari:\n",
    "- max\n",
    "- min\n",
    "- mean (rata2)\n",
    "- product (hasil perkalian)\n",
    "- std (standard deviation, angka statistik menunjukkan penyebaran)\n",
    "- lainnya"
   ]
  },
  {
   "cell_type": "code",
   "execution_count": 135,
   "metadata": {},
   "outputs": [
    {
     "name": "stdout",
     "output_type": "stream",
     "text": [
      "[[ 1  2  3]\n",
      " [ 9 10 11]]\n"
     ]
    }
   ],
   "source": [
    "arr_baru = np.array([[1,2,3],[9,10,11]])\n",
    "print(arr_baru)"
   ]
  },
  {
   "cell_type": "code",
   "execution_count": 136,
   "metadata": {},
   "outputs": [
    {
     "name": "stdout",
     "output_type": "stream",
     "text": [
      "11\n",
      "1\n",
      "6.0\n"
     ]
    }
   ],
   "source": [
    "# max, min, mean\n",
    "print(arr_baru.max())\n",
    "print(arr_baru.min())\n",
    "print(arr_baru.mean())"
   ]
  },
  {
   "cell_type": "code",
   "execution_count": 137,
   "metadata": {},
   "outputs": [
    {
     "name": "stdout",
     "output_type": "stream",
     "text": [
      "[ 9 10 11]\n",
      "[1 2 3]\n",
      "[5. 6. 7.]\n"
     ]
    }
   ],
   "source": [
    "# bandinginnya per baris\n",
    "print(arr_baru.max(axis=0))\n",
    "print(arr_baru.min(axis=0))\n",
    "print(arr_baru.mean(axis=0))"
   ]
  },
  {
   "cell_type": "code",
   "execution_count": 138,
   "metadata": {},
   "outputs": [
    {
     "name": "stdout",
     "output_type": "stream",
     "text": [
      "[ 3 11]\n",
      "[1 9]\n",
      "[ 2. 10.]\n"
     ]
    }
   ],
   "source": [
    "# bandinginnya per kolom\n",
    "print(arr_baru.max(axis=1))\n",
    "print(arr_baru.min(axis=1))\n",
    "print(arr_baru.mean(axis=1))"
   ]
  },
  {
   "cell_type": "markdown",
   "metadata": {},
   "source": [
    "# Matrices/ Matrix\n",
    "array 2 dimensi isinya angka semua, tidak ada yang bolong. semua baris punya jumlah kolom yang sama. semua kolom punya jumlah baris yang sama.   \n",
    "\n",
    "kalau jumlah kolom cuman 1, namanya vector. tapi disini anggap saja itu adalah matrix dengan 1 kolom."
   ]
  },
  {
   "cell_type": "code",
   "execution_count": 139,
   "metadata": {},
   "outputs": [
    {
     "name": "stdout",
     "output_type": "stream",
     "text": [
      "[[1 2 3]\n",
      " [4 5 6]]\n",
      "[[ 7  8]\n",
      " [ 9 10]\n",
      " [11 12]]\n"
     ]
    }
   ],
   "source": [
    "# contoh bikin matrix, numpy array 2d isi angka semua\n",
    "\n",
    "m1 = np.array([[1,2,3],[4,5,6]])\n",
    "m2 = np.array([[7,8],[9,10],[11,12]])\n",
    "print(m1)\n",
    "print(m2)"
   ]
  },
  {
   "cell_type": "markdown",
   "metadata": {},
   "source": [
    "### dot product"
   ]
  },
  {
   "cell_type": "markdown",
   "metadata": {},
   "source": [
    "contoh dot product, untuk secara visual bisa dilihat di web https://www.mathsisfun.com/algebra/matrix-multiplying.html"
   ]
  },
  {
   "cell_type": "code",
   "execution_count": 141,
   "metadata": {},
   "outputs": [
    {
     "data": {
      "text/plain": [
       "array([[ 58,  64],\n",
       "       [139, 154]])"
      ]
     },
     "execution_count": 141,
     "metadata": {},
     "output_type": "execute_result"
    }
   ],
   "source": [
    "np.dot(m1,m2)"
   ]
  },
  {
   "cell_type": "code",
   "execution_count": 142,
   "metadata": {},
   "outputs": [
    {
     "name": "stdout",
     "output_type": "stream",
     "text": [
      "[[3 4 2]]\n",
      "[[13  9  7 15]\n",
      " [ 8  7  4  6]\n",
      " [ 6  4  0  3]]\n"
     ]
    }
   ],
   "source": [
    "harga = np.array([[3,4,2]])\n",
    "penjualan = np.array([[13,9,7,15],\n",
    "                     [8,7,4,6],\n",
    "                     [6,4,0,3]])\n",
    "print(harga)\n",
    "print(penjualan)"
   ]
  },
  {
   "cell_type": "code",
   "execution_count": 144,
   "metadata": {},
   "outputs": [
    {
     "name": "stdout",
     "output_type": "stream",
     "text": [
      "total penjualan\n",
      "perhari [[83 63 37 75]]\n",
      "total 4 hari 258\n"
     ]
    }
   ],
   "source": [
    "print(\"total penjualan\")\n",
    "perhari = np.dot(harga, penjualan)\n",
    "print(\"perhari\", perhari)\n",
    "print(\"total 4 hari\", perhari.sum())"
   ]
  },
  {
   "cell_type": "markdown",
   "metadata": {},
   "source": [
    "### transposing"
   ]
  },
  {
   "cell_type": "code",
   "execution_count": 145,
   "metadata": {},
   "outputs": [
    {
     "name": "stdout",
     "output_type": "stream",
     "text": [
      "[[13  9  7 15]\n",
      " [ 8  7  4  6]\n",
      " [ 6  4  0  3]]\n"
     ]
    }
   ],
   "source": [
    "# reshape mengubah bentuk sebuah numpy array\n",
    "print(penjualan)"
   ]
  },
  {
   "cell_type": "code",
   "execution_count": 147,
   "metadata": {},
   "outputs": [
    {
     "name": "stdout",
     "output_type": "stream",
     "text": [
      "[[13  9  7]\n",
      " [15  8  7]\n",
      " [ 4  6  6]\n",
      " [ 4  0  3]]\n"
     ]
    }
   ],
   "source": [
    "print(penjualan.reshape((4,3)))"
   ]
  },
  {
   "cell_type": "code",
   "execution_count": 149,
   "metadata": {},
   "outputs": [
    {
     "name": "stdout",
     "output_type": "stream",
     "text": [
      "[[13  8  6]\n",
      " [ 9  7  4]\n",
      " [ 7  4  0]\n",
      " [15  6  3]]\n"
     ]
    }
   ],
   "source": [
    "print(penjualan.transpose())"
   ]
  },
  {
   "cell_type": "code",
   "execution_count": 151,
   "metadata": {},
   "outputs": [
    {
     "name": "stdout",
     "output_type": "stream",
     "text": [
      "[[13  8  6]\n",
      " [ 9  7  4]\n",
      " [ 7  4  0]\n",
      " [15  6  3]]\n"
     ]
    }
   ],
   "source": [
    "print(penjualan.T)"
   ]
  },
  {
   "cell_type": "markdown",
   "metadata": {},
   "source": [
    "### flatten dan ravel\n",
    "flatten -> ubah array jadi 1d, deep copy mirip .copy()   \n",
    "ravel -> ubah array jadi 1d, by reference mirip .view()"
   ]
  },
  {
   "cell_type": "code",
   "execution_count": 160,
   "metadata": {},
   "outputs": [
    {
     "name": "stdout",
     "output_type": "stream",
     "text": [
      "[[ 1  2  3  4]\n",
      " [ 5  6  7  8]\n",
      " [ 9 10 11 12]]\n"
     ]
    }
   ],
   "source": [
    "arr_2d = np.array([[1, 2, 3, 4], [5, 6, 7, 8], [9, 10, 11, 12]])\n",
    "print(arr_2d)"
   ]
  },
  {
   "cell_type": "code",
   "execution_count": 161,
   "metadata": {},
   "outputs": [
    {
     "name": "stdout",
     "output_type": "stream",
     "text": [
      "[ 1  2  3  4  5  6  7  8  9 10 11 12]\n",
      "[ 1  2  3  4  5  6  7  8  9 10 11 12]\n"
     ]
    }
   ],
   "source": [
    "arr_flat = arr_2d.flatten()\n",
    "arr_ravel= arr_2d.ravel()\n",
    "print(arr_flat)\n",
    "print(arr_ravel)"
   ]
  },
  {
   "cell_type": "code",
   "execution_count": 162,
   "metadata": {},
   "outputs": [
    {
     "name": "stdout",
     "output_type": "stream",
     "text": [
      "[100   2   3   4   5   6   7   8   9  10  11  12]\n",
      "[-3  2  3  4  5  6  7  8  9 10 11 12]\n",
      "[[100   2   3   4]\n",
      " [  5   6   7   8]\n",
      " [  9  10  11  12]]\n"
     ]
    }
   ],
   "source": [
    "arr_ravel[0] = 100\n",
    "arr_flat[0] = -3\n",
    "\n",
    "print(arr_ravel)\n",
    "print(arr_flat)\n",
    "print(arr_2d)"
   ]
  },
  {
   "cell_type": "code",
   "execution_count": null,
   "metadata": {},
   "outputs": [],
   "source": []
  }
 ],
 "metadata": {
  "kernelspec": {
   "display_name": "Python 3",
   "language": "python",
   "name": "python3"
  },
  "language_info": {
   "codemirror_mode": {
    "name": "ipython",
    "version": 3
   },
   "file_extension": ".py",
   "mimetype": "text/x-python",
   "name": "python",
   "nbconvert_exporter": "python",
   "pygments_lexer": "ipython3",
   "version": "3.8.5"
  }
 },
 "nbformat": 4,
 "nbformat_minor": 4
}
