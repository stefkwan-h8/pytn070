{
 "cells": [
  {
   "cell_type": "markdown",
   "metadata": {},
   "source": [
    "# Function\n",
    "menyimpan blok kode dengan nama function\n",
    "\n",
    "- def untuk mendefinisikan sebuah function (seperti if)\n",
    "- dilanjutkan dengan nama function nya (seperti nama variable, biasanya pakai camelCase)\n",
    "- dilanjutkan kurung biasa () yang isinya bisa ada atau tidak. isinya adalah argumen/ parameter/ variable spesial milik function tersebut"
   ]
  },
  {
   "cell_type": "code",
   "execution_count": 7,
   "metadata": {},
   "outputs": [],
   "source": [
    "# contoh 1\n",
    "def cekUmur(umur):\n",
    "\n",
    "    while umur < 60:\n",
    "        print(umur, \"bukan lansia\")\n",
    "        # ubah umur biar bertambah, biar suatu saat melebihi 60 sehingga kondisi jadi False\n",
    "        umur = umur + 1 # umur += 1\n",
    "\n",
    "\n",
    "    print(umur, \"sudah menjadi lansia\")"
   ]
  },
  {
   "cell_type": "code",
   "execution_count": 9,
   "metadata": {},
   "outputs": [
    {
     "name": "stdout",
     "output_type": "stream",
     "text": [
      "55 bukan lansia\n",
      "56 bukan lansia\n",
      "57 bukan lansia\n",
      "58 bukan lansia\n",
      "59 bukan lansia\n",
      "60 sudah menjadi lansia\n",
      "60 sudah menjadi lansia\n"
     ]
    }
   ],
   "source": [
    "cekUmur(55)\n",
    "cekUmur(60)"
   ]
  },
  {
   "cell_type": "code",
   "execution_count": 10,
   "metadata": {},
   "outputs": [],
   "source": [
    "# contoh 2\n",
    "# bikin function untuk menyapa seseorang\n",
    "def sapa():\n",
    "    print(\"halo\")\n",
    "    print(\"selamat pagi\")"
   ]
  },
  {
   "cell_type": "code",
   "execution_count": 11,
   "metadata": {},
   "outputs": [
    {
     "name": "stdout",
     "output_type": "stream",
     "text": [
      "halo\n",
      "selamat pagi\n"
     ]
    }
   ],
   "source": [
    "# invoke function dengan menggunakan nama dan \"invoke\" dengan kurung\n",
    "sapa()"
   ]
  },
  {
   "cell_type": "code",
   "execution_count": 12,
   "metadata": {},
   "outputs": [
    {
     "name": "stdout",
     "output_type": "stream",
     "text": [
      "halo\n",
      "selamat pagi\n"
     ]
    }
   ],
   "source": [
    "sapa()"
   ]
  },
  {
   "cell_type": "code",
   "execution_count": 13,
   "metadata": {},
   "outputs": [],
   "source": [
    "# buat function sapa yang lebih advanced sedikit, kita bisa custom nama orang yang disapa\n",
    "def sapaNama(siapa):\n",
    "    print(\"halo\", siapa)\n",
    "    print(\"selamat pagi\")"
   ]
  },
  {
   "cell_type": "code",
   "execution_count": 17,
   "metadata": {},
   "outputs": [
    {
     "name": "stdout",
     "output_type": "stream",
     "text": [
      "halo Andhika\n",
      "selamat pagi\n"
     ]
    }
   ],
   "source": [
    "sapaNama(\"Andhika\")"
   ]
  },
  {
   "cell_type": "code",
   "execution_count": 18,
   "metadata": {},
   "outputs": [],
   "source": [
    "# bagaimana kalau waktu nya juga mau di custom, jadi bisa selamat pagi,siang,sore\n",
    "# jadi ada 2 hal yang mau di custom: nama orangnya, dan waktu nya\n",
    "def sapaNamaWaktu(siapa, waktu):\n",
    "    print(\"halo\", siapa)\n",
    "    print(\"selamat\", waktu)"
   ]
  },
  {
   "cell_type": "code",
   "execution_count": 19,
   "metadata": {},
   "outputs": [
    {
     "name": "stdout",
     "output_type": "stream",
     "text": [
      "halo Budi\n",
      "selamat sore\n"
     ]
    }
   ],
   "source": [
    "sapaNamaWaktu(\"Budi\", \"sore\")"
   ]
  },
  {
   "cell_type": "markdown",
   "metadata": {},
   "source": [
    "# Pass by reference, pass by value\n",
    "saat data kita tipe nya simple (int, float, bool, str) data tersebut akan selalu di pass by value.   \n",
    "untuk tipe data yang lebih structured (list, tuple, dictionary), data akan selalu di pass by reference."
   ]
  },
  {
   "cell_type": "code",
   "execution_count": 20,
   "metadata": {},
   "outputs": [
    {
     "name": "stdout",
     "output_type": "stream",
     "text": [
      "['bangka', 'indonesia']\n"
     ]
    }
   ],
   "source": [
    "# pass by reference adalah saat data asli nya ikut berubah, padahal yang diubah itu variable berbeda\n",
    "rumah = [\"jakarta\", \"indonesia\"]\n",
    "kopi_rumah = rumah\n",
    "\n",
    "kopi_rumah[0] = \"bangka\"\n",
    "\n",
    "print(rumah)"
   ]
  },
  {
   "cell_type": "code",
   "execution_count": 21,
   "metadata": {},
   "outputs": [
    {
     "name": "stdout",
     "output_type": "stream",
     "text": [
      "jakarta, Indonesia\n"
     ]
    }
   ],
   "source": [
    "# pass by value adalah saat data asli tidak tersentuh\n",
    "rumah = \"jakarta, Indonesia\"\n",
    "kopi_rumah = rumah\n",
    "\n",
    "kopi_rumah = \"bangka, Indonesia\"\n",
    "\n",
    "print(rumah)"
   ]
  },
  {
   "cell_type": "code",
   "execution_count": 22,
   "metadata": {},
   "outputs": [],
   "source": [
    "# contoh - punya function yang menambahkan item ke sebuah list\n",
    "list_buah = [\"apel\", \"semangka\", \"duren\"]\n",
    "\n",
    "def nambahBuah(lb, buah):\n",
    "    lb.append(buah)\n",
    "    print(lb)"
   ]
  },
  {
   "cell_type": "code",
   "execution_count": 23,
   "metadata": {},
   "outputs": [
    {
     "name": "stdout",
     "output_type": "stream",
     "text": [
      "['apel', 'semangka', 'duren', 'kelapa']\n"
     ]
    }
   ],
   "source": [
    "nambahBuah(list_buah, \"kelapa\")"
   ]
  },
  {
   "cell_type": "code",
   "execution_count": 24,
   "metadata": {},
   "outputs": [
    {
     "name": "stdout",
     "output_type": "stream",
     "text": [
      "['apel', 'semangka', 'duren', 'kelapa']\n"
     ]
    }
   ],
   "source": [
    "print(list_buah)"
   ]
  },
  {
   "cell_type": "code",
   "execution_count": 25,
   "metadata": {},
   "outputs": [
    {
     "name": "stdout",
     "output_type": "stream",
     "text": [
      "['apel', 'semangka', 'duren', 'jeruk']\n"
     ]
    }
   ],
   "source": [
    "# biar tidak kena pass by reference, kita perlu buat deep copy data tersebut\n",
    "list_buah = [\"apel\", \"semangka\", \"duren\"]\n",
    "\n",
    "def nambahBuah(lb, buah):\n",
    "    copy_list = lb.copy() # membuat deep copy dari data yang kita berikan\n",
    "    copy_list.append(buah)\n",
    "    print(copy_list)\n",
    "    \n",
    "nambahBuah(list_buah, \"jeruk\")"
   ]
  },
  {
   "cell_type": "code",
   "execution_count": 26,
   "metadata": {},
   "outputs": [
    {
     "name": "stdout",
     "output_type": "stream",
     "text": [
      "['apel', 'semangka', 'duren']\n"
     ]
    }
   ],
   "source": [
    "print(list_buah)"
   ]
  },
  {
   "cell_type": "markdown",
   "metadata": {},
   "source": [
    "# Tipe Argumen sebuah Function\n",
    "- required argument   \n",
    "    tipe argumen yang harus diisi saat function dipanggil   \n",
    "- keyword argument   \n",
    "    cara untuk mengisi argumen tanpa harus urut posisi nya   \n",
    "- default argument   \n",
    "    argumen yang TIDAK harus diisi karena kalau kosong dia otomatis terisi sebuah value   \n",
    "- variable-length argument   \n",
    "    jumlah argumen nya bisa 0,1,2,..."
   ]
  },
  {
   "cell_type": "markdown",
   "metadata": {},
   "source": [
    "## required argument"
   ]
  },
  {
   "cell_type": "code",
   "execution_count": 27,
   "metadata": {},
   "outputs": [],
   "source": [
    "# contoh required argumen\n",
    "def contoh(arg1):\n",
    "    print(\"ini function contoh\")"
   ]
  },
  {
   "cell_type": "markdown",
   "metadata": {},
   "source": [
    "```python\n",
    "contoh()\n",
    "```\n",
    "akan error karena argumen 'arg1' yang required belum diisi"
   ]
  },
  {
   "cell_type": "markdown",
   "metadata": {},
   "source": [
    "## keyword argument\n",
    "(cara isi argument)"
   ]
  },
  {
   "cell_type": "code",
   "execution_count": 29,
   "metadata": {},
   "outputs": [],
   "source": [
    "# contoh cara mengisi argumen menggunakan keyword\n",
    "\n",
    "# function untuk menyapa menggunakan nama orang, waktu, dan tempat\n",
    "def sapa3(nama, waktu, tempat):\n",
    "    print(\"selamat\", waktu, nama)\n",
    "    print(\"selamat datang di\", tempat)"
   ]
  },
  {
   "cell_type": "code",
   "execution_count": 30,
   "metadata": {},
   "outputs": [
    {
     "name": "stdout",
     "output_type": "stream",
     "text": [
      "selamat pagi Andhika\n",
      "selamat datang di Hacktiv8\n"
     ]
    }
   ],
   "source": [
    "# isi argumen urut\n",
    "sapa3(\"Andhika\", \"pagi\", \"Hacktiv8\")"
   ]
  },
  {
   "cell_type": "code",
   "execution_count": 31,
   "metadata": {},
   "outputs": [
    {
     "name": "stdout",
     "output_type": "stream",
     "text": [
      "selamat sore Budi\n",
      "selamat datang di Hacktiv8\n"
     ]
    }
   ],
   "source": [
    "# isi argumen dengan keyword\n",
    "sapa3(waktu=\"sore\", tempat=\"Hacktiv8\", nama=\"Budi\")"
   ]
  },
  {
   "cell_type": "code",
   "execution_count": 32,
   "metadata": {},
   "outputs": [
    {
     "name": "stdout",
     "output_type": "stream",
     "text": [
      "selamat H8 sore\n",
      "selamat datang di Budi\n"
     ]
    }
   ],
   "source": [
    "sapa3(\"sore\", \"H8\", \"Budi\")"
   ]
  },
  {
   "cell_type": "code",
   "execution_count": 34,
   "metadata": {},
   "outputs": [
    {
     "name": "stdout",
     "output_type": "stream",
     "text": [
      "selamat sore Andhika\n",
      "selamat datang di Hacktiv8\n"
     ]
    }
   ],
   "source": [
    "sapa3(\"Andhika\", waktu=\"sore\", tempat=\"Hacktiv8\")"
   ]
  },
  {
   "cell_type": "markdown",
   "metadata": {},
   "source": [
    "## default argument"
   ]
  },
  {
   "cell_type": "code",
   "execution_count": 35,
   "metadata": {},
   "outputs": [],
   "source": [
    "# kita tambahkan default value untuk function sapa3 tadi\n",
    "def sapa3(nama=\"pak/bu\", waktu=\"pagi\", tempat=\"Hacktiv8\"):\n",
    "    print(\"selamat\", waktu, nama)\n",
    "    print(\"selamat datang di\", tempat)"
   ]
  },
  {
   "cell_type": "code",
   "execution_count": 36,
   "metadata": {},
   "outputs": [
    {
     "name": "stdout",
     "output_type": "stream",
     "text": [
      "selamat pagi pak/bu\n",
      "selamat datang di Hacktiv8\n"
     ]
    }
   ],
   "source": [
    "sapa3()"
   ]
  },
  {
   "cell_type": "code",
   "execution_count": 37,
   "metadata": {},
   "outputs": [
    {
     "name": "stdout",
     "output_type": "stream",
     "text": [
      "selamat pagi Andi\n",
      "selamat datang di Hacktiv8\n"
     ]
    }
   ],
   "source": [
    "sapa3(\"Andi\")"
   ]
  },
  {
   "cell_type": "code",
   "execution_count": 38,
   "metadata": {},
   "outputs": [
    {
     "name": "stdout",
     "output_type": "stream",
     "text": [
      "selamat malam pak/bu\n",
      "selamat datang di Hacktiv8\n"
     ]
    }
   ],
   "source": [
    "# gabungan default dengan keyword argumen\n",
    "sapa3(waktu=\"malam\")"
   ]
  },
  {
   "cell_type": "markdown",
   "metadata": {},
   "source": [
    "## variable-length argument\n",
    "nama argumennya kita mulai dengan \\*, dan dia bisa diisi banyak value"
   ]
  },
  {
   "cell_type": "code",
   "execution_count": 49,
   "metadata": {},
   "outputs": [],
   "source": [
    "# contoh, function sapa untuk menyapa banyak orang sekaligus\n",
    "def sapaBanyak(waktu, *orang):\n",
    "    # untuk setiap orang yang ada, kita sapa satu kali\n",
    "    print(\"kita akan menyapa\", len(orang),\"orang\")\n",
    "    for o in orang:\n",
    "        print(\"selamat\", waktu, o)"
   ]
  },
  {
   "cell_type": "code",
   "execution_count": 50,
   "metadata": {},
   "outputs": [
    {
     "name": "stdout",
     "output_type": "stream",
     "text": [
      "kita akan menyapa 3 orang\n",
      "selamat pagi Andhika\n",
      "selamat pagi Jonathan\n",
      "selamat pagi Budi\n"
     ]
    }
   ],
   "source": [
    "sapaBanyak(\"pagi\", \"Andhika\", \"Jonathan\", \"Budi\")"
   ]
  },
  {
   "cell_type": "code",
   "execution_count": 52,
   "metadata": {},
   "outputs": [
    {
     "name": "stdout",
     "output_type": "stream",
     "text": [
      "kita akan menyapa 0 orang\n",
      "kita akan menyapa 1 orang\n",
      "selamat malam A\n"
     ]
    }
   ],
   "source": [
    "sapaBanyak(\"malam\")\n",
    "sapaBanyak(\"malam\", \"A\")"
   ]
  },
  {
   "cell_type": "markdown",
   "metadata": {},
   "source": [
    "# return Statement\n",
    "return digunakan untuk mengembalikan value ke tempat sebuah function dipanggil.   \n",
    "return juga akan menghentikan function."
   ]
  },
  {
   "cell_type": "code",
   "execution_count": 53,
   "metadata": {},
   "outputs": [],
   "source": [
    "# contoh, function untuk hitung area\n",
    "\n",
    "def hitungArea(panjang, lebar):\n",
    "    print(panjang * lebar)"
   ]
  },
  {
   "cell_type": "code",
   "execution_count": 55,
   "metadata": {},
   "outputs": [
    {
     "name": "stdout",
     "output_type": "stream",
     "text": [
      "200\n"
     ]
    }
   ],
   "source": [
    "hasil_hitung = hitungArea(10,20)"
   ]
  },
  {
   "cell_type": "code",
   "execution_count": 56,
   "metadata": {},
   "outputs": [
    {
     "name": "stdout",
     "output_type": "stream",
     "text": [
      "None\n"
     ]
    }
   ],
   "source": [
    "print(hasil_hitung)"
   ]
  },
  {
   "cell_type": "markdown",
   "metadata": {},
   "source": [
    "karena function hanya print saja, hasil hitung nya tidak bisa disimpan ke sebuah variable"
   ]
  },
  {
   "cell_type": "code",
   "execution_count": 57,
   "metadata": {},
   "outputs": [],
   "source": [
    "# ulang, tapi kali ini menggunakan return\n",
    "# function untuk hitung area\n",
    "\n",
    "def hitungArea(panjang, lebar):\n",
    "    return panjang * lebar"
   ]
  },
  {
   "cell_type": "code",
   "execution_count": 58,
   "metadata": {},
   "outputs": [],
   "source": [
    "hasil_hitung = hitungArea(10,20)"
   ]
  },
  {
   "cell_type": "code",
   "execution_count": 59,
   "metadata": {},
   "outputs": [
    {
     "name": "stdout",
     "output_type": "stream",
     "text": [
      "200\n"
     ]
    }
   ],
   "source": [
    "print(hasil_hitung)"
   ]
  },
  {
   "cell_type": "code",
   "execution_count": 61,
   "metadata": {},
   "outputs": [],
   "source": [
    "# note, return menghentikan function\n",
    "def hitungArea(panjang, lebar):\n",
    "    return panjang * lebar\n",
    "    print(\"hello, ini setelah return\") # tidak jalan karena sudah return duluan"
   ]
  },
  {
   "cell_type": "code",
   "execution_count": 62,
   "metadata": {},
   "outputs": [],
   "source": [
    "hasil_hitung = hitungArea(12,23)"
   ]
  },
  {
   "cell_type": "code",
   "execution_count": 63,
   "metadata": {},
   "outputs": [
    {
     "name": "stdout",
     "output_type": "stream",
     "text": [
      "276\n"
     ]
    }
   ],
   "source": [
    "print(hasil_hitung)"
   ]
  },
  {
   "cell_type": "code",
   "execution_count": 64,
   "metadata": {},
   "outputs": [],
   "source": [
    "# contoh kedua, kita mau hitung tambah tambahan\n",
    "def hitungSum(a,b,c):\n",
    "    jumlah = a+b+c\n",
    "    return jumlah"
   ]
  },
  {
   "cell_type": "code",
   "execution_count": 65,
   "metadata": {},
   "outputs": [
    {
     "data": {
      "text/plain": [
       "6"
      ]
     },
     "execution_count": 65,
     "metadata": {},
     "output_type": "execute_result"
    }
   ],
   "source": [
    "hitungSum(1,2,3)"
   ]
  },
  {
   "cell_type": "code",
   "execution_count": 66,
   "metadata": {},
   "outputs": [
    {
     "data": {
      "text/plain": [
       "6"
      ]
     },
     "execution_count": 66,
     "metadata": {},
     "output_type": "execute_result"
    }
   ],
   "source": [
    "6"
   ]
  },
  {
   "cell_type": "code",
   "execution_count": 67,
   "metadata": {},
   "outputs": [
    {
     "data": {
      "text/plain": [
       "60"
      ]
     },
     "execution_count": 67,
     "metadata": {},
     "output_type": "execute_result"
    }
   ],
   "source": [
    "hitungSum(1,2,3)\n",
    "hitungSum(10,20,30)"
   ]
  },
  {
   "cell_type": "code",
   "execution_count": 68,
   "metadata": {},
   "outputs": [
    {
     "data": {
      "text/plain": [
       "60"
      ]
     },
     "execution_count": 68,
     "metadata": {},
     "output_type": "execute_result"
    }
   ],
   "source": [
    "6\n",
    "60"
   ]
  },
  {
   "cell_type": "code",
   "execution_count": 69,
   "metadata": {},
   "outputs": [
    {
     "data": {
      "text/plain": [
       "8"
      ]
     },
     "execution_count": 69,
     "metadata": {},
     "output_type": "execute_result"
    }
   ],
   "source": [
    "hitungSum(10,10,10)\n",
    "hitungSum(8,8,8)\n",
    "hitungSum(2,4,2)"
   ]
  },
  {
   "cell_type": "code",
   "execution_count": 70,
   "metadata": {},
   "outputs": [
    {
     "data": {
      "text/plain": [
       "8"
      ]
     },
     "execution_count": 70,
     "metadata": {},
     "output_type": "execute_result"
    }
   ],
   "source": [
    "123\n",
    "123\n",
    "123\n",
    "8"
   ]
  },
  {
   "cell_type": "code",
   "execution_count": 71,
   "metadata": {},
   "outputs": [],
   "source": [
    "# return kembaliin value ke tempat function dipanggil\n",
    "def echo(msg):\n",
    "    return"
   ]
  },
  {
   "cell_type": "code",
   "execution_count": 72,
   "metadata": {},
   "outputs": [],
   "source": [
    "echo(\"hello\")"
   ]
  },
  {
   "cell_type": "code",
   "execution_count": 73,
   "metadata": {},
   "outputs": [],
   "source": [
    "def echo(msg):\n",
    "    return msg"
   ]
  },
  {
   "cell_type": "code",
   "execution_count": 75,
   "metadata": {},
   "outputs": [],
   "source": [
    "hasil_echo = echo(\"hello\")"
   ]
  },
  {
   "cell_type": "code",
   "execution_count": 76,
   "metadata": {},
   "outputs": [
    {
     "name": "stdout",
     "output_type": "stream",
     "text": [
      "hello\n"
     ]
    }
   ],
   "source": [
    "print(hasil_echo)"
   ]
  },
  {
   "cell_type": "markdown",
   "metadata": {},
   "source": [
    "# global vs local variable\n",
    "contoh, untuk variable msg di dalam function echo, adalah sebuah local variable yang hidup di dalam function echo saja. di luar funcion tersebut, dia tidak eksis.\n",
    "```python\n",
    "print(msg)\n",
    "```\n",
    "akan error karena variable msg tidak ditemukan   \n",
    "   \n",
    "sementara, variable `hasil_echo` adalah sebuah global variable yang bisa digunakan di dalam ataupun di luar function echo   \n",
    "note: jangan gunakan global variable di dalam function (bad practice)"
   ]
  },
  {
   "cell_type": "code",
   "execution_count": 78,
   "metadata": {},
   "outputs": [],
   "source": [
    "# contoh buruk menggunakan global variable di dalam sebuah function\n",
    "# tidak error, tapi akan menyusahkan\n",
    "num = 100\n",
    "\n",
    "def tambah(a,b):\n",
    "    return a + b + num"
   ]
  },
  {
   "cell_type": "code",
   "execution_count": 79,
   "metadata": {},
   "outputs": [
    {
     "data": {
      "text/plain": [
       "190"
      ]
     },
     "execution_count": 79,
     "metadata": {},
     "output_type": "execute_result"
    }
   ],
   "source": [
    "tambah(40,50)"
   ]
  },
  {
   "cell_type": "code",
   "execution_count": 80,
   "metadata": {},
   "outputs": [],
   "source": [
    "num = 80"
   ]
  },
  {
   "cell_type": "code",
   "execution_count": 81,
   "metadata": {},
   "outputs": [
    {
     "data": {
      "text/plain": [
       "170"
      ]
     },
     "execution_count": 81,
     "metadata": {},
     "output_type": "execute_result"
    }
   ],
   "source": [
    "tambah(40,50)"
   ]
  },
  {
   "cell_type": "markdown",
   "metadata": {},
   "source": [
    "# Module\n",
    "file python terpisah yang bisa kita gunakan untuk mengumpulkan variable, function, class, code python lainnya.   \n",
    "cara buat module python:\n",
    "1. buat file yang extension nya `.py`\n",
    "2. isi dengan variable, function, class python\n",
    "\n",
    "cara pakai module python:\n",
    "1. import module nya\n",
    "2. gunakan variable, function, class yang ada di dalam module tersebut"
   ]
  },
  {
   "cell_type": "code",
   "execution_count": 82,
   "metadata": {},
   "outputs": [],
   "source": [
    "import mod_andhika"
   ]
  },
  {
   "cell_type": "code",
   "execution_count": 83,
   "metadata": {},
   "outputs": [
    {
     "data": {
      "text/plain": [
       "'Andhika'"
      ]
     },
     "execution_count": 83,
     "metadata": {},
     "output_type": "execute_result"
    }
   ],
   "source": [
    "mod_andhika.nama"
   ]
  },
  {
   "cell_type": "code",
   "execution_count": 84,
   "metadata": {},
   "outputs": [
    {
     "data": {
      "text/plain": [
       "24"
      ]
     },
     "execution_count": 84,
     "metadata": {},
     "output_type": "execute_result"
    }
   ],
   "source": [
    "mod_andhika.umur"
   ]
  },
  {
   "cell_type": "code",
   "execution_count": 85,
   "metadata": {},
   "outputs": [
    {
     "data": {
      "text/plain": [
       "['nasi goreng', 'ikan bakar', 'es krim']"
      ]
     },
     "execution_count": 85,
     "metadata": {},
     "output_type": "execute_result"
    }
   ],
   "source": [
    "mod_andhika.makanan_fav"
   ]
  },
  {
   "cell_type": "code",
   "execution_count": 87,
   "metadata": {},
   "outputs": [
    {
     "name": "stdout",
     "output_type": "stream",
     "text": [
      "salam kenal, saya Andhika Widjaja\n"
     ]
    }
   ],
   "source": [
    "mod_andhika.sapa()"
   ]
  },
  {
   "cell_type": "code",
   "execution_count": 89,
   "metadata": {},
   "outputs": [],
   "source": [
    "mod_andhika.nambahMakananFav(\"roti manis\")"
   ]
  },
  {
   "cell_type": "code",
   "execution_count": 90,
   "metadata": {},
   "outputs": [
    {
     "data": {
      "text/plain": [
       "['nasi goreng', 'ikan bakar', 'es krim', 'roti manis']"
      ]
     },
     "execution_count": 90,
     "metadata": {},
     "output_type": "execute_result"
    }
   ],
   "source": [
    "mod_andhika.makanan_fav"
   ]
  },
  {
   "cell_type": "markdown",
   "metadata": {},
   "source": [
    "# module sys\n",
    "kita bisa import `mod_andhika.py` karena file tersebut ada di tempat yang sama dengan `Sesi03.ipynb`   \n",
    "\n",
    "module bisa kita import dari mana saja? kita bisa cek dengan bantuan module `sys`"
   ]
  },
  {
   "cell_type": "code",
   "execution_count": 91,
   "metadata": {},
   "outputs": [
    {
     "data": {
      "text/plain": [
       "['C:\\\\Users\\\\stefa\\\\hacktiv\\\\PYTN\\\\70',\n",
       " 'C:\\\\Users\\\\stefa\\\\anaconda3\\\\python38.zip',\n",
       " 'C:\\\\Users\\\\stefa\\\\anaconda3\\\\DLLs',\n",
       " 'C:\\\\Users\\\\stefa\\\\anaconda3\\\\lib',\n",
       " 'C:\\\\Users\\\\stefa\\\\anaconda3',\n",
       " '',\n",
       " 'C:\\\\Users\\\\stefa\\\\AppData\\\\Roaming\\\\Python\\\\Python38\\\\site-packages',\n",
       " 'C:\\\\Users\\\\stefa\\\\anaconda3\\\\lib\\\\site-packages',\n",
       " 'C:\\\\Users\\\\stefa\\\\anaconda3\\\\lib\\\\site-packages\\\\win32',\n",
       " 'C:\\\\Users\\\\stefa\\\\anaconda3\\\\lib\\\\site-packages\\\\win32\\\\lib',\n",
       " 'C:\\\\Users\\\\stefa\\\\anaconda3\\\\lib\\\\site-packages\\\\Pythonwin',\n",
       " 'C:\\\\Users\\\\stefa\\\\anaconda3\\\\lib\\\\site-packages\\\\IPython\\\\extensions',\n",
       " 'C:\\\\Users\\\\stefa\\\\.ipython']"
      ]
     },
     "execution_count": 91,
     "metadata": {},
     "output_type": "execute_result"
    }
   ],
   "source": [
    "import sys\n",
    "sys.path"
   ]
  },
  {
   "cell_type": "code",
   "execution_count": 92,
   "metadata": {},
   "outputs": [],
   "source": [
    "# kita bisa tambahin sendiri mau cari module dari folder apa\n",
    "sys.path.append('C:\\\\Users\\\\stefa\\\\hacktiv\\\\PYTN\\\\my_modules')"
   ]
  },
  {
   "cell_type": "markdown",
   "metadata": {},
   "source": [
    "## edit path yang di append ini supaya menemukan file `mod_budi.py` di komputer kalian masing-masing"
   ]
  },
  {
   "cell_type": "code",
   "execution_count": 93,
   "metadata": {},
   "outputs": [
    {
     "data": {
      "text/plain": [
       "['C:\\\\Users\\\\stefa\\\\hacktiv\\\\PYTN\\\\70',\n",
       " 'C:\\\\Users\\\\stefa\\\\anaconda3\\\\python38.zip',\n",
       " 'C:\\\\Users\\\\stefa\\\\anaconda3\\\\DLLs',\n",
       " 'C:\\\\Users\\\\stefa\\\\anaconda3\\\\lib',\n",
       " 'C:\\\\Users\\\\stefa\\\\anaconda3',\n",
       " '',\n",
       " 'C:\\\\Users\\\\stefa\\\\AppData\\\\Roaming\\\\Python\\\\Python38\\\\site-packages',\n",
       " 'C:\\\\Users\\\\stefa\\\\anaconda3\\\\lib\\\\site-packages',\n",
       " 'C:\\\\Users\\\\stefa\\\\anaconda3\\\\lib\\\\site-packages\\\\win32',\n",
       " 'C:\\\\Users\\\\stefa\\\\anaconda3\\\\lib\\\\site-packages\\\\win32\\\\lib',\n",
       " 'C:\\\\Users\\\\stefa\\\\anaconda3\\\\lib\\\\site-packages\\\\Pythonwin',\n",
       " 'C:\\\\Users\\\\stefa\\\\anaconda3\\\\lib\\\\site-packages\\\\IPython\\\\extensions',\n",
       " 'C:\\\\Users\\\\stefa\\\\.ipython',\n",
       " 'C:\\\\Users\\\\stefa\\\\hacktiv\\\\PYTN\\\\my_modules']"
      ]
     },
     "execution_count": 93,
     "metadata": {},
     "output_type": "execute_result"
    }
   ],
   "source": [
    "sys.path"
   ]
  },
  {
   "cell_type": "code",
   "execution_count": 94,
   "metadata": {},
   "outputs": [],
   "source": [
    "import mod_budi"
   ]
  },
  {
   "cell_type": "code",
   "execution_count": 95,
   "metadata": {},
   "outputs": [
    {
     "data": {
      "text/plain": [
       "'Budi'"
      ]
     },
     "execution_count": 95,
     "metadata": {},
     "output_type": "execute_result"
    }
   ],
   "source": [
    "mod_budi.nama"
   ]
  },
  {
   "cell_type": "markdown",
   "metadata": {},
   "source": [
    "## cara-cara import lainnya"
   ]
  },
  {
   "cell_type": "code",
   "execution_count": 96,
   "metadata": {},
   "outputs": [],
   "source": [
    "from mod_andhika import nama"
   ]
  },
  {
   "cell_type": "code",
   "execution_count": 103,
   "metadata": {},
   "outputs": [],
   "source": [
    "from mod_andhika import nama, umur, makanan_fav"
   ]
  },
  {
   "cell_type": "code",
   "execution_count": 97,
   "metadata": {},
   "outputs": [
    {
     "name": "stdout",
     "output_type": "stream",
     "text": [
      "Andhika\n"
     ]
    }
   ],
   "source": [
    "print(nama)"
   ]
  },
  {
   "cell_type": "code",
   "execution_count": 104,
   "metadata": {},
   "outputs": [
    {
     "name": "stdout",
     "output_type": "stream",
     "text": [
      "['nasi goreng', 'ikan bakar', 'es krim', 'roti manis']\n"
     ]
    }
   ],
   "source": [
    "print(makanan_fav)"
   ]
  },
  {
   "cell_type": "code",
   "execution_count": 99,
   "metadata": {},
   "outputs": [],
   "source": [
    "from mod_andhika import nama as nama_andhika"
   ]
  },
  {
   "cell_type": "code",
   "execution_count": 100,
   "metadata": {},
   "outputs": [
    {
     "name": "stdout",
     "output_type": "stream",
     "text": [
      "Andhika\n"
     ]
    }
   ],
   "source": [
    "print(nama_andhika)"
   ]
  },
  {
   "cell_type": "code",
   "execution_count": 101,
   "metadata": {},
   "outputs": [],
   "source": [
    "import mod_andhika as ma"
   ]
  },
  {
   "cell_type": "code",
   "execution_count": 102,
   "metadata": {},
   "outputs": [
    {
     "data": {
      "text/plain": [
       "'Andhika'"
      ]
     },
     "execution_count": 102,
     "metadata": {},
     "output_type": "execute_result"
    }
   ],
   "source": [
    "ma.nama"
   ]
  },
  {
   "cell_type": "markdown",
   "metadata": {},
   "source": [
    "## dir() untuk cek namespace\n",
    "namespace adalah nama nama variable dan function dan class yang sudah kita gunakan"
   ]
  },
  {
   "cell_type": "code",
   "execution_count": 105,
   "metadata": {},
   "outputs": [
    {
     "data": {
      "text/plain": [
       "['In',\n",
       " 'Out',\n",
       " '_',\n",
       " '_102',\n",
       " '_60',\n",
       " '_65',\n",
       " '_66',\n",
       " '_67',\n",
       " '_68',\n",
       " '_69',\n",
       " '_70',\n",
       " '_74',\n",
       " '_79',\n",
       " '_81',\n",
       " '_83',\n",
       " '_84',\n",
       " '_85',\n",
       " '_86',\n",
       " '_90',\n",
       " '_91',\n",
       " '_93',\n",
       " '_95',\n",
       " '__',\n",
       " '___',\n",
       " '__builtin__',\n",
       " '__builtins__',\n",
       " '__doc__',\n",
       " '__loader__',\n",
       " '__name__',\n",
       " '__package__',\n",
       " '__spec__',\n",
       " '_dh',\n",
       " '_i',\n",
       " '_i1',\n",
       " '_i10',\n",
       " '_i100',\n",
       " '_i101',\n",
       " '_i102',\n",
       " '_i103',\n",
       " '_i104',\n",
       " '_i105',\n",
       " '_i11',\n",
       " '_i12',\n",
       " '_i13',\n",
       " '_i14',\n",
       " '_i15',\n",
       " '_i16',\n",
       " '_i17',\n",
       " '_i18',\n",
       " '_i19',\n",
       " '_i2',\n",
       " '_i20',\n",
       " '_i21',\n",
       " '_i22',\n",
       " '_i23',\n",
       " '_i24',\n",
       " '_i25',\n",
       " '_i26',\n",
       " '_i27',\n",
       " '_i28',\n",
       " '_i29',\n",
       " '_i3',\n",
       " '_i30',\n",
       " '_i31',\n",
       " '_i32',\n",
       " '_i33',\n",
       " '_i34',\n",
       " '_i35',\n",
       " '_i36',\n",
       " '_i37',\n",
       " '_i38',\n",
       " '_i39',\n",
       " '_i4',\n",
       " '_i40',\n",
       " '_i41',\n",
       " '_i42',\n",
       " '_i43',\n",
       " '_i44',\n",
       " '_i45',\n",
       " '_i46',\n",
       " '_i47',\n",
       " '_i48',\n",
       " '_i49',\n",
       " '_i5',\n",
       " '_i50',\n",
       " '_i51',\n",
       " '_i52',\n",
       " '_i53',\n",
       " '_i54',\n",
       " '_i55',\n",
       " '_i56',\n",
       " '_i57',\n",
       " '_i58',\n",
       " '_i59',\n",
       " '_i6',\n",
       " '_i60',\n",
       " '_i61',\n",
       " '_i62',\n",
       " '_i63',\n",
       " '_i64',\n",
       " '_i65',\n",
       " '_i66',\n",
       " '_i67',\n",
       " '_i68',\n",
       " '_i69',\n",
       " '_i7',\n",
       " '_i70',\n",
       " '_i71',\n",
       " '_i72',\n",
       " '_i73',\n",
       " '_i74',\n",
       " '_i75',\n",
       " '_i76',\n",
       " '_i77',\n",
       " '_i78',\n",
       " '_i79',\n",
       " '_i8',\n",
       " '_i80',\n",
       " '_i81',\n",
       " '_i82',\n",
       " '_i83',\n",
       " '_i84',\n",
       " '_i85',\n",
       " '_i86',\n",
       " '_i87',\n",
       " '_i88',\n",
       " '_i89',\n",
       " '_i9',\n",
       " '_i90',\n",
       " '_i91',\n",
       " '_i92',\n",
       " '_i93',\n",
       " '_i94',\n",
       " '_i95',\n",
       " '_i96',\n",
       " '_i97',\n",
       " '_i98',\n",
       " '_i99',\n",
       " '_ih',\n",
       " '_ii',\n",
       " '_iii',\n",
       " '_oh',\n",
       " 'cekUmur',\n",
       " 'contoh',\n",
       " 'echo',\n",
       " 'exit',\n",
       " 'get_ipython',\n",
       " 'hasil_echo',\n",
       " 'hasil_hitung',\n",
       " 'hitungArea',\n",
       " 'hitungSum',\n",
       " 'kopi_rumah',\n",
       " 'list_buah',\n",
       " 'ma',\n",
       " 'makanan_fav',\n",
       " 'mod_andhika',\n",
       " 'mod_budi',\n",
       " 'nama',\n",
       " 'nama_andhika',\n",
       " 'nambahBuah',\n",
       " 'num',\n",
       " 'quit',\n",
       " 'rumah',\n",
       " 'sapa',\n",
       " 'sapa3',\n",
       " 'sapaBanyak',\n",
       " 'sapaNama',\n",
       " 'sapaNamaWaktu',\n",
       " 'sys',\n",
       " 'tambah',\n",
       " 'umur']"
      ]
     },
     "execution_count": 105,
     "metadata": {},
     "output_type": "execute_result"
    }
   ],
   "source": [
    "dir()"
   ]
  },
  {
   "cell_type": "markdown",
   "metadata": {},
   "source": [
    "## Reloading Module"
   ]
  },
  {
   "cell_type": "code",
   "execution_count": 106,
   "metadata": {},
   "outputs": [],
   "source": [
    "import mod_andhika"
   ]
  },
  {
   "cell_type": "code",
   "execution_count": 107,
   "metadata": {},
   "outputs": [
    {
     "data": {
      "text/plain": [
       "['nasi goreng', 'ikan bakar', 'es krim', 'roti manis']"
      ]
     },
     "execution_count": 107,
     "metadata": {},
     "output_type": "execute_result"
    }
   ],
   "source": [
    "mod_andhika.makanan_fav"
   ]
  },
  {
   "cell_type": "markdown",
   "metadata": {},
   "source": [
    "module yang sudah pernah di import tidak akan di import ulang. jadi perubaham yang terjadi ke file module setelah kita import pertama kali, tidak terasa. untuk memaksa import ulang, kita gunakan importlib"
   ]
  },
  {
   "cell_type": "code",
   "execution_count": 108,
   "metadata": {},
   "outputs": [
    {
     "data": {
      "text/plain": [
       "<module 'mod_andhika' from 'C:\\\\Users\\\\stefa\\\\hacktiv\\\\PYTN\\\\70\\\\mod_andhika.py'>"
      ]
     },
     "execution_count": 108,
     "metadata": {},
     "output_type": "execute_result"
    }
   ],
   "source": [
    "import importlib\n",
    "importlib.reload(mod_andhika)"
   ]
  },
  {
   "cell_type": "code",
   "execution_count": 109,
   "metadata": {},
   "outputs": [
    {
     "data": {
      "text/plain": [
       "['nasi goreng', 'ikan bakar', 'boba']"
      ]
     },
     "execution_count": 109,
     "metadata": {},
     "output_type": "execute_result"
    }
   ],
   "source": [
    "mod_andhika.makanan_fav"
   ]
  },
  {
   "cell_type": "markdown",
   "metadata": {},
   "source": [
    "# Package\n",
    "sebuah folder yang berisi module module python dinamakan package.   \n",
    "untuk memakai module yang ada di dalam sebuah package, kita tetap harus import modulenya"
   ]
  },
  {
   "cell_type": "code",
   "execution_count": 110,
   "metadata": {},
   "outputs": [],
   "source": [
    "# contoh salah\n",
    "import pkg"
   ]
  },
  {
   "cell_type": "markdown",
   "metadata": {},
   "source": [
    "```python\n",
    "pkg.mod.notes\n",
    "```\n",
    "ini akan error karena kita tidak bisa akses module `mod` di dalam package `pkg` seperti ini. kita perlu import module nya langsung baru bisa dipakai."
   ]
  },
  {
   "cell_type": "code",
   "execution_count": 112,
   "metadata": {},
   "outputs": [],
   "source": [
    "# contoh benar\n",
    "import pkg.mod"
   ]
  },
  {
   "cell_type": "code",
   "execution_count": 113,
   "metadata": {},
   "outputs": [
    {
     "data": {
      "text/plain": [
       "'ini module mod di dalam package pkg'"
      ]
     },
     "execution_count": 113,
     "metadata": {},
     "output_type": "execute_result"
    }
   ],
   "source": [
    "pkg.mod.notes"
   ]
  },
  {
   "cell_type": "code",
   "execution_count": 114,
   "metadata": {},
   "outputs": [],
   "source": [
    "# contoh lainnya\n",
    "import pkg.mod as pm"
   ]
  },
  {
   "cell_type": "code",
   "execution_count": 115,
   "metadata": {},
   "outputs": [
    {
     "data": {
      "text/plain": [
       "'ini module mod di dalam package pkg'"
      ]
     },
     "execution_count": 115,
     "metadata": {},
     "output_type": "execute_result"
    }
   ],
   "source": [
    "pm.notes"
   ]
  },
  {
   "cell_type": "code",
   "execution_count": 116,
   "metadata": {},
   "outputs": [],
   "source": [
    "from pkg.mod import notes"
   ]
  },
  {
   "cell_type": "code",
   "execution_count": 117,
   "metadata": {},
   "outputs": [
    {
     "data": {
      "text/plain": [
       "'ini module mod di dalam package pkg'"
      ]
     },
     "execution_count": 117,
     "metadata": {},
     "output_type": "execute_result"
    }
   ],
   "source": [
    "notes"
   ]
  },
  {
   "cell_type": "code",
   "execution_count": 118,
   "metadata": {},
   "outputs": [],
   "source": [
    "from pkg.mod import notes as n"
   ]
  },
  {
   "cell_type": "code",
   "execution_count": 119,
   "metadata": {},
   "outputs": [
    {
     "data": {
      "text/plain": [
       "'ini module mod di dalam package pkg'"
      ]
     },
     "execution_count": 119,
     "metadata": {},
     "output_type": "execute_result"
    }
   ],
   "source": [
    "n"
   ]
  },
  {
   "cell_type": "markdown",
   "metadata": {},
   "source": [
    "# notes tentang package\n",
    "package python ada banyak sekali, bisa dilihat list nya di https://pypi.org/, tidak semuanya sudah ter instalasi   \n",
    "\n",
    "untuk instalasi package, kita bisa pakai `PIP`"
   ]
  },
  {
   "cell_type": "code",
   "execution_count": 120,
   "metadata": {},
   "outputs": [],
   "source": [
    "import requests # akan error jika belum di install"
   ]
  },
  {
   "cell_type": "code",
   "execution_count": 121,
   "metadata": {},
   "outputs": [
    {
     "name": "stdout",
     "output_type": "stream",
     "text": [
      "Requirement already satisfied: requests in c:\\users\\stefa\\anaconda3\\lib\\site-packages (2.24.0)\n",
      "Requirement already satisfied: urllib3!=1.25.0,!=1.25.1,<1.26,>=1.21.1 in c:\\users\\stefa\\anaconda3\\lib\\site-packages (from requests) (1.25.11)\n",
      "Requirement already satisfied: idna<3,>=2.5 in c:\\users\\stefa\\anaconda3\\lib\\site-packages (from requests) (2.10)\n",
      "Requirement already satisfied: certifi>=2017.4.17 in c:\\users\\stefa\\anaconda3\\lib\\site-packages (from requests) (2020.6.20)\n",
      "Requirement already satisfied: chardet<4,>=3.0.2 in c:\\users\\stefa\\anaconda3\\lib\\site-packages (from requests) (3.0.4)\n",
      "Note: you may need to restart the kernel to use updated packages.\n"
     ]
    }
   ],
   "source": [
    "pip install requests"
   ]
  },
  {
   "cell_type": "code",
   "execution_count": 122,
   "metadata": {},
   "outputs": [],
   "source": [
    "import requests"
   ]
  },
  {
   "cell_type": "markdown",
   "metadata": {},
   "source": [
    "bisa juga memakai `conda` jika tidak mau memakai `pip`"
   ]
  },
  {
   "cell_type": "code",
   "execution_count": null,
   "metadata": {},
   "outputs": [],
   "source": []
  }
 ],
 "metadata": {
  "kernelspec": {
   "display_name": "Python 3",
   "language": "python",
   "name": "python3"
  },
  "language_info": {
   "codemirror_mode": {
    "name": "ipython",
    "version": 3
   },
   "file_extension": ".py",
   "mimetype": "text/x-python",
   "name": "python",
   "nbconvert_exporter": "python",
   "pygments_lexer": "ipython3",
   "version": "3.8.5"
  }
 },
 "nbformat": 4,
 "nbformat_minor": 4
}
