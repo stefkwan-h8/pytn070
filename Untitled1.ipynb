{
 "cells": [
  {
   "cell_type": "code",
   "execution_count": 1,
   "id": "00321f64-78ef-4a55-8349-96211b8e8966",
   "metadata": {},
   "outputs": [],
   "source": [
    "import pickle"
   ]
  },
  {
   "cell_type": "code",
   "execution_count": 2,
   "id": "a6ce4a5a-cf3f-4ce8-88e8-15c87ef32310",
   "metadata": {},
   "outputs": [
    {
     "data": {
      "text/plain": [
       "GaussianNB()"
      ]
     },
     "execution_count": 2,
     "metadata": {},
     "output_type": "execute_result"
    }
   ],
   "source": [
    "# load file pickled yang sudah di save\n",
    "\n",
    "model = pickle.load(open('play_model.pickle', 'rb'))\n",
    "model"
   ]
  },
  {
   "cell_type": "markdown",
   "id": "1258ddbd-b344-4eb7-9f26-271fcec6d4c3",
   "metadata": {},
   "source": [
    "kita sudah tau kalau model kita ini menerima 2 input dan memberikan 1 output untuk di prediksi.\n",
    "\n",
    "input:\n",
    "- weather ['Overcast' 'Rainy' 'Sunny']\n",
    "- temp ['Cool' 'Hot' 'Mild']\n",
    "\n",
    "output:\n",
    "- play ['No' 'Yes']\n",
    "\n",
    "input dan output dalam bentuk integer 0,1,2"
   ]
  },
  {
   "cell_type": "code",
   "execution_count": 3,
   "id": "395db5c1-59dd-4ba6-8d10-15be8b5f35a5",
   "metadata": {},
   "outputs": [
    {
     "data": {
      "text/plain": [
       "array([1], dtype=int64)"
      ]
     },
     "execution_count": 3,
     "metadata": {},
     "output_type": "execute_result"
    }
   ],
   "source": [
    "# bikin prediksi kalau lagi \"Rainy\" 1, dan \"Cool\" 0, apakah orangnya akan play?\n",
    "model.predict([[1,0]])"
   ]
  },
  {
   "cell_type": "markdown",
   "id": "b80ad90e-f980-4726-b82a-f6b99d0b5f7b",
   "metadata": {},
   "source": [
    "model kita membuat prediksi 1 \"Yes\" orangnya akan play kalau lagi hujan dan dingin"
   ]
  },
  {
   "cell_type": "code",
   "execution_count": null,
   "id": "0ea58b2d-e6ad-4540-8b1f-c5f2402861c6",
   "metadata": {},
   "outputs": [],
   "source": []
  }
 ],
 "metadata": {
  "kernelspec": {
   "display_name": "Python 3 (ipykernel)",
   "language": "python",
   "name": "python3"
  },
  "language_info": {
   "codemirror_mode": {
    "name": "ipython",
    "version": 3
   },
   "file_extension": ".py",
   "mimetype": "text/x-python",
   "name": "python",
   "nbconvert_exporter": "python",
   "pygments_lexer": "ipython3",
   "version": "3.9.7"
  }
 },
 "nbformat": 4,
 "nbformat_minor": 5
}
